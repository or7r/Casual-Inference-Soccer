{
 "cells": [
  {
   "attachments": {},
   "cell_type": "markdown",
   "metadata": {},
   "source": [
    "# Data Analysis with Python"
   ]
  },
  {
   "cell_type": "code",
   "execution_count": 2,
   "metadata": {},
   "outputs": [],
   "source": [
    "import numpy as np\n",
    "import pandas as pd\n",
    "import matplotlib.pyplot as plt\n",
    "import seaborn as sns\n",
    "import re\n",
    "import os\n",
    "import json\n",
    "from tabulate import tabulate\n",
    "from sklearn.linear_model import LogisticRegression, LinearRegression\n"
   ]
  },
  {
   "cell_type": "code",
   "execution_count": 12,
   "metadata": {},
   "outputs": [
    {
     "name": "stdout",
     "output_type": "stream",
     "text": [
      "The autoreload extension is already loaded. To reload it, use:\n",
      "  %reload_ext autoreload\n"
     ]
    }
   ],
   "source": [
    "# magic\n",
    "%matplotlib inline\n",
    "%load_ext autoreload\n",
    "%autoreload 2"
   ]
  },
  {
   "cell_type": "code",
   "execution_count": 14,
   "metadata": {},
   "outputs": [
    {
     "data": {
      "text/plain": [
       "(314, 22)"
      ]
     },
     "execution_count": 14,
     "metadata": {},
     "output_type": "execute_result"
    }
   ],
   "source": [
    "from dataset_creation import create_dataset\n",
    "df = create_dataset(start_year=2013, end_year=2018)\n",
    "df.shape"
   ]
  },
  {
   "attachments": {},
   "cell_type": "markdown",
   "metadata": {},
   "source": [
    "## Data basic visualization"
   ]
  },
  {
   "cell_type": "code",
   "execution_count": 15,
   "metadata": {},
   "outputs": [
    {
     "data": {
      "text/html": [
       "<div>\n",
       "<style scoped>\n",
       "    .dataframe tbody tr th:only-of-type {\n",
       "        vertical-align: middle;\n",
       "    }\n",
       "\n",
       "    .dataframe tbody tr th {\n",
       "        vertical-align: top;\n",
       "    }\n",
       "\n",
       "    .dataframe thead th {\n",
       "        text-align: right;\n",
       "    }\n",
       "</style>\n",
       "<table border=\"1\" class=\"dataframe\">\n",
       "  <thead>\n",
       "    <tr style=\"text-align: right;\">\n",
       "      <th></th>\n",
       "      <th></th>\n",
       "      <th>salary</th>\n",
       "      <th>salary_next_year</th>\n",
       "      <th>added_salary</th>\n",
       "      <th>T</th>\n",
       "      <th>age_group</th>\n",
       "      <th>team_name</th>\n",
       "      <th>shots_per_game</th>\n",
       "      <th>goals_per_game</th>\n",
       "      <th>pass_success</th>\n",
       "      <th>rating</th>\n",
       "      <th>...</th>\n",
       "      <th>assists_per_game</th>\n",
       "      <th>age_group_next_year</th>\n",
       "      <th>team_name_next_year</th>\n",
       "      <th>shots_per_game_next_year</th>\n",
       "      <th>goals_per_game_next_year</th>\n",
       "      <th>pass_success_next_year</th>\n",
       "      <th>rating_next_year</th>\n",
       "      <th>minutes_per_game_next_year</th>\n",
       "      <th>man_of_the_match_per_game_next_year</th>\n",
       "      <th>assists_per_game_next_year</th>\n",
       "    </tr>\n",
       "    <tr>\n",
       "      <th>first_name</th>\n",
       "      <th>last_name</th>\n",
       "      <th></th>\n",
       "      <th></th>\n",
       "      <th></th>\n",
       "      <th></th>\n",
       "      <th></th>\n",
       "      <th></th>\n",
       "      <th></th>\n",
       "      <th></th>\n",
       "      <th></th>\n",
       "      <th></th>\n",
       "      <th></th>\n",
       "      <th></th>\n",
       "      <th></th>\n",
       "      <th></th>\n",
       "      <th></th>\n",
       "      <th></th>\n",
       "      <th></th>\n",
       "      <th></th>\n",
       "      <th></th>\n",
       "      <th></th>\n",
       "      <th></th>\n",
       "    </tr>\n",
       "  </thead>\n",
       "  <tbody>\n",
       "    <tr>\n",
       "      <th rowspan=\"2\" valign=\"top\">Aaron</th>\n",
       "      <th>Long</th>\n",
       "      <td>11.082143</td>\n",
       "      <td>11.199926</td>\n",
       "      <td>0.125000</td>\n",
       "      <td>True</td>\n",
       "      <td>27-30</td>\n",
       "      <td>New York</td>\n",
       "      <td>0.647059</td>\n",
       "      <td>0.029412</td>\n",
       "      <td>76.465662</td>\n",
       "      <td>6.888824</td>\n",
       "      <td>...</td>\n",
       "      <td>0.000000</td>\n",
       "      <td>27-30</td>\n",
       "      <td>New York</td>\n",
       "      <td>0.684211</td>\n",
       "      <td>0.078947</td>\n",
       "      <td>69.554849</td>\n",
       "      <td>7.077632</td>\n",
       "      <td>83.315789</td>\n",
       "      <td>0.052632</td>\n",
       "      <td>0.052632</td>\n",
       "    </tr>\n",
       "    <tr>\n",
       "      <th>Maund</th>\n",
       "      <td>11.058000</td>\n",
       "      <td>11.390187</td>\n",
       "      <td>0.394014</td>\n",
       "      <td>True</td>\n",
       "      <td>30-35</td>\n",
       "      <td>Salt Lake</td>\n",
       "      <td>0.363636</td>\n",
       "      <td>0.045455</td>\n",
       "      <td>73.575949</td>\n",
       "      <td>6.890000</td>\n",
       "      <td>...</td>\n",
       "      <td>0.045455</td>\n",
       "      <td>30-35</td>\n",
       "      <td>Salt Lake</td>\n",
       "      <td>0.250000</td>\n",
       "      <td>0.000000</td>\n",
       "      <td>79.483037</td>\n",
       "      <td>6.974000</td>\n",
       "      <td>87.300000</td>\n",
       "      <td>0.100000</td>\n",
       "      <td>0.000000</td>\n",
       "    </tr>\n",
       "    <tr>\n",
       "      <th>Adam</th>\n",
       "      <th>Moffat</th>\n",
       "      <td>11.992931</td>\n",
       "      <td>12.081690</td>\n",
       "      <td>0.092817</td>\n",
       "      <td>False</td>\n",
       "      <td>&gt;35</td>\n",
       "      <td>Houston</td>\n",
       "      <td>1.076923</td>\n",
       "      <td>0.115385</td>\n",
       "      <td>80.550285</td>\n",
       "      <td>6.672308</td>\n",
       "      <td>...</td>\n",
       "      <td>0.000000</td>\n",
       "      <td>&gt;35</td>\n",
       "      <td>FC Dallas</td>\n",
       "      <td>0.700000</td>\n",
       "      <td>0.000000</td>\n",
       "      <td>80.132450</td>\n",
       "      <td>6.543000</td>\n",
       "      <td>57.600000</td>\n",
       "      <td>0.000000</td>\n",
       "      <td>0.000000</td>\n",
       "    </tr>\n",
       "    <tr>\n",
       "      <th>Adolfo</th>\n",
       "      <th>Machado</th>\n",
       "      <td>12.285364</td>\n",
       "      <td>12.373737</td>\n",
       "      <td>0.092396</td>\n",
       "      <td>False</td>\n",
       "      <td>&gt;35</td>\n",
       "      <td>Houston</td>\n",
       "      <td>0.289474</td>\n",
       "      <td>0.000000</td>\n",
       "      <td>78.042328</td>\n",
       "      <td>6.950526</td>\n",
       "      <td>...</td>\n",
       "      <td>0.052632</td>\n",
       "      <td>&gt;35</td>\n",
       "      <td>Houston</td>\n",
       "      <td>0.238095</td>\n",
       "      <td>0.000000</td>\n",
       "      <td>80.699482</td>\n",
       "      <td>6.761905</td>\n",
       "      <td>80.761905</td>\n",
       "      <td>0.000000</td>\n",
       "      <td>0.000000</td>\n",
       "    </tr>\n",
       "    <tr>\n",
       "      <th>Alan</th>\n",
       "      <th>Gordon</th>\n",
       "      <td>12.189266</td>\n",
       "      <td>12.238862</td>\n",
       "      <td>0.050847</td>\n",
       "      <td>False</td>\n",
       "      <td>&gt;35</td>\n",
       "      <td>San Jose</td>\n",
       "      <td>1.666667</td>\n",
       "      <td>0.166667</td>\n",
       "      <td>67.918089</td>\n",
       "      <td>6.555000</td>\n",
       "      <td>...</td>\n",
       "      <td>0.083333</td>\n",
       "      <td>&gt;35</td>\n",
       "      <td>L.A. Galaxy</td>\n",
       "      <td>1.421053</td>\n",
       "      <td>0.263158</td>\n",
       "      <td>73.360656</td>\n",
       "      <td>6.668947</td>\n",
       "      <td>30.421053</td>\n",
       "      <td>0.000000</td>\n",
       "      <td>0.052632</td>\n",
       "    </tr>\n",
       "  </tbody>\n",
       "</table>\n",
       "<p>5 rows × 22 columns</p>\n",
       "</div>"
      ],
      "text/plain": [
       "                         salary  salary_next_year  added_salary      T  \\\n",
       "first_name last_name                                                     \n",
       "Aaron      Long       11.082143         11.199926      0.125000   True   \n",
       "           Maund      11.058000         11.390187      0.394014   True   \n",
       "Adam       Moffat     11.992931         12.081690      0.092817  False   \n",
       "Adolfo     Machado    12.285364         12.373737      0.092396  False   \n",
       "Alan       Gordon     12.189266         12.238862      0.050847  False   \n",
       "\n",
       "                     age_group  team_name  shots_per_game  goals_per_game  \\\n",
       "first_name last_name                                                        \n",
       "Aaron      Long          27-30   New York        0.647059        0.029412   \n",
       "           Maund         30-35  Salt Lake        0.363636        0.045455   \n",
       "Adam       Moffat          >35    Houston        1.076923        0.115385   \n",
       "Adolfo     Machado         >35    Houston        0.289474        0.000000   \n",
       "Alan       Gordon          >35   San Jose        1.666667        0.166667   \n",
       "\n",
       "                      pass_success    rating  ...  assists_per_game  \\\n",
       "first_name last_name                          ...                     \n",
       "Aaron      Long          76.465662  6.888824  ...          0.000000   \n",
       "           Maund         73.575949  6.890000  ...          0.045455   \n",
       "Adam       Moffat        80.550285  6.672308  ...          0.000000   \n",
       "Adolfo     Machado       78.042328  6.950526  ...          0.052632   \n",
       "Alan       Gordon        67.918089  6.555000  ...          0.083333   \n",
       "\n",
       "                      age_group_next_year  team_name_next_year  \\\n",
       "first_name last_name                                             \n",
       "Aaron      Long                     27-30             New York   \n",
       "           Maund                    30-35            Salt Lake   \n",
       "Adam       Moffat                     >35            FC Dallas   \n",
       "Adolfo     Machado                    >35              Houston   \n",
       "Alan       Gordon                     >35          L.A. Galaxy   \n",
       "\n",
       "                     shots_per_game_next_year goals_per_game_next_year  \\\n",
       "first_name last_name                                                     \n",
       "Aaron      Long                      0.684211                 0.078947   \n",
       "           Maund                     0.250000                 0.000000   \n",
       "Adam       Moffat                    0.700000                 0.000000   \n",
       "Adolfo     Machado                   0.238095                 0.000000   \n",
       "Alan       Gordon                    1.421053                 0.263158   \n",
       "\n",
       "                      pass_success_next_year  rating_next_year  \\\n",
       "first_name last_name                                             \n",
       "Aaron      Long                    69.554849          7.077632   \n",
       "           Maund                   79.483037          6.974000   \n",
       "Adam       Moffat                  80.132450          6.543000   \n",
       "Adolfo     Machado                 80.699482          6.761905   \n",
       "Alan       Gordon                  73.360656          6.668947   \n",
       "\n",
       "                      minutes_per_game_next_year  \\\n",
       "first_name last_name                               \n",
       "Aaron      Long                        83.315789   \n",
       "           Maund                       87.300000   \n",
       "Adam       Moffat                      57.600000   \n",
       "Adolfo     Machado                     80.761905   \n",
       "Alan       Gordon                      30.421053   \n",
       "\n",
       "                      man_of_the_match_per_game_next_year  \\\n",
       "first_name last_name                                        \n",
       "Aaron      Long                                  0.052632   \n",
       "           Maund                                 0.100000   \n",
       "Adam       Moffat                                0.000000   \n",
       "Adolfo     Machado                               0.000000   \n",
       "Alan       Gordon                                0.000000   \n",
       "\n",
       "                      assists_per_game_next_year  \n",
       "first_name last_name                              \n",
       "Aaron      Long                         0.052632  \n",
       "           Maund                        0.000000  \n",
       "Adam       Moffat                       0.000000  \n",
       "Adolfo     Machado                      0.000000  \n",
       "Alan       Gordon                       0.052632  \n",
       "\n",
       "[5 rows x 22 columns]"
      ]
     },
     "execution_count": 15,
     "metadata": {},
     "output_type": "execute_result"
    }
   ],
   "source": [
    "df.head()"
   ]
  },
  {
   "cell_type": "code",
   "execution_count": 16,
   "metadata": {},
   "outputs": [
    {
     "data": {
      "text/plain": [
       "<AxesSubplot:>"
      ]
     },
     "execution_count": 16,
     "metadata": {},
     "output_type": "execute_result"
    },
    {
     "data": {
      "image/png": "[encoded data removed]",
      "text/plain": [
       "<Figure size 432x288 with 1 Axes>"
      ]
     },
     "metadata": {
      "needs_background": "light"
     },
     "output_type": "display_data"
    }
   ],
   "source": [
    "# age group distribution in a bar chart (age group is a categorical variable)\n",
    "df[\"age_group\"].value_counts().plot(kind=\"bar\")\n"
   ]
  },
  {
   "cell_type": "code",
   "execution_count": 23,
   "metadata": {},
   "outputs": [
    {
     "name": "stdout",
     "output_type": "stream",
     "text": [
      "Correlation between added_salary and rating_next_year: -0.05\n"
     ]
    },
    {
     "data": {
      "image/png": "[encoded data removed]",
      "text/plain": [
       "<Figure size 432x288 with 1 Axes>"
      ]
     },
     "metadata": {
      "needs_background": "light"
     },
     "output_type": "display_data"
    }
   ],
   "source": [
    "# next year rating based on added_salary \n",
    "\n",
    "sns.scatterplot(x=\"added_salary\", y=\"rating_next_year\", data=df)\n",
    "\n",
    "# corr between added_salary and rating_next_year\n",
    "corr = df[[\"added_salary\", \"rating_next_year\"]].corr().loc[\"added_salary\", \"rating_next_year\"]\n",
    "print(f\"Correlation between added_salary and rating_next_year: {corr:.2f}\")"
   ]
  },
  {
   "cell_type": "code",
   "execution_count": 18,
   "metadata": {},
   "outputs": [
    {
     "data": {
      "text/plain": [
       "Text(0, 0.5, 'Count')"
      ]
     },
     "execution_count": 18,
     "metadata": {},
     "output_type": "execute_result"
    },
    {
     "data": {
      "image/png": "[encoded data removed]",
      "text/plain": [
       "<Figure size 432x288 with 1 Axes>"
      ]
     },
     "metadata": {
      "needs_background": "light"
     },
     "output_type": "display_data"
    }
   ],
   "source": [
    "# distribution of rating_next_year continuous variable\n",
    "df[\"rating_next_year\"].hist()\n",
    "plt.title(\"Distribution of rating_next_year\")\n",
    "plt.xlabel(\"Rating_next_year\")\n",
    "plt.ylabel(\"Count\")"
   ]
  },
  {
   "attachments": {},
   "cell_type": "markdown",
   "metadata": {},
   "source": [
    "## Overlap between control and treatment groups"
   ]
  },
  {
   "cell_type": "code",
   "execution_count": 50,
   "metadata": {},
   "outputs": [],
   "source": [
    "T = df[\"T\"]\n",
    "\n",
    "X = pd.get_dummies(df[[\n",
    "                       \"salary\",\n",
    "                       \"age_group\",\n",
    "                       \"team_name\",\n",
    "                       \"rating\", \n",
    "                       \"team_name_next_year\", \n",
    "                       \"shots_per_game\",\n",
    "                       \"goals_per_game\",\n",
    "                       \"pass_success\",\n",
    "                       \"minutes_per_game\",\n",
    "                       \"man_of_the_match_per_game\",\n",
    "                       ]])\n",
    "\n",
    "Y = df[\"rating_next_year\"]"
   ]
  },
  {
   "cell_type": "code",
   "execution_count": 51,
   "metadata": {},
   "outputs": [
    {
     "data": {
      "text/plain": [
       "<matplotlib.lines.Line2D at 0x7f9d5fe32130>"
      ]
     },
     "execution_count": 51,
     "metadata": {},
     "output_type": "execute_result"
    },
    {
     "data": {
      "image/png": "[encoded data removed]",
      "text/plain": [
       "<Figure size 432x288 with 1 Axes>"
      ]
     },
     "metadata": {
      "needs_background": "light"
     },
     "output_type": "display_data"
    }
   ],
   "source": [
    "# calc propensity score\n",
    "from sklearn.linear_model import LogisticRegression, LinearRegression\n",
    "\n",
    "lr = LogisticRegression(max_iter=1000000)\n",
    "lr.fit(X, T)\n",
    "ps = lr.predict_proba(X)[:, 1]\n",
    "\n",
    "# visualize propensity score\n",
    "plt.hist(ps[T == 0], bins=15, alpha=0.5, label=\"Control Group (T=0)\")\n",
    "plt.hist(ps[T == 1], bins=15, alpha=0.5, label=\"Treatment Group (T=1)\")\n",
    "plt.legend()\n",
    "\n",
    "\n",
    "# x line\n",
    "low_threshold = 0.15 \n",
    "high_threshold = 0.88\n",
    "plt.axvline(low_threshold, color=\"red\")\n",
    "plt.axvline(high_threshold, color=\"red\")\n"
   ]
  },
  {
   "cell_type": "code",
   "execution_count": 52,
   "metadata": {},
   "outputs": [],
   "source": [
    "# trim outliers\n",
    "X = X[(ps > low_threshold) & (ps < high_threshold)]\n",
    "T = T[(ps > low_threshold) & (ps < high_threshold)]\n",
    "Y = Y[(ps > low_threshold) & (ps < high_threshold)]\n",
    "ps = ps[(ps > low_threshold) & (ps < high_threshold)]"
   ]
  },
  {
   "cell_type": "code",
   "execution_count": 53,
   "metadata": {},
   "outputs": [
    {
     "data": {
      "text/plain": [
       "<matplotlib.legend.Legend at 0x7f9d7d88ee80>"
      ]
     },
     "execution_count": 53,
     "metadata": {},
     "output_type": "execute_result"
    },
    {
     "data": {
      "image/png": "[encoded data removed]",
      "text/plain": [
       "<Figure size 432x288 with 1 Axes>"
      ]
     },
     "metadata": {
      "needs_background": "light"
     },
     "output_type": "display_data"
    }
   ],
   "source": [
    "# Propensity after trimming\n",
    "plt.hist(ps[T == 0], bins=15, alpha=0.5, label=\"Control Group (T=0)\")\n",
    "plt.hist(ps[T == 1], bins=15, alpha=0.5, label=\"Treatment Group (T=1)\")\n",
    "plt.legend()\n"
   ]
  },
  {
   "cell_type": "code",
   "execution_count": 54,
   "metadata": {},
   "outputs": [],
   "source": [
    "data = X\n",
    "data[\"T\"] = T\n",
    "data[\"Y\"] = Y"
   ]
  },
  {
   "attachments": {},
   "cell_type": "markdown",
   "metadata": {},
   "source": [
    "## Analysis"
   ]
  },
  {
   "cell_type": "code",
   "execution_count": 55,
   "metadata": {},
   "outputs": [],
   "source": [
    "from calc_ate import calculate_ATE\n",
    "\n",
    "\n",
    "# estimate variance using bootstrap\n",
    "def estimate_std(data, method=\"IPW\", n_iter=1000, random_state=0, sample_size=None):\n",
    "    np.random.seed(random_state)\n",
    "\n",
    "    if sample_size is None:\n",
    "        sample_size = len(data)\n",
    "\n",
    "    ate_list = []\n",
    "    for _ in range(n_iter):\n",
    "        idx = np.random.choice(data.index, size=sample_size, replace=True)\n",
    "        ate_list.append(calculate_ATE(data.loc[idx], method=method))\n",
    "\n",
    "    ate_list = np.array(ate_list)\n",
    "    return ate_list.std()\n",
    "\n",
    "def estimate_ci(data, method=\"IPW\", n_iter=1000, random_state=0, sample_size=None, alpha=0.05):\n",
    "    np.random.seed(random_state)\n",
    "\n",
    "    if sample_size is None:\n",
    "        sample_size = len(data)\n",
    "    \n",
    "    ate_list = []\n",
    "    for _ in range(n_iter):\n",
    "        idx = np.random.choice(data.index, size=sample_size, replace=True)\n",
    "        ate_list.append(calculate_ATE(data.loc[idx], method=method))\n",
    "    \n",
    "    ate_list = np.array(ate_list)\n",
    "    ate_list.sort()\n",
    "    lower = ate_list[int(n_iter * alpha / 2)]\n",
    "    upper = ate_list[int(n_iter * (1 - alpha / 2))]\n",
    "    return lower, upper\n",
    "\n"
   ]
  },
  {
   "cell_type": "code",
   "execution_count": 56,
   "metadata": {},
   "outputs": [
    {
     "name": "stdout",
     "output_type": "stream",
     "text": [
      "|           |        ATE |      Std | ATE (0.95% CI)   |\n",
      "|-----------|------------|----------|------------------|\n",
      "| IPW       | -0.201607  | 6.33126  | [-20.537, 1.965] |\n",
      "| S-learner |  0.0105027 | 0.135736 | [-0.245, 0.282]  |\n",
      "| T-learner |  0.0234475 | 0.97601  | [-0.572, 0.489]  |\n",
      "| matching  |  0         | 0        | [0.000, 0.000]   |\n"
     ]
    }
   ],
   "source": [
    "# tabulate all results\n",
    "methods = [\"IPW\", \"S-learner\", \"T-learner\", \"matching\"]\n",
    "results = pd.DataFrame(index=methods, columns=[\"ATE\", \"Std\"])\n",
    "\n",
    "for method in methods:\n",
    "    results.loc[method, \"ATE\"] = calculate_ATE(data, method=method)\n",
    "    results.loc[method, \"Std\"] = estimate_std(data, method=method, n_iter=500, sample_size=50)\n",
    "\n",
    "    alpha = 0.05\n",
    "\n",
    "    # calculate confidence interval\n",
    "    lower, upper = estimate_ci(data, method=method, n_iter=500, sample_size=50, alpha=alpha)\n",
    "    results.loc[method, f\"ATE ({1 - alpha}% CI)\"] = f\"[{lower:.3f}, {upper:.3f}]\"\n",
    "\n",
    "    # results.loc[method, \"ATE (95% CI)\"] = f\"{results.loc[method, 'ATE']:.3f} ± {1.96 * results.loc[method, 'std']:.3f}\"\n",
    "\n",
    "print(tabulate(results, headers=\"keys\", tablefmt=\"github\"))"
   ]
  },
  {
   "cell_type": "code",
   "execution_count": null,
   "metadata": {},
   "outputs": [],
   "source": []
  }
 ],
 "metadata": {
  "kernelspec": {
   "display_name": "Python 3",
   "language": "python",
   "name": "python3"
  },
  "language_info": {
   "codemirror_mode": {
    "name": "ipython",
    "version": 3
   },
   "file_extension": ".py",
   "mimetype": "text/x-python",
   "name": "python",
   "nbconvert_exporter": "python",
   "pygments_lexer": "ipython3",
   "version": "3.8.10"
  },
  "orig_nbformat": 4,
  "vscode": {
   "interpreter": {
    "hash": "31f2aee4e71d21fbe5cf8b01ff0e069b9275f58929596ceb00d14d90e3e16cd6"
   }
  }
 },
 "nbformat": 4,
 "nbformat_minor": 2
}
