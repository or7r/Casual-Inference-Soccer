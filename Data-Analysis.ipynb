{
 "cells": [
  {
   "attachments": {},
   "cell_type": "markdown",
   "metadata": {},
   "source": [
    "# Data Analysis with Python"
   ]
  },
  {
   "cell_type": "code",
   "execution_count": 1,
   "metadata": {},
   "outputs": [],
   "source": [
    "import numpy as np\n",
    "import pandas as pd\n",
    "import matplotlib.pyplot as plt\n",
    "import seaborn as sns\n",
    "import re\n",
    "import os\n",
    "import json\n",
    "from tabulate import tabulate\n",
    "from sklearn.preprocessing import StandardScaler, MinMaxScaler\n",
    "from sklearn.linear_model import LogisticRegression, LinearRegression\n"
   ]
  },
  {
   "cell_type": "code",
   "execution_count": 2,
   "metadata": {},
   "outputs": [],
   "source": [
    "# magic\n",
    "%matplotlib inline\n",
    "%load_ext autoreload\n",
    "%autoreload 2"
   ]
  },
  {
   "cell_type": "code",
   "execution_count": 3,
   "metadata": {},
   "outputs": [
    {
     "data": {
      "text/plain": [
       "(314, 22)"
      ]
     },
     "execution_count": 3,
     "metadata": {},
     "output_type": "execute_result"
    }
   ],
   "source": [
    "from dataset_creation import create_dataset\n",
    "df = create_dataset(start_year=2013, end_year=2018)\n",
    "df.shape"
   ]
  },
  {
   "attachments": {},
   "cell_type": "markdown",
   "metadata": {},
   "source": [
    "## Data basic visualization"
   ]
  },
  {
   "cell_type": "code",
   "execution_count": 4,
   "metadata": {},
   "outputs": [
    {
     "data": {
      "text/html": [
       "<div>\n",
       "<style scoped>\n",
       "    .dataframe tbody tr th:only-of-type {\n",
       "        vertical-align: middle;\n",
       "    }\n",
       "\n",
       "    .dataframe tbody tr th {\n",
       "        vertical-align: top;\n",
       "    }\n",
       "\n",
       "    .dataframe thead th {\n",
       "        text-align: right;\n",
       "    }\n",
       "</style>\n",
       "<table border=\"1\" class=\"dataframe\">\n",
       "  <thead>\n",
       "    <tr style=\"text-align: right;\">\n",
       "      <th></th>\n",
       "      <th></th>\n",
       "      <th>salary</th>\n",
       "      <th>salary_next_year</th>\n",
       "      <th>added_salary</th>\n",
       "      <th>T</th>\n",
       "      <th>age_group</th>\n",
       "      <th>team_name</th>\n",
       "      <th>shots_per_game</th>\n",
       "      <th>goals_per_game</th>\n",
       "      <th>pass_success</th>\n",
       "      <th>rating</th>\n",
       "      <th>...</th>\n",
       "      <th>assists_per_game</th>\n",
       "      <th>age_group_next_year</th>\n",
       "      <th>team_name_next_year</th>\n",
       "      <th>shots_per_game_next_year</th>\n",
       "      <th>goals_per_game_next_year</th>\n",
       "      <th>pass_success_next_year</th>\n",
       "      <th>rating_next_year</th>\n",
       "      <th>minutes_per_game_next_year</th>\n",
       "      <th>man_of_the_match_per_game_next_year</th>\n",
       "      <th>assists_per_game_next_year</th>\n",
       "    </tr>\n",
       "    <tr>\n",
       "      <th>first_name</th>\n",
       "      <th>last_name</th>\n",
       "      <th></th>\n",
       "      <th></th>\n",
       "      <th></th>\n",
       "      <th></th>\n",
       "      <th></th>\n",
       "      <th></th>\n",
       "      <th></th>\n",
       "      <th></th>\n",
       "      <th></th>\n",
       "      <th></th>\n",
       "      <th></th>\n",
       "      <th></th>\n",
       "      <th></th>\n",
       "      <th></th>\n",
       "      <th></th>\n",
       "      <th></th>\n",
       "      <th></th>\n",
       "      <th></th>\n",
       "      <th></th>\n",
       "      <th></th>\n",
       "      <th></th>\n",
       "    </tr>\n",
       "  </thead>\n",
       "  <tbody>\n",
       "    <tr>\n",
       "      <th rowspan=\"2\" valign=\"top\">Aaron</th>\n",
       "      <th>Long</th>\n",
       "      <td>11.082143</td>\n",
       "      <td>11.199926</td>\n",
       "      <td>0.125000</td>\n",
       "      <td>True</td>\n",
       "      <td>27-30</td>\n",
       "      <td>New York</td>\n",
       "      <td>0.647059</td>\n",
       "      <td>0.029412</td>\n",
       "      <td>76.465662</td>\n",
       "      <td>6.888824</td>\n",
       "      <td>...</td>\n",
       "      <td>0.000000</td>\n",
       "      <td>27-30</td>\n",
       "      <td>New York</td>\n",
       "      <td>0.684211</td>\n",
       "      <td>0.078947</td>\n",
       "      <td>69.554849</td>\n",
       "      <td>7.077632</td>\n",
       "      <td>83.315789</td>\n",
       "      <td>0.052632</td>\n",
       "      <td>0.052632</td>\n",
       "    </tr>\n",
       "    <tr>\n",
       "      <th>Maund</th>\n",
       "      <td>11.058000</td>\n",
       "      <td>11.390187</td>\n",
       "      <td>0.394014</td>\n",
       "      <td>True</td>\n",
       "      <td>30-35</td>\n",
       "      <td>Salt Lake</td>\n",
       "      <td>0.363636</td>\n",
       "      <td>0.045455</td>\n",
       "      <td>73.575949</td>\n",
       "      <td>6.890000</td>\n",
       "      <td>...</td>\n",
       "      <td>0.045455</td>\n",
       "      <td>30-35</td>\n",
       "      <td>Salt Lake</td>\n",
       "      <td>0.250000</td>\n",
       "      <td>0.000000</td>\n",
       "      <td>79.483037</td>\n",
       "      <td>6.974000</td>\n",
       "      <td>87.300000</td>\n",
       "      <td>0.100000</td>\n",
       "      <td>0.000000</td>\n",
       "    </tr>\n",
       "    <tr>\n",
       "      <th>Adam</th>\n",
       "      <th>Moffat</th>\n",
       "      <td>11.992931</td>\n",
       "      <td>12.081690</td>\n",
       "      <td>0.092817</td>\n",
       "      <td>False</td>\n",
       "      <td>&gt;35</td>\n",
       "      <td>Houston</td>\n",
       "      <td>1.076923</td>\n",
       "      <td>0.115385</td>\n",
       "      <td>80.550285</td>\n",
       "      <td>6.672308</td>\n",
       "      <td>...</td>\n",
       "      <td>0.000000</td>\n",
       "      <td>&gt;35</td>\n",
       "      <td>FC Dallas</td>\n",
       "      <td>0.700000</td>\n",
       "      <td>0.000000</td>\n",
       "      <td>80.132450</td>\n",
       "      <td>6.543000</td>\n",
       "      <td>57.600000</td>\n",
       "      <td>0.000000</td>\n",
       "      <td>0.000000</td>\n",
       "    </tr>\n",
       "    <tr>\n",
       "      <th>Adolfo</th>\n",
       "      <th>Machado</th>\n",
       "      <td>12.285364</td>\n",
       "      <td>12.373737</td>\n",
       "      <td>0.092396</td>\n",
       "      <td>False</td>\n",
       "      <td>&gt;35</td>\n",
       "      <td>Houston</td>\n",
       "      <td>0.289474</td>\n",
       "      <td>0.000000</td>\n",
       "      <td>78.042328</td>\n",
       "      <td>6.950526</td>\n",
       "      <td>...</td>\n",
       "      <td>0.052632</td>\n",
       "      <td>&gt;35</td>\n",
       "      <td>Houston</td>\n",
       "      <td>0.238095</td>\n",
       "      <td>0.000000</td>\n",
       "      <td>80.699482</td>\n",
       "      <td>6.761905</td>\n",
       "      <td>80.761905</td>\n",
       "      <td>0.000000</td>\n",
       "      <td>0.000000</td>\n",
       "    </tr>\n",
       "    <tr>\n",
       "      <th>Alan</th>\n",
       "      <th>Gordon</th>\n",
       "      <td>12.189266</td>\n",
       "      <td>12.238862</td>\n",
       "      <td>0.050847</td>\n",
       "      <td>False</td>\n",
       "      <td>&gt;35</td>\n",
       "      <td>San Jose</td>\n",
       "      <td>1.666667</td>\n",
       "      <td>0.166667</td>\n",
       "      <td>67.918089</td>\n",
       "      <td>6.555000</td>\n",
       "      <td>...</td>\n",
       "      <td>0.083333</td>\n",
       "      <td>&gt;35</td>\n",
       "      <td>L.A. Galaxy</td>\n",
       "      <td>1.421053</td>\n",
       "      <td>0.263158</td>\n",
       "      <td>73.360656</td>\n",
       "      <td>6.668947</td>\n",
       "      <td>30.421053</td>\n",
       "      <td>0.000000</td>\n",
       "      <td>0.052632</td>\n",
       "    </tr>\n",
       "  </tbody>\n",
       "</table>\n",
       "<p>5 rows × 22 columns</p>\n",
       "</div>"
      ],
      "text/plain": [
       "                         salary  salary_next_year  added_salary      T  \\\n",
       "first_name last_name                                                     \n",
       "Aaron      Long       11.082143         11.199926      0.125000   True   \n",
       "           Maund      11.058000         11.390187      0.394014   True   \n",
       "Adam       Moffat     11.992931         12.081690      0.092817  False   \n",
       "Adolfo     Machado    12.285364         12.373737      0.092396  False   \n",
       "Alan       Gordon     12.189266         12.238862      0.050847  False   \n",
       "\n",
       "                     age_group  team_name  shots_per_game  goals_per_game  \\\n",
       "first_name last_name                                                        \n",
       "Aaron      Long          27-30   New York        0.647059        0.029412   \n",
       "           Maund         30-35  Salt Lake        0.363636        0.045455   \n",
       "Adam       Moffat          >35    Houston        1.076923        0.115385   \n",
       "Adolfo     Machado         >35    Houston        0.289474        0.000000   \n",
       "Alan       Gordon          >35   San Jose        1.666667        0.166667   \n",
       "\n",
       "                      pass_success    rating  ...  assists_per_game  \\\n",
       "first_name last_name                          ...                     \n",
       "Aaron      Long          76.465662  6.888824  ...          0.000000   \n",
       "           Maund         73.575949  6.890000  ...          0.045455   \n",
       "Adam       Moffat        80.550285  6.672308  ...          0.000000   \n",
       "Adolfo     Machado       78.042328  6.950526  ...          0.052632   \n",
       "Alan       Gordon        67.918089  6.555000  ...          0.083333   \n",
       "\n",
       "                      age_group_next_year  team_name_next_year  \\\n",
       "first_name last_name                                             \n",
       "Aaron      Long                     27-30             New York   \n",
       "           Maund                    30-35            Salt Lake   \n",
       "Adam       Moffat                     >35            FC Dallas   \n",
       "Adolfo     Machado                    >35              Houston   \n",
       "Alan       Gordon                     >35          L.A. Galaxy   \n",
       "\n",
       "                     shots_per_game_next_year goals_per_game_next_year  \\\n",
       "first_name last_name                                                     \n",
       "Aaron      Long                      0.684211                 0.078947   \n",
       "           Maund                     0.250000                 0.000000   \n",
       "Adam       Moffat                    0.700000                 0.000000   \n",
       "Adolfo     Machado                   0.238095                 0.000000   \n",
       "Alan       Gordon                    1.421053                 0.263158   \n",
       "\n",
       "                      pass_success_next_year  rating_next_year  \\\n",
       "first_name last_name                                             \n",
       "Aaron      Long                    69.554849          7.077632   \n",
       "           Maund                   79.483037          6.974000   \n",
       "Adam       Moffat                  80.132450          6.543000   \n",
       "Adolfo     Machado                 80.699482          6.761905   \n",
       "Alan       Gordon                  73.360656          6.668947   \n",
       "\n",
       "                      minutes_per_game_next_year  \\\n",
       "first_name last_name                               \n",
       "Aaron      Long                        83.315789   \n",
       "           Maund                       87.300000   \n",
       "Adam       Moffat                      57.600000   \n",
       "Adolfo     Machado                     80.761905   \n",
       "Alan       Gordon                      30.421053   \n",
       "\n",
       "                      man_of_the_match_per_game_next_year  \\\n",
       "first_name last_name                                        \n",
       "Aaron      Long                                  0.052632   \n",
       "           Maund                                 0.100000   \n",
       "Adam       Moffat                                0.000000   \n",
       "Adolfo     Machado                               0.000000   \n",
       "Alan       Gordon                                0.000000   \n",
       "\n",
       "                      assists_per_game_next_year  \n",
       "first_name last_name                              \n",
       "Aaron      Long                         0.052632  \n",
       "           Maund                        0.000000  \n",
       "Adam       Moffat                       0.000000  \n",
       "Adolfo     Machado                      0.000000  \n",
       "Alan       Gordon                       0.052632  \n",
       "\n",
       "[5 rows x 22 columns]"
      ]
     },
     "execution_count": 4,
     "metadata": {},
     "output_type": "execute_result"
    }
   ],
   "source": [
    "df.head()"
   ]
  },
  {
   "cell_type": "code",
   "execution_count": 5,
   "metadata": {},
   "outputs": [
    {
     "data": {
      "image/png": "[encoded data removed]",
      "text/plain": [
       "<Figure size 432x288 with 1 Axes>"
      ]
     },
     "metadata": {
      "needs_background": "light"
     },
     "output_type": "display_data"
    }
   ],
   "source": [
    "# age group distribution in a bar chart (age group is a categorical variable)\n",
    "df[\"age_group\"].value_counts().plot(kind=\"bar\")\n",
    "plt.xlabel(\"Age Group\")\n",
    "plt.ylabel(\"Count\")\n",
    "\n",
    "# reverse the x axis\n",
    "plt.gca().invert_xaxis()\n",
    "\n"
   ]
  },
  {
   "cell_type": "code",
   "execution_count": 6,
   "metadata": {},
   "outputs": [
    {
     "data": {
      "text/plain": [
       "Text(0, 0.5, 'Team Name')"
      ]
     },
     "execution_count": 6,
     "metadata": {},
     "output_type": "execute_result"
    },
    {
     "data": {
      "image/png": "[encoded data removed]",
      "text/plain": [
       "<Figure size 432x288 with 1 Axes>"
      ]
     },
     "metadata": {
      "needs_background": "light"
     },
     "output_type": "display_data"
    }
   ],
   "source": [
    "# team distribution in a bar chart (team is a categorical variable)\n",
    "df[\"team_name\"].value_counts().plot(kind=\"barh\")\n",
    "plt.xlabel(\"Count\")\n",
    "plt.ylabel(\"Team Name\")"
   ]
  },
  {
   "cell_type": "code",
   "execution_count": 7,
   "metadata": {},
   "outputs": [
    {
     "name": "stdout",
     "output_type": "stream",
     "text": [
      "Correlation between added_salary and rating_next_year: -0.05\n"
     ]
    },
    {
     "data": {
      "image/png": "[encoded data removed]",
      "text/plain": [
       "<Figure size 432x288 with 1 Axes>"
      ]
     },
     "metadata": {
      "needs_background": "light"
     },
     "output_type": "display_data"
    }
   ],
   "source": [
    "# next year rating based on added_salary \n",
    "\n",
    "sns.scatterplot(x=\"added_salary\", y=\"rating_next_year\", data=df)\n",
    "\n",
    "# corr between added_salary and rating_next_year\n",
    "corr = df[[\"added_salary\", \"rating_next_year\"]].corr().loc[\"added_salary\", \"rating_next_year\"]\n",
    "print(f\"Correlation between added_salary and rating_next_year: {corr:.2f}\")"
   ]
  },
  {
   "cell_type": "code",
   "execution_count": 8,
   "metadata": {},
   "outputs": [
    {
     "data": {
      "text/plain": [
       "Text(0, 0.5, 'Count')"
      ]
     },
     "execution_count": 8,
     "metadata": {},
     "output_type": "execute_result"
    },
    {
     "data": {
      "image/png": "[encoded data removed]",
      "text/plain": [
       "<Figure size 432x288 with 1 Axes>"
      ]
     },
     "metadata": {
      "needs_background": "light"
     },
     "output_type": "display_data"
    }
   ],
   "source": [
    "# distribution of rating_next_year continuous variable\n",
    "df[\"rating_next_year\"].hist()\n",
    "plt.title(\"Distribution of rating_next_year\")\n",
    "plt.xlabel(\"Rating_next_year\")\n",
    "plt.ylabel(\"Count\")"
   ]
  },
  {
   "attachments": {},
   "cell_type": "markdown",
   "metadata": {},
   "source": [
    "## Overlap between control and treatment groups"
   ]
  },
  {
   "cell_type": "code",
   "execution_count": 9,
   "metadata": {},
   "outputs": [],
   "source": [
    "T = df[\"T\"]\n",
    "\n",
    "X = pd.get_dummies(df[[\n",
    "                       \"salary\",\n",
    "                    #    \"age_group\",\n",
    "                       \"team_name\",\n",
    "                       \"rating\", \n",
    "                       \"team_name_next_year\", \n",
    "                       \"shots_per_game\",\n",
    "                       \"goals_per_game\",\n",
    "                       \"pass_success\",\n",
    "                       \"minutes_per_game\",\n",
    "                       \"man_of_the_match_per_game\",\n",
    "                       ]])\n",
    "\n",
    "# \n",
    "X[\"age\"] = df[\"age_group\"].map({\"20-27\": 23, \"27-30\": 28, \"30-35\": 32, \">35\": 36})\n",
    "\n",
    "columns = X.columns\n",
    "index = X.index\n",
    "# normalize the data\n",
    "scaler = StandardScaler()\n",
    "# scaler = MinMaxScaler()\n",
    "X = scaler.fit_transform(X)\n",
    "\n",
    "# convert back to dataframe\n",
    "X = pd.DataFrame(X, columns=columns, index=index)\n",
    "\n",
    "\n",
    "\n",
    "\n",
    "\n",
    "Y = df[\"rating_next_year\"]"
   ]
  },
  {
   "cell_type": "code",
   "execution_count": 10,
   "metadata": {},
   "outputs": [
    {
     "data": {
      "text/plain": [
       "<matplotlib.lines.Line2D at 0x7ff8a3b136a0>"
      ]
     },
     "execution_count": 10,
     "metadata": {},
     "output_type": "execute_result"
    },
    {
     "data": {
      "image/png": "[encoded data removed]",
      "text/plain": [
       "<Figure size 432x288 with 1 Axes>"
      ]
     },
     "metadata": {
      "needs_background": "light"
     },
     "output_type": "display_data"
    }
   ],
   "source": [
    "# calc propensity score\n",
    "from sklearn.linear_model import LogisticRegression, LinearRegression\n",
    "\n",
    "lr = LogisticRegression(max_iter=1000000)\n",
    "lr.fit(X, T)\n",
    "ps = lr.predict_proba(X)[:, 1]\n",
    "\n",
    "# visualize propensity score\n",
    "plt.hist(ps[T == 0], bins=25, alpha=0.5, label=\"Control Group (T=0)\")\n",
    "plt.hist(ps[T == 1], bins=25, alpha=0.5, label=\"Treatment Group (T=1)\")\n",
    "plt.legend()\n",
    "# plt.title(\"Propensity Score before trimming\")\n",
    "plt.ylabel(\"Count\")\n",
    "plt.xlabel(\"Propensity Score\")\n",
    "\n",
    "\n",
    "\n",
    "# x line\n",
    "low_threshold = 0.2\n",
    "high_threshold = 0.9\n",
    "plt.axvline(low_threshold, color=\"red\")\n",
    "plt.axvline(high_threshold, color=\"red\")"
   ]
  },
  {
   "cell_type": "code",
   "execution_count": 11,
   "metadata": {},
   "outputs": [
    {
     "data": {
      "text/plain": [
       "(0.004576635956475114, 0.9960474761901558)"
      ]
     },
     "execution_count": 11,
     "metadata": {},
     "output_type": "execute_result"
    }
   ],
   "source": [
    "ps.min(), ps.max()"
   ]
  },
  {
   "cell_type": "code",
   "execution_count": 12,
   "metadata": {},
   "outputs": [],
   "source": [
    "# trim outliers\n",
    "X = X[(ps > low_threshold) & (ps < high_threshold)]\n",
    "T = T[(ps > low_threshold) & (ps < high_threshold)]\n",
    "Y = Y[(ps > low_threshold) & (ps < high_threshold)]\n",
    "df = df[(ps > low_threshold) & (ps < high_threshold)]\n",
    "ps = ps[(ps > low_threshold) & (ps < high_threshold)]"
   ]
  },
  {
   "cell_type": "code",
   "execution_count": 13,
   "metadata": {},
   "outputs": [
    {
     "data": {
      "text/plain": [
       "<matplotlib.legend.Legend at 0x7ff8a3bb7b80>"
      ]
     },
     "execution_count": 13,
     "metadata": {},
     "output_type": "execute_result"
    },
    {
     "data": {
      "image/png": "[encoded data removed]",
      "text/plain": [
       "<Figure size 432x288 with 1 Axes>"
      ]
     },
     "metadata": {
      "needs_background": "light"
     },
     "output_type": "display_data"
    }
   ],
   "source": [
    "# Propensity after trimming\n",
    "plt.hist(ps[T == 0], bins=15, alpha=0.5, label=\"Control Group (T=0)\")\n",
    "plt.hist(ps[T == 1], bins=15, alpha=0.5, label=\"Treatment Group (T=1)\")\n",
    "plt.legend()\n"
   ]
  },
  {
   "cell_type": "code",
   "execution_count": 14,
   "metadata": {},
   "outputs": [],
   "source": [
    "data = X\n",
    "data[\"T\"] = T\n",
    "data[\"Y\"] = Y"
   ]
  },
  {
   "attachments": {},
   "cell_type": "markdown",
   "metadata": {},
   "source": [
    "## Analysis"
   ]
  },
  {
   "cell_type": "code",
   "execution_count": 21,
   "metadata": {},
   "outputs": [],
   "source": [
    "from calc_ate import calculate_ATE\n",
    "\n",
    "\n",
    "# estimate variance using bootstrap\n",
    "def estimate_std(data, method=\"IPW\", n_iter=1000, random_state=0, sample_size=None, **kwargs):\n",
    "    np.random.seed(random_state)\n",
    "\n",
    "    if sample_size is None:\n",
    "        sample_size = len(data)\n",
    "\n",
    "    ate_list = []\n",
    "    for _ in range(n_iter):\n",
    "        idx = np.random.choice(data.index, size=sample_size, replace=True)\n",
    "        ate_list.append(calculate_ATE(data.loc[idx], method=method, **kwargs))\n",
    "\n",
    "    ate_list = np.array(ate_list)\n",
    "    return ate_list.std()\n",
    "\n",
    "def estimate_ci(data, method=\"IPW\", n_iter=1000, random_state=0, sample_size=None, alpha=0.05, **kwargs):\n",
    "    np.random.seed(random_state)\n",
    "\n",
    "    if sample_size is None:\n",
    "        sample_size = len(data)\n",
    "    \n",
    "    ate_list = []\n",
    "    for _ in range(n_iter):\n",
    "        idx = np.random.choice(data.index, size=sample_size, replace=True)\n",
    "        ate_list.append(calculate_ATE(data.loc[idx], method=method, **kwargs))\n",
    "    \n",
    "    ate_list = np.array(ate_list)\n",
    "    # ate_list.sort()\n",
    "    # lower = ate_list[int(n_iter * alpha / 2)]\n",
    "    # upper = ate_list[int(n_iter * (1 - alpha / 2))]\n",
    "\n",
    "    lower, upper = np.quantile(ate_list, [alpha / 2, 1 - alpha / 2])\n",
    "\n",
    "    return lower, upper\n",
    "\n",
    "def estimate_model_error(data, method=\"IPW\", n_iter=1000, random_state=0, sample_size=None, **kwargs):\n",
    "    np.random.seed(random_state)\n",
    "\n",
    "    if sample_size is None:\n",
    "        sample_size = len(data)\n",
    "\n",
    "    error_list = []\n",
    "    for _ in range(n_iter):\n",
    "        idx = np.random.choice(data.index, size=sample_size, replace=True)\n",
    "        test_data = data.loc[data.index.difference(idx)]\n",
    "        _, error = calculate_ATE(data.loc[idx], method=method, test_data=test_data ,**kwargs)\n",
    "        error_list.append(error)\n",
    "\n",
    "\n",
    "    return np.array(error_list).mean()\n",
    "\n"
   ]
  },
  {
   "cell_type": "code",
   "execution_count": 22,
   "metadata": {},
   "outputs": [],
   "source": [
    "def calc_method_results(data, method=\"IPW\", n_iter=1000, random_state=0, sample_size=None, alpha=0.05, **kwargs):\n",
    "    ate = calculate_ATE(data, method=method, **kwargs)\n",
    "    if isinstance(ate, tuple):\n",
    "        ate, error = ate\n",
    "    ate_std = estimate_std(data, \n",
    "                           method=method, \n",
    "                           n_iter=n_iter, \n",
    "                           random_state=random_state, \n",
    "                           sample_size=sample_size,\n",
    "                           **kwargs)\n",
    "    ate_ci_lower, ate_ci_upper = estimate_ci(data, \n",
    "                                             method=method, \n",
    "                                             n_iter=n_iter, \n",
    "                                             random_state=random_state, \n",
    "                                             sample_size=sample_size, \n",
    "                                             alpha=alpha,\n",
    "                                             **kwargs)\n",
    "    res = [ate, ate_std, ate_ci_lower, ate_ci_upper]\n",
    "\n",
    "    if kwargs.get(\"calc_error\", False):\n",
    "        error = estimate_model_error(data, \n",
    "                                     method=method, \n",
    "                                     n_iter=n_iter, \n",
    "                                     random_state=random_state, \n",
    "                                     sample_size=sample_size,\n",
    "                                     **kwargs)\n",
    "        res.append(error)\n",
    "\n",
    "\n",
    "    return res\n",
    "\n",
    "def calc_all_results(data, methods, n_iter=100, sample_size=50, **kwargs):\n",
    "    results = []\n",
    "    headers = [\"Method\", \"ATE\", \"ATE Std\", f\"ATE (95% CI)\"]\n",
    "\n",
    "    if kwargs.get(\"calc_error\", False):\n",
    "        headers.append(\"Model Error\")\n",
    "    \n",
    "    for method in methods:\n",
    "        res = calc_method_results(data, method=method, n_iter=n_iter, sample_size=sample_size, **kwargs)\n",
    "        if kwargs.get(\"calc_error\", False):\n",
    "            ate, ate_std, ate_ci_lower, ate_ci_upper, error = res\n",
    "        else:\n",
    "            ate, ate_std, ate_ci_lower, ate_ci_upper = res\n",
    "        \n",
    "        method_results = [method, f\"{ate:.4f}\", f\"{ate_std:.3f}\", f\"({ate_ci_lower:.3f}, {ate_ci_upper:.3f})\"]\n",
    "\n",
    "        if kwargs.get(\"calc_error\", False):\n",
    "            method_results.append(f\"{error:.3f}\")\n",
    "\n",
    "        results.append(method_results)\n",
    "\n",
    "    \n",
    "    return results, headers"
   ]
  },
  {
   "attachments": {},
   "cell_type": "markdown",
   "metadata": {},
   "source": [
    "### Model Type Analysis"
   ]
  },
  {
   "cell_type": "code",
   "execution_count": null,
   "metadata": {},
   "outputs": [],
   "source": [
    "from sklearn.ensemble import GradientBoostingRegressor, RandomForestRegressor\n",
    "from sklearn.linear_model import Ridge\n",
    "\n",
    "\n",
    "methods = [\"S-learner\"] * 3\n",
    "model_type = [Ridge(1e-5), RandomForestRegressor(), GradientBoostingRegressor()]\n",
    "\n",
    "results_list = []\n",
    "\n",
    "for method, model in zip(methods, model_type):\n",
    "    results, headers = calc_all_results(data, [method], n_iter=500, sample_size=50, model_type=model, calc_error=True)\n",
    "    result = results[0]\n",
    "    result.insert(1, model)\n",
    "    results_list.append(results[0])   \n",
    "\n",
    "headers.insert(1, \"Model Type\") \n",
    "\n",
    "print(tabulate(results_list, headers=headers, tablefmt=\"raw\"))"
   ]
  },
  {
   "cell_type": "code",
   "execution_count": 36,
   "metadata": {},
   "outputs": [
    {
     "name": "stdout",
     "output_type": "stream",
     "text": [
      "| Method    | Model Type                  |    ATE |   ATE Std | ATE (95% CI)    |   Model Error |\n",
      "|-----------|-----------------------------|--------|-----------|-----------------|---------------|\n",
      "| S-learner | Ridge(alpha=1e-05)          | 0.0251 |     0.087 | (-0.154, 0.230) |         0.133 |\n",
      "| S-learner | RandomForestRegressor()     | 0.0036 |     0.008 | (-0.015, 0.018) |         0.06  |\n",
      "| S-learner | GradientBoostingRegressor() | 0.0067 |     0.013 | (-0.018, 0.035) |         0.07  |\n",
      "\\begin{tabular}{llrrlr}\n",
      "\\toprule\n",
      " Method    & Model Type                  &    ATE &   ATE Std & ATE (95\\% CI)    &   Model Error \\\\\n",
      "\\midrule\n",
      " S-learner & Ridge(alpha=1e-05)          & 0.0251 &     0.087 & (-0.154, 0.230) &         0.133 \\\\\n",
      " S-learner & RandomForestRegressor()     & 0.0036 &     0.008 & (-0.015, 0.018) &         0.06  \\\\\n",
      " S-learner & GradientBoostingRegressor() & 0.0067 &     0.013 & (-0.018, 0.035) &         0.07  \\\\\n",
      "\\bottomrule\n",
      "\\end{tabular}\n"
     ]
    }
   ],
   "source": [
    "from sklearn.ensemble import GradientBoostingRegressor, RandomForestRegressor\n",
    "from sklearn.linear_model import Ridge\n",
    "\n",
    "\n",
    "methods = [\"S-learner\"] * 3\n",
    "model_type = [Ridge(1e-5), RandomForestRegressor(), GradientBoostingRegressor()]\n",
    "\n",
    "results_list = []\n",
    "\n",
    "for method, model in zip(methods, model_type):\n",
    "    results, headers = calc_all_results(data, [method], n_iter=500, sample_size=50, model_type=model, calc_error=True)\n",
    "    result = results[0]\n",
    "    result.insert(1, model)\n",
    "    results_list.append(results[0])   \n",
    "\n",
    "headers.insert(1, \"Model Type\") \n",
    "\n",
    "print(tabulate(results_list, headers=headers, tablefmt=\"github\"))\n",
    "print(tabulate(results_list, headers=headers, tablefmt=\"latex_booktabs\"))"
   ]
  },
  {
   "cell_type": "code",
   "execution_count": 37,
   "metadata": {},
   "outputs": [
    {
     "name": "stdout",
     "output_type": "stream",
     "text": [
      "| Method    | Model Type                  |    ATE |   ATE Std | ATE (95% CI)    |   Model Error |\n",
      "|-----------|-----------------------------|--------|-----------|-----------------|---------------|\n",
      "| T-learner | Ridge(alpha=0.0001)         | 0.0302 |     0.204 | (-0.266, 0.328) |         5.123 |\n",
      "| T-learner | RandomForestRegressor()     | 0.0105 |     0.044 | (-0.084, 0.112) |         0.236 |\n",
      "| T-learner | GradientBoostingRegressor() | 0.0169 |     0.046 | (-0.085, 0.117) |         0.276 |\n",
      "\\begin{tabular}{llrrlr}\n",
      "\\toprule\n",
      " Method    & Model Type                  &    ATE &   ATE Std & ATE (95\\% CI)    &   Model Error \\\\\n",
      "\\midrule\n",
      " T-learner & Ridge(alpha=0.0001)         & 0.0302 &     0.204 & (-0.266, 0.328) &         5.123 \\\\\n",
      " T-learner & RandomForestRegressor()     & 0.0105 &     0.044 & (-0.084, 0.112) &         0.236 \\\\\n",
      " T-learner & GradientBoostingRegressor() & 0.0169 &     0.046 & (-0.085, 0.117) &         0.276 \\\\\n",
      "\\bottomrule\n",
      "\\end{tabular}\n"
     ]
    }
   ],
   "source": [
    "from sklearn.ensemble import GradientBoostingRegressor, RandomForestRegressor\n",
    "from sklearn.linear_model import Ridge\n",
    "\n",
    "methods = [\"T-learner\"] * 3\n",
    "model_type = [Ridge(1e-4), RandomForestRegressor(), GradientBoostingRegressor()]\n",
    "\n",
    "results_list = []\n",
    "\n",
    "for method, model in zip(methods, model_type):\n",
    "    results, headers = calc_all_results(data, [method], n_iter=500, sample_size=50, model_type=model, calc_error=True)\n",
    "    result = results[0]\n",
    "    result.insert(1, model)\n",
    "    results_list.append(results[0])   \n",
    "\n",
    "headers.insert(1, \"Model Type\") \n",
    "\n",
    "print(tabulate(results_list, headers=headers, tablefmt=\"github\"))\n",
    "print(tabulate(results_list, headers=headers, tablefmt=\"latex_booktabs\"))"
   ]
  },
  {
   "attachments": {},
   "cell_type": "markdown",
   "metadata": {},
   "source": [
    "### Answering the Question"
   ]
  },
  {
   "cell_type": "code",
   "execution_count": 39,
   "metadata": {},
   "outputs": [
    {
     "name": "stdout",
     "output_type": "stream",
     "text": [
      "| Method   | Model Type   |     ATE |   ATE Std | ATE (95% CI)    |\n",
      "|----------|--------------|---------|-----------|-----------------|\n",
      "| Matching | ---          | -0.0243 |     0.083 | (-0.163, 0.158) |\n",
      "\\begin{tabular}{llrrl}\n",
      "\\toprule\n",
      " Method    & Model Type              &     ATE &   ATE Std & ATE (95\\% CI)    \\\\\n",
      "\\midrule\n",
      " IPW       & ---                     & -0.0815 &     0.923 & (-0.531, 3.100) \\\\\n",
      " S-learner & RandomForestRegressor() &  0.0036 &     0.011 & (-0.019, 0.023) \\\\\n",
      " T-learner & RandomForestRegressor() &  0.016  &     0.062 & (-0.098, 0.132) \\\\\n",
      " Matching  & ---                     & -0.0243 &     0.083 & (-0.163, 0.158) \\\\\n",
      "\\bottomrule\n",
      "\\end{tabular}\n"
     ]
    }
   ],
   "source": [
    "methods = [\"IPW\", \"S-learner\", \"T-learner\", \"Matching\"]\n",
    "model_type = [None, RandomForestRegressor(), RandomForestRegressor(), None]\n",
    "\n",
    "results, headers = calc_all_results(data, methods, n_iter=50, sample_size=50)\n",
    "\n",
    "\n",
    "results_list = []\n",
    "\n",
    "for method, model in zip(methods, model_type):\n",
    "    if model is None:\n",
    "        results, headers = calc_all_results(data, [method], n_iter=500, sample_size=50)\n",
    "    else:\n",
    "        results, headers = calc_all_results(data, [method], n_iter=500, sample_size=50, model_type=model)\n",
    "    result = results[0]\n",
    "    result.insert(1, model if model is not None else \"---\")\n",
    "    results_list.append(results[0])   \n",
    "\n",
    "headers.insert(1, \"Model Type\") \n",
    "\n",
    "\n",
    "\n",
    "print(tabulate(results, headers=headers, tablefmt=\"github\"))\n",
    "print(tabulate(results_list, headers=headers, tablefmt=\"latex_booktabs\"))"
   ]
  },
  {
   "cell_type": "code",
   "execution_count": 40,
   "metadata": {},
   "outputs": [],
   "source": [
    "def calc_results_top_level(data, n_iter=500):\n",
    "    methods = [\"IPW\", \"S-learner\", \"T-learner\", \"Matching\"]\n",
    "    model_type = [None, RandomForestRegressor(), RandomForestRegressor(), None]\n",
    "\n",
    "    results, headers = calc_all_results(data, methods, n_iter=50, sample_size=50)\n",
    "\n",
    "\n",
    "    results_list = []\n",
    "\n",
    "    for method, model in zip(methods, model_type):\n",
    "        if model is None:\n",
    "            results, headers = calc_all_results(data, [method], n_iter=500, sample_size=50)\n",
    "        else:\n",
    "            results, headers = calc_all_results(data, [method], n_iter=500, sample_size=50, model_type=model)\n",
    "        result = results[0]\n",
    "        result.insert(1, model if model is not None else \"---\")\n",
    "        results_list.append(results[0])   \n",
    "\n",
    "    headers.insert(1, \"Model Type\") \n",
    "\n",
    "    print(tabulate(results, headers=headers, tablefmt=\"github\"))\n",
    "    print(tabulate(results_list, headers=headers, tablefmt=\"latex_booktabs\"))"
   ]
  },
  {
   "attachments": {},
   "cell_type": "markdown",
   "metadata": {},
   "source": [
    "## SubGroup Analysis"
   ]
  },
  {
   "attachments": {},
   "cell_type": "markdown",
   "metadata": {},
   "source": [
    "### Per Age Group"
   ]
  },
  {
   "cell_type": "code",
   "execution_count": null,
   "metadata": {},
   "outputs": [],
   "source": []
  },
  {
   "cell_type": "code",
   "execution_count": null,
   "metadata": {},
   "outputs": [],
   "source": []
  },
  {
   "cell_type": "code",
   "execution_count": 42,
   "metadata": {},
   "outputs": [
    {
     "name": "stdout",
     "output_type": "stream",
     "text": [
      "Age group: 20-27\n",
      "===\n",
      "| Method   | Model Type   |    ATE |   ATE Std | ATE (95% CI)    |\n",
      "|----------|--------------|--------|-----------|-----------------|\n",
      "| Matching | ---          | 0.0035 |     0.048 | (-0.085, 0.103) |\n",
      "\\begin{tabular}{llrrl}\n",
      "\\toprule\n",
      " Method    & Model Type              &    ATE &   ATE Std & ATE (95\\% CI)    \\\\\n",
      "\\midrule\n",
      " IPW       & ---                     & 2.4807 &     0.828 & (0.991, 4.073)  \\\\\n",
      " S-learner & RandomForestRegressor() & 0.0135 &     0.011 & (-0.010, 0.030) \\\\\n",
      " T-learner & RandomForestRegressor() & 0.0307 &     0.062 & (-0.043, 0.209) \\\\\n",
      " Matching  & ---                     & 0.0035 &     0.048 & (-0.085, 0.103) \\\\\n",
      "\\bottomrule\n",
      "\\end{tabular}\n",
      "Age group: 27-30\n",
      "===\n"
     ]
    }
   ],
   "source": [
    "# age_groups = dfdata.columns[data.columns.str.contains(\"age_group\")].str.replace(\"age_group_\", \"\").values\n",
    "age_groups = df[\"age_group\"].unique()\n",
    "# sort age groups\n",
    "age_groups = np.sort(age_groups)\n",
    "for age_group in age_groups:\n",
    "    print(\"Age group:\", age_group)\n",
    "    print(\"===\")\n",
    "    mask = df[\"age_group\"] == age_group\n",
    "    data_age_group = data[mask]\n",
    "\n",
    "    # results, headers = calc_all_results(data_age_group, methods, n_iter=500, sample_size=50)\n",
    "    # print(tabulate(results, headers=headers, tablefmt=\"github\"))\n",
    "    calc_results_top_level(data_age_group, n_iter=500)"
   ]
  },
  {
   "cell_type": "code",
   "execution_count": null,
   "metadata": {},
   "outputs": [],
   "source": [
    "# age_groups = dfdata.columns[data.columns.str.contains(\"age_group\")].str.replace(\"age_group_\", \"\").values\n",
    "age_groups = df[\"age_group\"].unique()\n",
    "# sort age groups\n",
    "age_groups = np.sort(age_groups)\n",
    "for age_group in age_groups:\n",
    "    print(\"Age group:\", age_group)\n",
    "    print(\"===\")\n",
    "    mask = df[\"age_group\"] == age_group\n",
    "    data_age_group = data[mask]\n",
    "\n",
    "    # results, headers = calc_all_results(data_age_group, methods, n_iter=500, sample_size=50)\n",
    "    # print(tabulate(results, headers=headers, tablefmt=\"github\"))\n",
    "    calc_results_top_level(data_age_group, n_iter=500)"
   ]
  },
  {
   "attachments": {},
   "cell_type": "markdown",
   "metadata": {},
   "source": [
    "### Per Team"
   ]
  },
  {
   "cell_type": "code",
   "execution_count": null,
   "metadata": {},
   "outputs": [],
   "source": [
    "teams = df[\"team_name_next_year\"].unique()\n",
    "for team in teams:\n",
    "    print(\"Team:\", team)\n",
    "    print(\"===\")\n",
    "    mask = df[\"team_name_next_year\"] == team\n",
    "    data_team = data[mask]\n",
    "\n",
    "    # results, headers = calc_all_results(data_age_group, methods, n_iter=500, sample_size=50)\n",
    "    # print(tabulate(results, headers=headers, tablefmt=\"github\"))\n",
    "    calc_results_top_level(data_team, n_iter=500)\n"
   ]
  },
  {
   "cell_type": "code",
   "execution_count": 48,
   "metadata": {},
   "outputs": [
    {
     "name": "stdout",
     "output_type": "stream",
     "text": [
      "Team: Houston\n",
      "===\n",
      "| Method    |    ATE |   ATE Std | ATE (95% CI)   |\n",
      "|-----------|--------|-----------|----------------|\n",
      "| T-learner | 0.4175 |     0.075 | (0.258, 0.516) |\n",
      "| T-learner | 0.4175 |     0.075 | (0.258, 0.516) |\n",
      "| T-learner | 0.4175 |     0.075 | (0.258, 0.516) |\n",
      "Team: L.A. Galaxy\n",
      "===\n",
      "| Method    |    ATE |   ATE Std | ATE (95% CI)    |\n",
      "|-----------|--------|-----------|-----------------|\n",
      "| T-learner | 0.0549 |     0.044 | (-0.023, 0.136) |\n",
      "| T-learner | 0.0549 |     0.044 | (-0.023, 0.136) |\n",
      "| T-learner | 0.0549 |     0.044 | (-0.023, 0.136) |\n",
      "Team: New York\n",
      "===\n",
      "| Method    |     ATE |   ATE Std | ATE (95% CI)    |\n",
      "|-----------|---------|-----------|-----------------|\n",
      "| T-learner | -0.1107 |     0.058 | (-0.205, 0.009) |\n",
      "| T-learner | -0.1107 |     0.058 | (-0.205, 0.009) |\n",
      "| T-learner | -0.1107 |     0.058 | (-0.205, 0.009) |\n",
      "Team: New York City FC\n",
      "===\n",
      "| Method    |    ATE |   ATE Std | ATE (95% CI)    |\n",
      "|-----------|--------|-----------|-----------------|\n",
      "| T-learner | 0.0019 |     0.017 | (-0.026, 0.035) |\n",
      "| T-learner | 0.0019 |     0.017 | (-0.026, 0.035) |\n",
      "| T-learner | 0.0019 |     0.017 | (-0.026, 0.035) |\n",
      "Team: Vancouver\n",
      "===\n",
      "| Method    |   ATE |   ATE Std | ATE (95% CI)   |\n",
      "|-----------|-------|-----------|----------------|\n",
      "| T-learner | 0.132 |      0.04 | (0.078, 0.206) |\n",
      "| T-learner | 0.132 |      0.04 | (0.078, 0.206) |\n",
      "| T-learner | 0.132 |      0.04 | (0.078, 0.206) |\n",
      "Team: Philadelphia\n",
      "===\n",
      "| Method    |    ATE |   ATE Std | ATE (95% CI)   |\n",
      "|-----------|--------|-----------|----------------|\n",
      "| T-learner | 0.2183 |     0.024 | (0.170, 0.265) |\n",
      "| T-learner | 0.2183 |     0.024 | (0.170, 0.265) |\n",
      "| T-learner | 0.2183 |     0.024 | (0.170, 0.265) |\n",
      "Team: New England\n",
      "===\n",
      "| Method    |    ATE |   ATE Std | ATE (95% CI)   |\n",
      "|-----------|--------|-----------|----------------|\n",
      "| T-learner | 0.3702 |     0.041 | (0.314, 0.457) |\n",
      "| T-learner | 0.3702 |     0.041 | (0.314, 0.457) |\n",
      "| T-learner | 0.3702 |     0.041 | (0.314, 0.457) |\n",
      "Team: Seattle\n",
      "===\n",
      "| Method    |     ATE |   ATE Std | ATE (95% CI)    |\n",
      "|-----------|---------|-----------|-----------------|\n",
      "| T-learner | -0.0393 |     0.129 | (-0.232, 0.212) |\n",
      "| T-learner | -0.0393 |     0.129 | (-0.232, 0.212) |\n",
      "| T-learner | -0.0393 |     0.129 | (-0.232, 0.212) |\n",
      "Team: San Jose\n",
      "===\n"
     ]
    },
    {
     "ename": "KeyboardInterrupt",
     "evalue": "",
     "output_type": "error",
     "traceback": [
      "\u001b[0;31m---------------------------------------------------------------------------\u001b[0m",
      "\u001b[0;31mKeyboardInterrupt\u001b[0m                         Traceback (most recent call last)",
      "\u001b[0;32m<ipython-input-48-84cfd1a61676>\u001b[0m in \u001b[0;36m<module>\u001b[0;34m\u001b[0m\n\u001b[1;32m      6\u001b[0m     \u001b[0mdata_team\u001b[0m \u001b[0;34m=\u001b[0m \u001b[0mdata\u001b[0m\u001b[0;34m[\u001b[0m\u001b[0mmask\u001b[0m\u001b[0;34m]\u001b[0m\u001b[0;34m\u001b[0m\u001b[0;34m\u001b[0m\u001b[0m\n\u001b[1;32m      7\u001b[0m \u001b[0;34m\u001b[0m\u001b[0m\n\u001b[0;32m----> 8\u001b[0;31m     \u001b[0mresults\u001b[0m\u001b[0;34m,\u001b[0m \u001b[0mheaders\u001b[0m \u001b[0;34m=\u001b[0m \u001b[0mcalc_all_results\u001b[0m\u001b[0;34m(\u001b[0m\u001b[0mdata_team\u001b[0m\u001b[0;34m,\u001b[0m \u001b[0mmethods\u001b[0m\u001b[0;34m,\u001b[0m \u001b[0mn_iter\u001b[0m\u001b[0;34m=\u001b[0m\u001b[0;36m30\u001b[0m\u001b[0;34m,\u001b[0m \u001b[0msample_size\u001b[0m\u001b[0;34m=\u001b[0m\u001b[0;36m50\u001b[0m\u001b[0;34m)\u001b[0m\u001b[0;34m\u001b[0m\u001b[0;34m\u001b[0m\u001b[0m\n\u001b[0m\u001b[1;32m      9\u001b[0m     \u001b[0mprint\u001b[0m\u001b[0;34m(\u001b[0m\u001b[0mtabulate\u001b[0m\u001b[0;34m(\u001b[0m\u001b[0mresults\u001b[0m\u001b[0;34m,\u001b[0m \u001b[0mheaders\u001b[0m\u001b[0;34m=\u001b[0m\u001b[0mheaders\u001b[0m\u001b[0;34m,\u001b[0m \u001b[0mtablefmt\u001b[0m\u001b[0;34m=\u001b[0m\u001b[0;34m\"github\"\u001b[0m\u001b[0;34m)\u001b[0m\u001b[0;34m)\u001b[0m\u001b[0;34m\u001b[0m\u001b[0;34m\u001b[0m\u001b[0m\n\u001b[1;32m     10\u001b[0m \u001b[0;34m\u001b[0m\u001b[0m\n",
      "\u001b[0;32m<ipython-input-16-2fe6e63300c1>\u001b[0m in \u001b[0;36mcalc_all_results\u001b[0;34m(data, methods, n_iter, sample_size, **kwargs)\u001b[0m\n\u001b[1;32m     21\u001b[0m \u001b[0;34m\u001b[0m\u001b[0m\n\u001b[1;32m     22\u001b[0m     \u001b[0;32mfor\u001b[0m \u001b[0mmethod\u001b[0m \u001b[0;32min\u001b[0m \u001b[0mmethods\u001b[0m\u001b[0;34m:\u001b[0m\u001b[0;34m\u001b[0m\u001b[0;34m\u001b[0m\u001b[0m\n\u001b[0;32m---> 23\u001b[0;31m         \u001b[0mate\u001b[0m\u001b[0;34m,\u001b[0m \u001b[0mate_std\u001b[0m\u001b[0;34m,\u001b[0m \u001b[0mate_ci_lower\u001b[0m\u001b[0;34m,\u001b[0m \u001b[0mate_ci_upper\u001b[0m \u001b[0;34m=\u001b[0m \u001b[0mcalc_method_results\u001b[0m\u001b[0;34m(\u001b[0m\u001b[0mdata\u001b[0m\u001b[0;34m,\u001b[0m \u001b[0mmethod\u001b[0m\u001b[0;34m=\u001b[0m\u001b[0mmethod\u001b[0m\u001b[0;34m,\u001b[0m \u001b[0mn_iter\u001b[0m\u001b[0;34m=\u001b[0m\u001b[0mn_iter\u001b[0m\u001b[0;34m,\u001b[0m \u001b[0msample_size\u001b[0m\u001b[0;34m=\u001b[0m\u001b[0msample_size\u001b[0m\u001b[0;34m,\u001b[0m \u001b[0;34m**\u001b[0m\u001b[0mkwargs\u001b[0m\u001b[0;34m)\u001b[0m\u001b[0;34m\u001b[0m\u001b[0;34m\u001b[0m\u001b[0m\n\u001b[0m\u001b[1;32m     24\u001b[0m         \u001b[0mmethod_results\u001b[0m \u001b[0;34m=\u001b[0m \u001b[0;34m[\u001b[0m\u001b[0mmethod\u001b[0m\u001b[0;34m,\u001b[0m \u001b[0;34mf\"{ate:.4f}\"\u001b[0m\u001b[0;34m,\u001b[0m \u001b[0;34mf\"{ate_std:.3f}\"\u001b[0m\u001b[0;34m,\u001b[0m \u001b[0;34mf\"({ate_ci_lower:.3f}, {ate_ci_upper:.3f})\"\u001b[0m\u001b[0;34m]\u001b[0m\u001b[0;34m\u001b[0m\u001b[0;34m\u001b[0m\u001b[0m\n\u001b[1;32m     25\u001b[0m         \u001b[0mresults\u001b[0m\u001b[0;34m.\u001b[0m\u001b[0mappend\u001b[0m\u001b[0;34m(\u001b[0m\u001b[0mmethod_results\u001b[0m\u001b[0;34m)\u001b[0m\u001b[0;34m\u001b[0m\u001b[0;34m\u001b[0m\u001b[0m\n",
      "\u001b[0;32m<ipython-input-16-2fe6e63300c1>\u001b[0m in \u001b[0;36mcalc_method_results\u001b[0;34m(data, method, n_iter, random_state, sample_size, alpha, **kwargs)\u001b[0m\n\u001b[1;32m      7\u001b[0m                            \u001b[0msample_size\u001b[0m\u001b[0;34m=\u001b[0m\u001b[0msample_size\u001b[0m\u001b[0;34m,\u001b[0m\u001b[0;34m\u001b[0m\u001b[0;34m\u001b[0m\u001b[0m\n\u001b[1;32m      8\u001b[0m                            **kwargs)\n\u001b[0;32m----> 9\u001b[0;31m     ate_ci_lower, ate_ci_upper = estimate_ci(data, \n\u001b[0m\u001b[1;32m     10\u001b[0m                                              \u001b[0mmethod\u001b[0m\u001b[0;34m=\u001b[0m\u001b[0mmethod\u001b[0m\u001b[0;34m,\u001b[0m\u001b[0;34m\u001b[0m\u001b[0;34m\u001b[0m\u001b[0m\n\u001b[1;32m     11\u001b[0m                                              \u001b[0mn_iter\u001b[0m\u001b[0;34m=\u001b[0m\u001b[0mn_iter\u001b[0m\u001b[0;34m,\u001b[0m\u001b[0;34m\u001b[0m\u001b[0;34m\u001b[0m\u001b[0m\n",
      "\u001b[0;32m<ipython-input-15-c24f611b2ea6>\u001b[0m in \u001b[0;36mestimate_ci\u001b[0;34m(data, method, n_iter, random_state, sample_size, alpha, **kwargs)\u001b[0m\n\u001b[1;32m     26\u001b[0m     \u001b[0;32mfor\u001b[0m \u001b[0m_\u001b[0m \u001b[0;32min\u001b[0m \u001b[0mrange\u001b[0m\u001b[0;34m(\u001b[0m\u001b[0mn_iter\u001b[0m\u001b[0;34m)\u001b[0m\u001b[0;34m:\u001b[0m\u001b[0;34m\u001b[0m\u001b[0;34m\u001b[0m\u001b[0m\n\u001b[1;32m     27\u001b[0m         \u001b[0midx\u001b[0m \u001b[0;34m=\u001b[0m \u001b[0mnp\u001b[0m\u001b[0;34m.\u001b[0m\u001b[0mrandom\u001b[0m\u001b[0;34m.\u001b[0m\u001b[0mchoice\u001b[0m\u001b[0;34m(\u001b[0m\u001b[0mdata\u001b[0m\u001b[0;34m.\u001b[0m\u001b[0mindex\u001b[0m\u001b[0;34m,\u001b[0m \u001b[0msize\u001b[0m\u001b[0;34m=\u001b[0m\u001b[0msample_size\u001b[0m\u001b[0;34m,\u001b[0m \u001b[0mreplace\u001b[0m\u001b[0;34m=\u001b[0m\u001b[0;32mTrue\u001b[0m\u001b[0;34m)\u001b[0m\u001b[0;34m\u001b[0m\u001b[0;34m\u001b[0m\u001b[0m\n\u001b[0;32m---> 28\u001b[0;31m         \u001b[0mate_list\u001b[0m\u001b[0;34m.\u001b[0m\u001b[0mappend\u001b[0m\u001b[0;34m(\u001b[0m\u001b[0mcalculate_ATE\u001b[0m\u001b[0;34m(\u001b[0m\u001b[0mdata\u001b[0m\u001b[0;34m.\u001b[0m\u001b[0mloc\u001b[0m\u001b[0;34m[\u001b[0m\u001b[0midx\u001b[0m\u001b[0;34m]\u001b[0m\u001b[0;34m,\u001b[0m \u001b[0mmethod\u001b[0m\u001b[0;34m=\u001b[0m\u001b[0mmethod\u001b[0m\u001b[0;34m,\u001b[0m \u001b[0;34m**\u001b[0m\u001b[0mkwargs\u001b[0m\u001b[0;34m)\u001b[0m\u001b[0;34m)\u001b[0m\u001b[0;34m\u001b[0m\u001b[0;34m\u001b[0m\u001b[0m\n\u001b[0m\u001b[1;32m     29\u001b[0m \u001b[0;34m\u001b[0m\u001b[0m\n\u001b[1;32m     30\u001b[0m     \u001b[0mate_list\u001b[0m \u001b[0;34m=\u001b[0m \u001b[0mnp\u001b[0m\u001b[0;34m.\u001b[0m\u001b[0marray\u001b[0m\u001b[0;34m(\u001b[0m\u001b[0mate_list\u001b[0m\u001b[0;34m)\u001b[0m\u001b[0;34m\u001b[0m\u001b[0;34m\u001b[0m\u001b[0m\n",
      "\u001b[0;32m/mnt/ssd/SECOND_DERGREE/First-Semester/Causal_inference/project/Soccer/calc_ate.py\u001b[0m in \u001b[0;36mcalculate_ATE\u001b[0;34m(data, method, **kwargs)\u001b[0m\n\u001b[1;32m    145\u001b[0m         \u001b[0;32mreturn\u001b[0m \u001b[0mcalculate_S_learner_ATE\u001b[0m\u001b[0;34m(\u001b[0m\u001b[0mdata\u001b[0m\u001b[0;34m,\u001b[0m \u001b[0;34m**\u001b[0m\u001b[0mkwargs\u001b[0m\u001b[0;34m)\u001b[0m\u001b[0;34m\u001b[0m\u001b[0;34m\u001b[0m\u001b[0m\n\u001b[1;32m    146\u001b[0m     \u001b[0;32melif\u001b[0m \u001b[0mmethod\u001b[0m \u001b[0;34m==\u001b[0m \u001b[0;34m\"T-learner\"\u001b[0m\u001b[0;34m:\u001b[0m\u001b[0;34m\u001b[0m\u001b[0;34m\u001b[0m\u001b[0m\n\u001b[0;32m--> 147\u001b[0;31m         \u001b[0;32mreturn\u001b[0m \u001b[0mcalculate_T_learner_ATE\u001b[0m\u001b[0;34m(\u001b[0m\u001b[0mdata\u001b[0m\u001b[0;34m,\u001b[0m \u001b[0;34m**\u001b[0m\u001b[0mkwargs\u001b[0m\u001b[0;34m)\u001b[0m\u001b[0;34m\u001b[0m\u001b[0;34m\u001b[0m\u001b[0m\n\u001b[0m\u001b[1;32m    148\u001b[0m     \u001b[0;32melif\u001b[0m \u001b[0mmethod\u001b[0m \u001b[0;34m==\u001b[0m \u001b[0;34m\"Matching\"\u001b[0m\u001b[0;34m:\u001b[0m\u001b[0;34m\u001b[0m\u001b[0;34m\u001b[0m\u001b[0m\n\u001b[1;32m    149\u001b[0m         \u001b[0;32mreturn\u001b[0m \u001b[0mcalculate_matching_ATE\u001b[0m\u001b[0;34m(\u001b[0m\u001b[0mdata\u001b[0m\u001b[0;34m,\u001b[0m \u001b[0;34m**\u001b[0m\u001b[0mkwargs\u001b[0m\u001b[0;34m)\u001b[0m\u001b[0;34m\u001b[0m\u001b[0;34m\u001b[0m\u001b[0m\n",
      "\u001b[0;32m/mnt/ssd/SECOND_DERGREE/First-Semester/Causal_inference/project/Soccer/calc_ate.py\u001b[0m in \u001b[0;36mcalculate_T_learner_ATE\u001b[0;34m(data, model_type)\u001b[0m\n\u001b[1;32m     96\u001b[0m     \u001b[0my0_func\u001b[0m \u001b[0;34m=\u001b[0m \u001b[0mfit_y\u001b[0m\u001b[0;34m(\u001b[0m\u001b[0mdata\u001b[0m\u001b[0;34m[\u001b[0m\u001b[0mdata\u001b[0m\u001b[0;34m[\u001b[0m\u001b[0;34m\"T\"\u001b[0m\u001b[0;34m]\u001b[0m \u001b[0;34m==\u001b[0m \u001b[0;36m0\u001b[0m\u001b[0;34m]\u001b[0m\u001b[0;34m,\u001b[0m \u001b[0mmodel_type\u001b[0m\u001b[0;34m=\u001b[0m\u001b[0mmodel_type\u001b[0m\u001b[0;34m)\u001b[0m\u001b[0;34m\u001b[0m\u001b[0;34m\u001b[0m\u001b[0m\n\u001b[1;32m     97\u001b[0m \u001b[0;34m\u001b[0m\u001b[0m\n\u001b[0;32m---> 98\u001b[0;31m     \u001b[0;32mreturn\u001b[0m \u001b[0mcovariate_adjustment\u001b[0m\u001b[0;34m(\u001b[0m\u001b[0mdata\u001b[0m\u001b[0;34m,\u001b[0m \u001b[0my1_func\u001b[0m\u001b[0;34m,\u001b[0m \u001b[0my0_func\u001b[0m\u001b[0;34m)\u001b[0m\u001b[0;34m\u001b[0m\u001b[0;34m\u001b[0m\u001b[0m\n\u001b[0m\u001b[1;32m     99\u001b[0m \u001b[0;34m\u001b[0m\u001b[0m\n\u001b[1;32m    100\u001b[0m \u001b[0;32mdef\u001b[0m \u001b[0mcalculate_matching_ATE\u001b[0m\u001b[0;34m(\u001b[0m\u001b[0mdata\u001b[0m\u001b[0;34m,\u001b[0m \u001b[0mmetric\u001b[0m\u001b[0;34m=\u001b[0m\u001b[0;34m\"euclidean\"\u001b[0m\u001b[0;34m)\u001b[0m\u001b[0;34m:\u001b[0m\u001b[0;34m\u001b[0m\u001b[0;34m\u001b[0m\u001b[0m\n",
      "\u001b[0;32m/mnt/ssd/SECOND_DERGREE/First-Semester/Causal_inference/project/Soccer/calc_ate.py\u001b[0m in \u001b[0;36mcovariate_adjustment\u001b[0;34m(data, y1_func, y0_func)\u001b[0m\n\u001b[1;32m     71\u001b[0m     \u001b[0mX0\u001b[0m \u001b[0;34m=\u001b[0m \u001b[0mX\u001b[0m\u001b[0;34m.\u001b[0m\u001b[0mcopy\u001b[0m\u001b[0;34m(\u001b[0m\u001b[0;34m)\u001b[0m\u001b[0;34m\u001b[0m\u001b[0;34m\u001b[0m\u001b[0m\n\u001b[1;32m     72\u001b[0m     \u001b[0mX0\u001b[0m\u001b[0;34m[\u001b[0m\u001b[0;34m\"T\"\u001b[0m\u001b[0;34m]\u001b[0m \u001b[0;34m=\u001b[0m \u001b[0;36m0\u001b[0m\u001b[0;34m\u001b[0m\u001b[0;34m\u001b[0m\u001b[0m\n\u001b[0;32m---> 73\u001b[0;31m     \u001b[0my0\u001b[0m \u001b[0;34m=\u001b[0m \u001b[0my0_func\u001b[0m\u001b[0;34m.\u001b[0m\u001b[0mpredict\u001b[0m\u001b[0;34m(\u001b[0m\u001b[0mX0\u001b[0m\u001b[0;34m)\u001b[0m\u001b[0;34m\u001b[0m\u001b[0;34m\u001b[0m\u001b[0m\n\u001b[0m\u001b[1;32m     74\u001b[0m \u001b[0;34m\u001b[0m\u001b[0m\n\u001b[1;32m     75\u001b[0m     \u001b[0my\u001b[0m \u001b[0;34m=\u001b[0m \u001b[0my1\u001b[0m \u001b[0;34m-\u001b[0m \u001b[0my0\u001b[0m\u001b[0;34m\u001b[0m\u001b[0;34m\u001b[0m\u001b[0m\n",
      "\u001b[0;32m~/.local/lib/python3.8/site-packages/sklearn/linear_model/_base.py\u001b[0m in \u001b[0;36mpredict\u001b[0;34m(self, X)\u001b[0m\n\u001b[1;32m    384\u001b[0m             \u001b[0mReturns\u001b[0m \u001b[0mpredicted\u001b[0m \u001b[0mvalues\u001b[0m\u001b[0;34m.\u001b[0m\u001b[0;34m\u001b[0m\u001b[0;34m\u001b[0m\u001b[0m\n\u001b[1;32m    385\u001b[0m         \"\"\"\n\u001b[0;32m--> 386\u001b[0;31m         \u001b[0;32mreturn\u001b[0m \u001b[0mself\u001b[0m\u001b[0;34m.\u001b[0m\u001b[0m_decision_function\u001b[0m\u001b[0;34m(\u001b[0m\u001b[0mX\u001b[0m\u001b[0;34m)\u001b[0m\u001b[0;34m\u001b[0m\u001b[0;34m\u001b[0m\u001b[0m\n\u001b[0m\u001b[1;32m    387\u001b[0m \u001b[0;34m\u001b[0m\u001b[0m\n\u001b[1;32m    388\u001b[0m     \u001b[0;32mdef\u001b[0m \u001b[0m_set_intercept\u001b[0m\u001b[0;34m(\u001b[0m\u001b[0mself\u001b[0m\u001b[0;34m,\u001b[0m \u001b[0mX_offset\u001b[0m\u001b[0;34m,\u001b[0m \u001b[0my_offset\u001b[0m\u001b[0;34m,\u001b[0m \u001b[0mX_scale\u001b[0m\u001b[0;34m)\u001b[0m\u001b[0;34m:\u001b[0m\u001b[0;34m\u001b[0m\u001b[0;34m\u001b[0m\u001b[0m\n",
      "\u001b[0;32m~/.local/lib/python3.8/site-packages/sklearn/linear_model/_base.py\u001b[0m in \u001b[0;36m_decision_function\u001b[0;34m(self, X)\u001b[0m\n\u001b[1;32m    367\u001b[0m         \u001b[0mcheck_is_fitted\u001b[0m\u001b[0;34m(\u001b[0m\u001b[0mself\u001b[0m\u001b[0;34m)\u001b[0m\u001b[0;34m\u001b[0m\u001b[0;34m\u001b[0m\u001b[0m\n\u001b[1;32m    368\u001b[0m \u001b[0;34m\u001b[0m\u001b[0m\n\u001b[0;32m--> 369\u001b[0;31m         \u001b[0mX\u001b[0m \u001b[0;34m=\u001b[0m \u001b[0mself\u001b[0m\u001b[0;34m.\u001b[0m\u001b[0m_validate_data\u001b[0m\u001b[0;34m(\u001b[0m\u001b[0mX\u001b[0m\u001b[0;34m,\u001b[0m \u001b[0maccept_sparse\u001b[0m\u001b[0;34m=\u001b[0m\u001b[0;34m[\u001b[0m\u001b[0;34m\"csr\"\u001b[0m\u001b[0;34m,\u001b[0m \u001b[0;34m\"csc\"\u001b[0m\u001b[0;34m,\u001b[0m \u001b[0;34m\"coo\"\u001b[0m\u001b[0;34m]\u001b[0m\u001b[0;34m,\u001b[0m \u001b[0mreset\u001b[0m\u001b[0;34m=\u001b[0m\u001b[0;32mFalse\u001b[0m\u001b[0;34m)\u001b[0m\u001b[0;34m\u001b[0m\u001b[0;34m\u001b[0m\u001b[0m\n\u001b[0m\u001b[1;32m    370\u001b[0m         \u001b[0;32mreturn\u001b[0m \u001b[0msafe_sparse_dot\u001b[0m\u001b[0;34m(\u001b[0m\u001b[0mX\u001b[0m\u001b[0;34m,\u001b[0m \u001b[0mself\u001b[0m\u001b[0;34m.\u001b[0m\u001b[0mcoef_\u001b[0m\u001b[0;34m.\u001b[0m\u001b[0mT\u001b[0m\u001b[0;34m,\u001b[0m \u001b[0mdense_output\u001b[0m\u001b[0;34m=\u001b[0m\u001b[0;32mTrue\u001b[0m\u001b[0;34m)\u001b[0m \u001b[0;34m+\u001b[0m \u001b[0mself\u001b[0m\u001b[0;34m.\u001b[0m\u001b[0mintercept_\u001b[0m\u001b[0;34m\u001b[0m\u001b[0;34m\u001b[0m\u001b[0m\n\u001b[1;32m    371\u001b[0m \u001b[0;34m\u001b[0m\u001b[0m\n",
      "\u001b[0;32m~/.local/lib/python3.8/site-packages/sklearn/base.py\u001b[0m in \u001b[0;36m_validate_data\u001b[0;34m(self, X, y, reset, validate_separately, **check_params)\u001b[0m\n\u001b[1;32m    575\u001b[0m             \u001b[0;32mraise\u001b[0m \u001b[0mValueError\u001b[0m\u001b[0;34m(\u001b[0m\u001b[0;34m\"Validation should be done on X, y or both.\"\u001b[0m\u001b[0;34m)\u001b[0m\u001b[0;34m\u001b[0m\u001b[0;34m\u001b[0m\u001b[0m\n\u001b[1;32m    576\u001b[0m         \u001b[0;32melif\u001b[0m \u001b[0;32mnot\u001b[0m \u001b[0mno_val_X\u001b[0m \u001b[0;32mand\u001b[0m \u001b[0mno_val_y\u001b[0m\u001b[0;34m:\u001b[0m\u001b[0;34m\u001b[0m\u001b[0;34m\u001b[0m\u001b[0m\n\u001b[0;32m--> 577\u001b[0;31m             \u001b[0mX\u001b[0m \u001b[0;34m=\u001b[0m \u001b[0mcheck_array\u001b[0m\u001b[0;34m(\u001b[0m\u001b[0mX\u001b[0m\u001b[0;34m,\u001b[0m \u001b[0minput_name\u001b[0m\u001b[0;34m=\u001b[0m\u001b[0;34m\"X\"\u001b[0m\u001b[0;34m,\u001b[0m \u001b[0;34m**\u001b[0m\u001b[0mcheck_params\u001b[0m\u001b[0;34m)\u001b[0m\u001b[0;34m\u001b[0m\u001b[0;34m\u001b[0m\u001b[0m\n\u001b[0m\u001b[1;32m    578\u001b[0m             \u001b[0mout\u001b[0m \u001b[0;34m=\u001b[0m \u001b[0mX\u001b[0m\u001b[0;34m\u001b[0m\u001b[0;34m\u001b[0m\u001b[0m\n\u001b[1;32m    579\u001b[0m         \u001b[0;32melif\u001b[0m \u001b[0mno_val_X\u001b[0m \u001b[0;32mand\u001b[0m \u001b[0;32mnot\u001b[0m \u001b[0mno_val_y\u001b[0m\u001b[0;34m:\u001b[0m\u001b[0;34m\u001b[0m\u001b[0;34m\u001b[0m\u001b[0m\n",
      "\u001b[0;32m~/.local/lib/python3.8/site-packages/sklearn/utils/validation.py\u001b[0m in \u001b[0;36mcheck_array\u001b[0;34m(array, accept_sparse, accept_large_sparse, dtype, order, copy, force_all_finite, ensure_2d, allow_nd, ensure_min_samples, ensure_min_features, estimator, input_name)\u001b[0m\n\u001b[1;32m    755\u001b[0m             \u001b[0;32mfrom\u001b[0m \u001b[0mpandas\u001b[0m\u001b[0;34m.\u001b[0m\u001b[0mapi\u001b[0m\u001b[0;34m.\u001b[0m\u001b[0mtypes\u001b[0m \u001b[0;32mimport\u001b[0m \u001b[0mis_sparse\u001b[0m\u001b[0;34m\u001b[0m\u001b[0;34m\u001b[0m\u001b[0m\n\u001b[1;32m    756\u001b[0m \u001b[0;34m\u001b[0m\u001b[0m\n\u001b[0;32m--> 757\u001b[0;31m             \u001b[0;32mif\u001b[0m \u001b[0;32mnot\u001b[0m \u001b[0mhasattr\u001b[0m\u001b[0;34m(\u001b[0m\u001b[0marray\u001b[0m\u001b[0;34m,\u001b[0m \u001b[0;34m\"sparse\"\u001b[0m\u001b[0;34m)\u001b[0m \u001b[0;32mand\u001b[0m \u001b[0marray\u001b[0m\u001b[0;34m.\u001b[0m\u001b[0mdtypes\u001b[0m\u001b[0;34m.\u001b[0m\u001b[0mapply\u001b[0m\u001b[0;34m(\u001b[0m\u001b[0mis_sparse\u001b[0m\u001b[0;34m)\u001b[0m\u001b[0;34m.\u001b[0m\u001b[0many\u001b[0m\u001b[0;34m(\u001b[0m\u001b[0;34m)\u001b[0m\u001b[0;34m:\u001b[0m\u001b[0;34m\u001b[0m\u001b[0;34m\u001b[0m\u001b[0m\n\u001b[0m\u001b[1;32m    758\u001b[0m                 warnings.warn(\n\u001b[1;32m    759\u001b[0m                     \u001b[0;34m\"pandas.DataFrame with sparse columns found.\"\u001b[0m\u001b[0;34m\u001b[0m\u001b[0;34m\u001b[0m\u001b[0m\n",
      "\u001b[0;32m~/.local/lib/python3.8/site-packages/pandas/core/accessor.py\u001b[0m in \u001b[0;36m__get__\u001b[0;34m(self, obj, cls)\u001b[0m\n\u001b[1;32m    185\u001b[0m             \u001b[0;31m# we're accessing the attribute of the class, i.e., Dataset.geo\u001b[0m\u001b[0;34m\u001b[0m\u001b[0;34m\u001b[0m\u001b[0;34m\u001b[0m\u001b[0m\n\u001b[1;32m    186\u001b[0m             \u001b[0;32mreturn\u001b[0m \u001b[0mself\u001b[0m\u001b[0;34m.\u001b[0m\u001b[0m_accessor\u001b[0m\u001b[0;34m\u001b[0m\u001b[0;34m\u001b[0m\u001b[0m\n\u001b[0;32m--> 187\u001b[0;31m         \u001b[0maccessor_obj\u001b[0m \u001b[0;34m=\u001b[0m \u001b[0mself\u001b[0m\u001b[0;34m.\u001b[0m\u001b[0m_accessor\u001b[0m\u001b[0;34m(\u001b[0m\u001b[0mobj\u001b[0m\u001b[0;34m)\u001b[0m\u001b[0;34m\u001b[0m\u001b[0;34m\u001b[0m\u001b[0m\n\u001b[0m\u001b[1;32m    188\u001b[0m         \u001b[0;31m# Replace the property with the accessor object. Inspired by:\u001b[0m\u001b[0;34m\u001b[0m\u001b[0;34m\u001b[0m\u001b[0;34m\u001b[0m\u001b[0m\n\u001b[1;32m    189\u001b[0m         \u001b[0;31m# https://www.pydanny.com/cached-property.html\u001b[0m\u001b[0;34m\u001b[0m\u001b[0;34m\u001b[0m\u001b[0;34m\u001b[0m\u001b[0m\n",
      "\u001b[0;32m~/.local/lib/python3.8/site-packages/pandas/core/arrays/sparse/accessor.py\u001b[0m in \u001b[0;36m__init__\u001b[0;34m(self, data)\u001b[0m\n\u001b[1;32m     17\u001b[0m     \u001b[0;32mdef\u001b[0m \u001b[0m__init__\u001b[0m\u001b[0;34m(\u001b[0m\u001b[0mself\u001b[0m\u001b[0;34m,\u001b[0m \u001b[0mdata\u001b[0m\u001b[0;34m=\u001b[0m\u001b[0;32mNone\u001b[0m\u001b[0;34m)\u001b[0m\u001b[0;34m:\u001b[0m\u001b[0;34m\u001b[0m\u001b[0;34m\u001b[0m\u001b[0m\n\u001b[1;32m     18\u001b[0m         \u001b[0mself\u001b[0m\u001b[0;34m.\u001b[0m\u001b[0m_parent\u001b[0m \u001b[0;34m=\u001b[0m \u001b[0mdata\u001b[0m\u001b[0;34m\u001b[0m\u001b[0;34m\u001b[0m\u001b[0m\n\u001b[0;32m---> 19\u001b[0;31m         \u001b[0mself\u001b[0m\u001b[0;34m.\u001b[0m\u001b[0m_validate\u001b[0m\u001b[0;34m(\u001b[0m\u001b[0mdata\u001b[0m\u001b[0;34m)\u001b[0m\u001b[0;34m\u001b[0m\u001b[0;34m\u001b[0m\u001b[0m\n\u001b[0m\u001b[1;32m     20\u001b[0m \u001b[0;34m\u001b[0m\u001b[0m\n\u001b[1;32m     21\u001b[0m     \u001b[0;32mdef\u001b[0m \u001b[0m_validate\u001b[0m\u001b[0;34m(\u001b[0m\u001b[0mself\u001b[0m\u001b[0;34m,\u001b[0m \u001b[0mdata\u001b[0m\u001b[0;34m)\u001b[0m\u001b[0;34m:\u001b[0m\u001b[0;34m\u001b[0m\u001b[0;34m\u001b[0m\u001b[0m\n",
      "\u001b[0;32m~/.local/lib/python3.8/site-packages/pandas/core/arrays/sparse/accessor.py\u001b[0m in \u001b[0;36m_validate\u001b[0;34m(self, data)\u001b[0m\n\u001b[1;32m    219\u001b[0m \u001b[0;34m\u001b[0m\u001b[0m\n\u001b[1;32m    220\u001b[0m     \u001b[0;32mdef\u001b[0m \u001b[0m_validate\u001b[0m\u001b[0;34m(\u001b[0m\u001b[0mself\u001b[0m\u001b[0;34m,\u001b[0m \u001b[0mdata\u001b[0m\u001b[0;34m)\u001b[0m\u001b[0;34m:\u001b[0m\u001b[0;34m\u001b[0m\u001b[0;34m\u001b[0m\u001b[0m\n\u001b[0;32m--> 221\u001b[0;31m         \u001b[0mdtypes\u001b[0m \u001b[0;34m=\u001b[0m \u001b[0mdata\u001b[0m\u001b[0;34m.\u001b[0m\u001b[0mdtypes\u001b[0m\u001b[0;34m\u001b[0m\u001b[0;34m\u001b[0m\u001b[0m\n\u001b[0m\u001b[1;32m    222\u001b[0m         \u001b[0;32mif\u001b[0m \u001b[0;32mnot\u001b[0m \u001b[0mall\u001b[0m\u001b[0;34m(\u001b[0m\u001b[0misinstance\u001b[0m\u001b[0;34m(\u001b[0m\u001b[0mt\u001b[0m\u001b[0;34m,\u001b[0m \u001b[0mSparseDtype\u001b[0m\u001b[0;34m)\u001b[0m \u001b[0;32mfor\u001b[0m \u001b[0mt\u001b[0m \u001b[0;32min\u001b[0m \u001b[0mdtypes\u001b[0m\u001b[0;34m)\u001b[0m\u001b[0;34m:\u001b[0m\u001b[0;34m\u001b[0m\u001b[0;34m\u001b[0m\u001b[0m\n\u001b[1;32m    223\u001b[0m             \u001b[0;32mraise\u001b[0m \u001b[0mAttributeError\u001b[0m\u001b[0;34m(\u001b[0m\u001b[0mself\u001b[0m\u001b[0;34m.\u001b[0m\u001b[0m_validation_msg\u001b[0m\u001b[0;34m)\u001b[0m\u001b[0;34m\u001b[0m\u001b[0;34m\u001b[0m\u001b[0m\n",
      "\u001b[0;32m~/.local/lib/python3.8/site-packages/pandas/core/generic.py\u001b[0m in \u001b[0;36mdtypes\u001b[0;34m(self)\u001b[0m\n\u001b[1;32m   5377\u001b[0m         \"\"\"\n\u001b[1;32m   5378\u001b[0m         \u001b[0mdata\u001b[0m \u001b[0;34m=\u001b[0m \u001b[0mself\u001b[0m\u001b[0;34m.\u001b[0m\u001b[0m_mgr\u001b[0m\u001b[0;34m.\u001b[0m\u001b[0mget_dtypes\u001b[0m\u001b[0;34m(\u001b[0m\u001b[0;34m)\u001b[0m\u001b[0;34m\u001b[0m\u001b[0;34m\u001b[0m\u001b[0m\n\u001b[0;32m-> 5379\u001b[0;31m         \u001b[0;32mreturn\u001b[0m \u001b[0mself\u001b[0m\u001b[0;34m.\u001b[0m\u001b[0m_constructor_sliced\u001b[0m\u001b[0;34m(\u001b[0m\u001b[0mdata\u001b[0m\u001b[0;34m,\u001b[0m \u001b[0mindex\u001b[0m\u001b[0;34m=\u001b[0m\u001b[0mself\u001b[0m\u001b[0;34m.\u001b[0m\u001b[0m_info_axis\u001b[0m\u001b[0;34m,\u001b[0m \u001b[0mdtype\u001b[0m\u001b[0;34m=\u001b[0m\u001b[0mnp\u001b[0m\u001b[0;34m.\u001b[0m\u001b[0mobject_\u001b[0m\u001b[0;34m)\u001b[0m\u001b[0;34m\u001b[0m\u001b[0;34m\u001b[0m\u001b[0m\n\u001b[0m\u001b[1;32m   5380\u001b[0m \u001b[0;34m\u001b[0m\u001b[0m\n\u001b[1;32m   5381\u001b[0m     \u001b[0;32mdef\u001b[0m \u001b[0m_to_dict_of_blocks\u001b[0m\u001b[0;34m(\u001b[0m\u001b[0mself\u001b[0m\u001b[0;34m,\u001b[0m \u001b[0mcopy\u001b[0m\u001b[0;34m:\u001b[0m \u001b[0mbool_t\u001b[0m \u001b[0;34m=\u001b[0m \u001b[0;32mTrue\u001b[0m\u001b[0;34m)\u001b[0m\u001b[0;34m:\u001b[0m\u001b[0;34m\u001b[0m\u001b[0;34m\u001b[0m\u001b[0m\n",
      "\u001b[0;32m~/.local/lib/python3.8/site-packages/pandas/core/series.py\u001b[0m in \u001b[0;36m__init__\u001b[0;34m(self, data, index, dtype, name, copy, fastpath)\u001b[0m\n\u001b[1;32m    327\u001b[0m                 \u001b[0mdata\u001b[0m \u001b[0;34m=\u001b[0m \u001b[0msanitize_array\u001b[0m\u001b[0;34m(\u001b[0m\u001b[0mdata\u001b[0m\u001b[0;34m,\u001b[0m \u001b[0mindex\u001b[0m\u001b[0;34m,\u001b[0m \u001b[0mdtype\u001b[0m\u001b[0;34m,\u001b[0m \u001b[0mcopy\u001b[0m\u001b[0;34m,\u001b[0m \u001b[0mraise_cast_failure\u001b[0m\u001b[0;34m=\u001b[0m\u001b[0;32mTrue\u001b[0m\u001b[0;34m)\u001b[0m\u001b[0;34m\u001b[0m\u001b[0;34m\u001b[0m\u001b[0m\n\u001b[1;32m    328\u001b[0m \u001b[0;34m\u001b[0m\u001b[0m\n\u001b[0;32m--> 329\u001b[0;31m                 \u001b[0mdata\u001b[0m \u001b[0;34m=\u001b[0m \u001b[0mSingleBlockManager\u001b[0m\u001b[0;34m.\u001b[0m\u001b[0mfrom_array\u001b[0m\u001b[0;34m(\u001b[0m\u001b[0mdata\u001b[0m\u001b[0;34m,\u001b[0m \u001b[0mindex\u001b[0m\u001b[0;34m)\u001b[0m\u001b[0;34m\u001b[0m\u001b[0;34m\u001b[0m\u001b[0m\n\u001b[0m\u001b[1;32m    330\u001b[0m \u001b[0;34m\u001b[0m\u001b[0m\n\u001b[1;32m    331\u001b[0m         \u001b[0mgeneric\u001b[0m\u001b[0;34m.\u001b[0m\u001b[0mNDFrame\u001b[0m\u001b[0;34m.\u001b[0m\u001b[0m__init__\u001b[0m\u001b[0;34m(\u001b[0m\u001b[0mself\u001b[0m\u001b[0;34m,\u001b[0m \u001b[0mdata\u001b[0m\u001b[0;34m)\u001b[0m\u001b[0;34m\u001b[0m\u001b[0;34m\u001b[0m\u001b[0m\n",
      "\u001b[0;32m~/.local/lib/python3.8/site-packages/pandas/core/internals/managers.py\u001b[0m in \u001b[0;36mfrom_array\u001b[0;34m(cls, array, index)\u001b[0m\n\u001b[1;32m   1567\u001b[0m         \u001b[0mConstructor\u001b[0m \u001b[0;32mfor\u001b[0m \u001b[0;32mif\u001b[0m \u001b[0mwe\u001b[0m \u001b[0mhave\u001b[0m \u001b[0man\u001b[0m \u001b[0marray\u001b[0m \u001b[0mthat\u001b[0m \u001b[0;32mis\u001b[0m \u001b[0;32mnot\u001b[0m \u001b[0myet\u001b[0m \u001b[0ma\u001b[0m \u001b[0mBlock\u001b[0m\u001b[0;34m.\u001b[0m\u001b[0;34m\u001b[0m\u001b[0;34m\u001b[0m\u001b[0m\n\u001b[1;32m   1568\u001b[0m         \"\"\"\n\u001b[0;32m-> 1569\u001b[0;31m         \u001b[0mblock\u001b[0m \u001b[0;34m=\u001b[0m \u001b[0mmake_block\u001b[0m\u001b[0;34m(\u001b[0m\u001b[0marray\u001b[0m\u001b[0;34m,\u001b[0m \u001b[0mplacement\u001b[0m\u001b[0;34m=\u001b[0m\u001b[0mslice\u001b[0m\u001b[0;34m(\u001b[0m\u001b[0;36m0\u001b[0m\u001b[0;34m,\u001b[0m \u001b[0mlen\u001b[0m\u001b[0;34m(\u001b[0m\u001b[0mindex\u001b[0m\u001b[0;34m)\u001b[0m\u001b[0;34m)\u001b[0m\u001b[0;34m,\u001b[0m \u001b[0mndim\u001b[0m\u001b[0;34m=\u001b[0m\u001b[0;36m1\u001b[0m\u001b[0;34m)\u001b[0m\u001b[0;34m\u001b[0m\u001b[0;34m\u001b[0m\u001b[0m\n\u001b[0m\u001b[1;32m   1570\u001b[0m         \u001b[0;32mreturn\u001b[0m \u001b[0mcls\u001b[0m\u001b[0;34m(\u001b[0m\u001b[0mblock\u001b[0m\u001b[0;34m,\u001b[0m \u001b[0mindex\u001b[0m\u001b[0;34m)\u001b[0m\u001b[0;34m\u001b[0m\u001b[0;34m\u001b[0m\u001b[0m\n\u001b[1;32m   1571\u001b[0m \u001b[0;34m\u001b[0m\u001b[0m\n",
      "\u001b[0;32m~/.local/lib/python3.8/site-packages/pandas/core/internals/blocks.py\u001b[0m in \u001b[0;36mmake_block\u001b[0;34m(values, placement, klass, ndim, dtype)\u001b[0m\n\u001b[1;32m   2720\u001b[0m         \u001b[0mvalues\u001b[0m \u001b[0;34m=\u001b[0m \u001b[0mDatetimeArray\u001b[0m\u001b[0;34m.\u001b[0m\u001b[0m_simple_new\u001b[0m\u001b[0;34m(\u001b[0m\u001b[0mvalues\u001b[0m\u001b[0;34m,\u001b[0m \u001b[0mdtype\u001b[0m\u001b[0;34m=\u001b[0m\u001b[0mdtype\u001b[0m\u001b[0;34m)\u001b[0m\u001b[0;34m\u001b[0m\u001b[0;34m\u001b[0m\u001b[0m\n\u001b[1;32m   2721\u001b[0m \u001b[0;34m\u001b[0m\u001b[0m\n\u001b[0;32m-> 2722\u001b[0;31m     \u001b[0;32mreturn\u001b[0m \u001b[0mklass\u001b[0m\u001b[0;34m(\u001b[0m\u001b[0mvalues\u001b[0m\u001b[0;34m,\u001b[0m \u001b[0mndim\u001b[0m\u001b[0;34m=\u001b[0m\u001b[0mndim\u001b[0m\u001b[0;34m,\u001b[0m \u001b[0mplacement\u001b[0m\u001b[0;34m=\u001b[0m\u001b[0mplacement\u001b[0m\u001b[0;34m)\u001b[0m\u001b[0;34m\u001b[0m\u001b[0;34m\u001b[0m\u001b[0m\n\u001b[0m\u001b[1;32m   2723\u001b[0m \u001b[0;34m\u001b[0m\u001b[0m\n\u001b[1;32m   2724\u001b[0m \u001b[0;34m\u001b[0m\u001b[0m\n",
      "\u001b[0;32m~/.local/lib/python3.8/site-packages/pandas/core/internals/blocks.py\u001b[0m in \u001b[0;36m__init__\u001b[0;34m(self, values, placement, ndim)\u001b[0m\n\u001b[1;32m   2376\u001b[0m             \u001b[0mvalues\u001b[0m \u001b[0;34m=\u001b[0m \u001b[0mnp\u001b[0m\u001b[0;34m.\u001b[0m\u001b[0marray\u001b[0m\u001b[0;34m(\u001b[0m\u001b[0mvalues\u001b[0m\u001b[0;34m,\u001b[0m \u001b[0mdtype\u001b[0m\u001b[0;34m=\u001b[0m\u001b[0mobject\u001b[0m\u001b[0;34m)\u001b[0m\u001b[0;34m\u001b[0m\u001b[0;34m\u001b[0m\u001b[0m\n\u001b[1;32m   2377\u001b[0m \u001b[0;34m\u001b[0m\u001b[0m\n\u001b[0;32m-> 2378\u001b[0;31m         \u001b[0msuper\u001b[0m\u001b[0;34m(\u001b[0m\u001b[0;34m)\u001b[0m\u001b[0;34m.\u001b[0m\u001b[0m__init__\u001b[0m\u001b[0;34m(\u001b[0m\u001b[0mvalues\u001b[0m\u001b[0;34m,\u001b[0m \u001b[0mndim\u001b[0m\u001b[0;34m=\u001b[0m\u001b[0mndim\u001b[0m\u001b[0;34m,\u001b[0m \u001b[0mplacement\u001b[0m\u001b[0;34m=\u001b[0m\u001b[0mplacement\u001b[0m\u001b[0;34m)\u001b[0m\u001b[0;34m\u001b[0m\u001b[0;34m\u001b[0m\u001b[0m\n\u001b[0m\u001b[1;32m   2379\u001b[0m \u001b[0;34m\u001b[0m\u001b[0m\n\u001b[1;32m   2380\u001b[0m     \u001b[0;34m@\u001b[0m\u001b[0mproperty\u001b[0m\u001b[0;34m\u001b[0m\u001b[0;34m\u001b[0m\u001b[0m\n",
      "\u001b[0;32m~/.local/lib/python3.8/site-packages/pandas/core/internals/blocks.py\u001b[0m in \u001b[0;36m__init__\u001b[0;34m(self, values, placement, ndim)\u001b[0m\n\u001b[1;32m    124\u001b[0m     \u001b[0;32mdef\u001b[0m \u001b[0m__init__\u001b[0m\u001b[0;34m(\u001b[0m\u001b[0mself\u001b[0m\u001b[0;34m,\u001b[0m \u001b[0mvalues\u001b[0m\u001b[0;34m,\u001b[0m \u001b[0mplacement\u001b[0m\u001b[0;34m,\u001b[0m \u001b[0mndim\u001b[0m\u001b[0;34m=\u001b[0m\u001b[0;32mNone\u001b[0m\u001b[0;34m)\u001b[0m\u001b[0;34m:\u001b[0m\u001b[0;34m\u001b[0m\u001b[0;34m\u001b[0m\u001b[0m\n\u001b[1;32m    125\u001b[0m         \u001b[0mself\u001b[0m\u001b[0;34m.\u001b[0m\u001b[0mndim\u001b[0m \u001b[0;34m=\u001b[0m \u001b[0mself\u001b[0m\u001b[0;34m.\u001b[0m\u001b[0m_check_ndim\u001b[0m\u001b[0;34m(\u001b[0m\u001b[0mvalues\u001b[0m\u001b[0;34m,\u001b[0m \u001b[0mndim\u001b[0m\u001b[0;34m)\u001b[0m\u001b[0;34m\u001b[0m\u001b[0;34m\u001b[0m\u001b[0m\n\u001b[0;32m--> 126\u001b[0;31m         \u001b[0mself\u001b[0m\u001b[0;34m.\u001b[0m\u001b[0mmgr_locs\u001b[0m \u001b[0;34m=\u001b[0m \u001b[0mplacement\u001b[0m\u001b[0;34m\u001b[0m\u001b[0;34m\u001b[0m\u001b[0m\n\u001b[0m\u001b[1;32m    127\u001b[0m         \u001b[0mself\u001b[0m\u001b[0;34m.\u001b[0m\u001b[0mvalues\u001b[0m \u001b[0;34m=\u001b[0m \u001b[0mvalues\u001b[0m\u001b[0;34m\u001b[0m\u001b[0;34m\u001b[0m\u001b[0m\n\u001b[1;32m    128\u001b[0m \u001b[0;34m\u001b[0m\u001b[0m\n",
      "\u001b[0;32m~/.local/lib/python3.8/site-packages/pandas/core/internals/blocks.py\u001b[0m in \u001b[0;36mmgr_locs\u001b[0;34m(self, new_mgr_locs)\u001b[0m\n\u001b[1;32m    238\u001b[0m     \u001b[0;32mdef\u001b[0m \u001b[0mmgr_locs\u001b[0m\u001b[0;34m(\u001b[0m\u001b[0mself\u001b[0m\u001b[0;34m,\u001b[0m \u001b[0mnew_mgr_locs\u001b[0m\u001b[0;34m)\u001b[0m\u001b[0;34m:\u001b[0m\u001b[0;34m\u001b[0m\u001b[0;34m\u001b[0m\u001b[0m\n\u001b[1;32m    239\u001b[0m         \u001b[0;32mif\u001b[0m \u001b[0;32mnot\u001b[0m \u001b[0misinstance\u001b[0m\u001b[0;34m(\u001b[0m\u001b[0mnew_mgr_locs\u001b[0m\u001b[0;34m,\u001b[0m \u001b[0mlibinternals\u001b[0m\u001b[0;34m.\u001b[0m\u001b[0mBlockPlacement\u001b[0m\u001b[0;34m)\u001b[0m\u001b[0;34m:\u001b[0m\u001b[0;34m\u001b[0m\u001b[0;34m\u001b[0m\u001b[0m\n\u001b[0;32m--> 240\u001b[0;31m             \u001b[0mnew_mgr_locs\u001b[0m \u001b[0;34m=\u001b[0m \u001b[0mlibinternals\u001b[0m\u001b[0;34m.\u001b[0m\u001b[0mBlockPlacement\u001b[0m\u001b[0;34m(\u001b[0m\u001b[0mnew_mgr_locs\u001b[0m\u001b[0;34m)\u001b[0m\u001b[0;34m\u001b[0m\u001b[0;34m\u001b[0m\u001b[0m\n\u001b[0m\u001b[1;32m    241\u001b[0m \u001b[0;34m\u001b[0m\u001b[0m\n\u001b[1;32m    242\u001b[0m         \u001b[0mself\u001b[0m\u001b[0;34m.\u001b[0m\u001b[0m_mgr_locs\u001b[0m \u001b[0;34m=\u001b[0m \u001b[0mnew_mgr_locs\u001b[0m\u001b[0;34m\u001b[0m\u001b[0;34m\u001b[0m\u001b[0m\n",
      "\u001b[0;31mKeyboardInterrupt\u001b[0m: "
     ]
    }
   ],
   "source": [
    "# teams = df[\"team_name_next_year\"].unique()\n",
    "# for team in teams:\n",
    "#     print(\"Team:\", team)\n",
    "#     print(\"===\")\n",
    "#     mask = df[\"team_name_next_year\"] == team\n",
    "#     data_team = data[mask]\n",
    "\n",
    "#     results, headers = calc_all_results(data_team, methods, n_iter=30, sample_size=50)\n",
    "#     print(tabulate(results, headers=headers, tablefmt=\"github\"))\n",
    "\n",
    "    "
   ]
  },
  {
   "cell_type": "code",
   "execution_count": null,
   "metadata": {},
   "outputs": [],
   "source": []
  },
  {
   "cell_type": "code",
   "execution_count": null,
   "metadata": {},
   "outputs": [],
   "source": []
  },
  {
   "cell_type": "code",
   "execution_count": null,
   "metadata": {},
   "outputs": [],
   "source": []
  },
  {
   "cell_type": "code",
   "execution_count": null,
   "metadata": {},
   "outputs": [],
   "source": []
  },
  {
   "cell_type": "code",
   "execution_count": null,
   "metadata": {},
   "outputs": [],
   "source": []
  },
  {
   "cell_type": "code",
   "execution_count": null,
   "metadata": {},
   "outputs": [],
   "source": []
  }
 ],
 "metadata": {
  "kernelspec": {
   "display_name": "Python 3",
   "language": "python",
   "name": "python3"
  },
  "language_info": {
   "codemirror_mode": {
    "name": "ipython",
    "version": 3
   },
   "file_extension": ".py",
   "mimetype": "text/x-python",
   "name": "python",
   "nbconvert_exporter": "python",
   "pygments_lexer": "ipython3",
   "version": "3.8.10"
  },
  "orig_nbformat": 4,
  "vscode": {
   "interpreter": {
    "hash": "31f2aee4e71d21fbe5cf8b01ff0e069b9275f58929596ceb00d14d90e3e16cd6"
   }
  }
 },
 "nbformat": 4,
 "nbformat_minor": 2
}
