{
 "cells": [
  {
   "cell_type": "code",
   "execution_count": 69,
   "metadata": {},
   "outputs": [],
   "source": [
    "import numpy as np\n",
    "import pandas as pd\n",
    "import matplotlib.pyplot as plt\n",
    "import seaborn as sns\n",
    "import re\n",
    "import os\n",
    "import json\n",
    "from tabulate import tabulate\n",
    "from sklearn.linear_model import LogisticRegression, LinearRegression\n"
   ]
  },
  {
   "cell_type": "code",
   "execution_count": 70,
   "metadata": {},
   "outputs": [
    {
     "name": "stdout",
     "output_type": "stream",
     "text": [
      "The autoreload extension is already loaded. To reload it, use:\n",
      "  %reload_ext autoreload\n"
     ]
    }
   ],
   "source": [
    "# magic\n",
    "%matplotlib inline\n",
    "%load_ext autoreload\n",
    "%autoreload 2"
   ]
  },
  {
   "cell_type": "code",
   "execution_count": 193,
   "metadata": {},
   "outputs": [
    {
     "data": {
      "text/plain": [
       "0      Alexander\n",
       "1         Alonso\n",
       "2        Anibaba\n",
       "3           Ashe\n",
       "4          Avila\n",
       "         ...    \n",
       "131       Parker\n",
       "132        Reyna\n",
       "133         Shea\n",
       "134      Techera\n",
       "135       Waston\n",
       "Name: last_name, Length: 656, dtype: object"
      ]
     },
     "execution_count": 193,
     "metadata": {},
     "output_type": "execute_result"
    }
   ],
   "source": []
  },
  {
   "cell_type": "code",
   "execution_count": 177,
   "metadata": {},
   "outputs": [],
   "source": [
    "data = []\n",
    "file_list = [f'archive\\jsons\\data_{i}.json' for i in range(2013, 2019)]\n",
    "for file in file_list:\n",
    "    data.append(pd.read_json(file))\n",
    "raw_data = pd.concat(data)"
   ]
  },
  {
   "cell_type": "code",
   "execution_count": 182,
   "metadata": {},
   "outputs": [
    {
     "data": {
      "image/png": "[encoded data removed]",
      "text/plain": [
       "<Figure size 640x480 with 1 Axes>"
      ]
     },
     "metadata": {},
     "output_type": "display_data"
    }
   ],
   "source": [
    "raw_data['rating'].hist()\n",
    "plt.show()"
   ]
  },
  {
   "cell_type": "code",
   "execution_count": 180,
   "metadata": {},
   "outputs": [
    {
     "data": {
      "text/plain": [
       "count    1742.000000\n",
       "mean        6.813685\n",
       "std         0.280188\n",
       "min         6.102632\n",
       "25%         6.614158\n",
       "50%         6.796878\n",
       "75%         6.990208\n",
       "max         7.842593\n",
       "Name: rating, dtype: float64"
      ]
     },
     "execution_count": 180,
     "metadata": {},
     "output_type": "execute_result"
    }
   ],
   "source": [
    "raw_data['rating'].describe()"
   ]
  },
  {
   "cell_type": "code",
   "execution_count": 199,
   "metadata": {},
   "outputs": [
    {
     "data": {
      "text/plain": [
       "<AxesSubplot:>"
      ]
     },
     "execution_count": 199,
     "metadata": {},
     "output_type": "execute_result"
    },
    {
     "data": {
      "image/png": "[encoded data removed]",
      "text/plain": [
       "<Figure size 640x480 with 1 Axes>"
      ]
     },
     "metadata": {},
     "output_type": "display_data"
    }
   ],
   "source": [
    "df.groupby(['last_name', 'first_name'])['age_group'].count().hist()"
   ]
  },
  {
   "cell_type": "code",
   "execution_count": 71,
   "metadata": {},
   "outputs": [],
   "source": [
    "from dataset_creation import create_dataset"
   ]
  },
  {
   "cell_type": "code",
   "execution_count": 72,
   "metadata": {},
   "outputs": [
    {
     "name": "stderr",
     "output_type": "stream",
     "text": [
      "c:\\Users\\10\\Documents\\SemesterA\\Causal Inference\\Project\\Casual-Inference-Soccer-main\\Casual-Inference-Soccer-main\\dataset_creation.py:134: FutureWarning: The frame.append method is deprecated and will be removed from pandas in a future version. Use pandas.concat instead.\n",
      "  df = df.append(merge_datasets(year, \"archive\"))\n",
      "c:\\Users\\10\\Documents\\SemesterA\\Causal Inference\\Project\\Casual-Inference-Soccer-main\\Casual-Inference-Soccer-main\\dataset_creation.py:134: FutureWarning: The frame.append method is deprecated and will be removed from pandas in a future version. Use pandas.concat instead.\n",
      "  df = df.append(merge_datasets(year, \"archive\"))\n",
      "c:\\Users\\10\\Documents\\SemesterA\\Causal Inference\\Project\\Casual-Inference-Soccer-main\\Casual-Inference-Soccer-main\\dataset_creation.py:134: FutureWarning: The frame.append method is deprecated and will be removed from pandas in a future version. Use pandas.concat instead.\n",
      "  df = df.append(merge_datasets(year, \"archive\"))\n",
      "c:\\Users\\10\\Documents\\SemesterA\\Causal Inference\\Project\\Casual-Inference-Soccer-main\\Casual-Inference-Soccer-main\\dataset_creation.py:134: FutureWarning: The frame.append method is deprecated and will be removed from pandas in a future version. Use pandas.concat instead.\n",
      "  df = df.append(merge_datasets(year, \"archive\"))\n",
      "c:\\Users\\10\\Documents\\SemesterA\\Causal Inference\\Project\\Casual-Inference-Soccer-main\\Casual-Inference-Soccer-main\\dataset_creation.py:134: FutureWarning: The frame.append method is deprecated and will be removed from pandas in a future version. Use pandas.concat instead.\n",
      "  df = df.append(merge_datasets(year, \"archive\"))\n"
     ]
    }
   ],
   "source": [
    "df = create_dataset()"
   ]
  },
  {
   "cell_type": "code",
   "execution_count": 200,
   "metadata": {},
   "outputs": [
    {
     "data": {
      "text/plain": [
       ">35      273\n",
       "30-35    241\n",
       "27-30    114\n",
       "20-27     28\n",
       "Name: age_group, dtype: int64"
      ]
     },
     "execution_count": 200,
     "metadata": {},
     "output_type": "execute_result"
    }
   ],
   "source": [
    "df['age_group'].value_counts()"
   ]
  },
  {
   "cell_type": "code",
   "execution_count": 183,
   "metadata": {},
   "outputs": [
    {
     "data": {
      "text/plain": [
       "656"
      ]
     },
     "execution_count": 183,
     "metadata": {},
     "output_type": "execute_result"
    }
   ],
   "source": [
    "len(df)"
   ]
  },
  {
   "cell_type": "code",
   "execution_count": 74,
   "metadata": {},
   "outputs": [
    {
     "data": {
      "text/plain": [
       "0.4463152856531149"
      ]
     },
     "execution_count": 74,
     "metadata": {},
     "output_type": "execute_result"
    },
    {
     "data": {
      "image/png": "[encoded data removed]",
      "text/plain": [
       "<Figure size 640x480 with 1 Axes>"
      ]
     },
     "metadata": {},
     "output_type": "display_data"
    }
   ],
   "source": [
    "plt.scatter(df[\"salary_next_year\"], df[\"goals_per_game_next_year\"])\n",
    "plt.xlabel(\"Salary (log scale)\")\n",
    "plt.ylabel(\"Goals + Assisted per game\")\n",
    "#  x log scale\n",
    "\n",
    "# calc correlation\n",
    "corr = df.corr()\n",
    "corr.loc[\"salary_next_year\", \"goals_per_game_next_year\"]\n"
   ]
  },
  {
   "cell_type": "code",
   "execution_count": 168,
   "metadata": {},
   "outputs": [],
   "source": [
    "T = df[\"T\"]\n",
    "# X = pd.get_dummies(df[[\"salary_next_year\", \n",
    "#                        \"age_group_next_year\",\n",
    "#                        \"team_name_next_year\",\n",
    "#                        \"rating\",\n",
    "#                        \"minutes_per_game_next_year\",\n",
    "#                        \"pass_success_next_year\",\n",
    "#                        'shots_per_game_next_year',\n",
    "#                        ]])\n",
    "\n",
    "X = pd.get_dummies(df[[\n",
    "                       \"salary\",\n",
    "                    # \"added_salary\"\n",
    "                    #    \"salary_next_year\", \n",
    "                       \"age_group\",\n",
    "                             \"team_name\",\n",
    "                             'rating', \n",
    "                             'team_name_next_year', \n",
    "                             \"shots_per_game\",\n",
    "                             \"goals_per_game\",\n",
    "                             \"pass_success\",\n",
    "                             \"minutes_per_game\",\n",
    "                             'man_of_the_match_per_game','assists_per_game'\n",
    "                       ]])\n",
    "\n",
    "Y = df[\"rating_next_year\"]"
   ]
  },
  {
   "cell_type": "code",
   "execution_count": 184,
   "metadata": {},
   "outputs": [],
   "source": [
    "from sklearn.model_selection import train_test_split\n",
    "from sklearn.metrics import mean_squared_error\n",
    "x = pd.get_dummies(df[[ \n",
    "                             \"shots_per_game\",\n",
    "                             \"goals_per_game\",\n",
    "                             \"pass_success\",\n",
    "                             \"minutes_per_game\",\n",
    "                             'man_of_the_match_per_game','assists_per_game'\n",
    "                       ]])\n",
    "y = df['rating']\n",
    "x, x_test, y, y_test = train_test_split(X, Y, test_size=0.2, train_size=0.8)"
   ]
  },
  {
   "cell_type": "code",
   "execution_count": 185,
   "metadata": {},
   "outputs": [],
   "source": [
    "linear = LinearRegression().fit(x, y)"
   ]
  },
  {
   "cell_type": "code",
   "execution_count": 186,
   "metadata": {},
   "outputs": [
    {
     "data": {
      "text/plain": [
       "9.747111862815553e-30"
      ]
     },
     "execution_count": 186,
     "metadata": {},
     "output_type": "execute_result"
    }
   ],
   "source": [
    "mean_squared_error(y_test, linear.predict(x_test))"
   ]
  },
  {
   "cell_type": "code",
   "execution_count": 187,
   "metadata": {},
   "outputs": [
    {
     "data": {
      "text/plain": [
       "0      30-35\n",
       "1        >35\n",
       "2      30-35\n",
       "3        >35\n",
       "4      30-35\n",
       "       ...  \n",
       "131    27-30\n",
       "132    27-30\n",
       "133    30-35\n",
       "134    27-30\n",
       "135    30-35\n",
       "Name: age_group, Length: 656, dtype: category\n",
       "Categories (4, object): ['20-27' < '27-30' < '30-35' < '>35']"
      ]
     },
     "execution_count": 187,
     "metadata": {},
     "output_type": "execute_result"
    }
   ],
   "source": [
    "df['age_group']"
   ]
  },
  {
   "cell_type": "code",
   "execution_count": 169,
   "metadata": {},
   "outputs": [
    {
     "data": {
      "text/plain": [
       "<matplotlib.lines.Line2D at 0x138bbcec910>"
      ]
     },
     "execution_count": 169,
     "metadata": {},
     "output_type": "execute_result"
    },
    {
     "data": {
      "image/png": "[encoded data removed]",
      "text/plain": [
       "<Figure size 640x480 with 1 Axes>"
      ]
     },
     "metadata": {},
     "output_type": "display_data"
    }
   ],
   "source": [
    "# calc propensity score\n",
    "from sklearn.linear_model import LogisticRegression, LinearRegression\n",
    "\n",
    "lr = LogisticRegression(max_iter=1000000)\n",
    "lr.fit(X, T)\n",
    "ps = lr.predict_proba(X)[:, 1]\n",
    "\n",
    "# visualize propensity score\n",
    "plt.hist(ps[T == 0], bins=20, alpha=0.5, label=\"T=0\")\n",
    "plt.hist(ps[T == 1], bins=20, alpha=0.5, label=\"T=1\")\n",
    "plt.legend()\n",
    "\n",
    "\n",
    "# x line\n",
    "low_threshold = 0.1 \n",
    "high_threshold = 0.9\n",
    "plt.axvline(low_threshold, color=\"red\")\n",
    "plt.axvline(high_threshold, color=\"red\")\n"
   ]
  },
  {
   "cell_type": "code",
   "execution_count": 170,
   "metadata": {},
   "outputs": [],
   "source": [
    "# TODO: trim outliers based on propensity score\n",
    "\n",
    "# trim outliers\n",
    "X = X[(ps > low_threshold) & (ps < high_threshold)]\n",
    "T = T[(ps > low_threshold) & (ps < high_threshold)]\n",
    "Y = Y[(ps > low_threshold) & (ps < high_threshold)]\n",
    "ps = ps[(ps > low_threshold) & (ps < high_threshold)]"
   ]
  },
  {
   "cell_type": "code",
   "execution_count": 171,
   "metadata": {},
   "outputs": [
    {
     "data": {
      "text/plain": [
       "Text(0.5, 1.0, 'Propensity score after trimming')"
      ]
     },
     "execution_count": 171,
     "metadata": {},
     "output_type": "execute_result"
    },
    {
     "data": {
      "image/png": "[encoded data removed]",
      "text/plain": [
       "<Figure size 640x480 with 1 Axes>"
      ]
     },
     "metadata": {},
     "output_type": "display_data"
    }
   ],
   "source": [
    "plt.hist(ps[T == 0], bins=20, alpha=0.5, label=\"T=0\")\n",
    "plt.hist(ps[T == 1], bins=20, alpha=0.5, label=\"T=1\")\n",
    "plt.legend()\n",
    "\n",
    "plt.title(\"Propensity score after trimming\")"
   ]
  },
  {
   "cell_type": "code",
   "execution_count": 172,
   "metadata": {},
   "outputs": [],
   "source": [
    "data = X\n",
    "data[\"T\"] = T\n",
    "data[\"Y\"] = Y"
   ]
  },
  {
   "cell_type": "code",
   "execution_count": 173,
   "metadata": {},
   "outputs": [],
   "source": [
    "def fit_model(data, out_var, ignore=None, max_iter=10000, model_type=\"logistic\"):\n",
    "\n",
    "    if ignore is None:\n",
    "        ignore = []\n",
    "    \n",
    "    if model_type == \"logistic\":\n",
    "        model = LogisticRegression(max_iter=max_iter)\n",
    "    elif model_type == \"linear\":\n",
    "        model = LinearRegression()\n",
    "    elif isinstance(model_type, sklearn.base.BaseEstimator):\n",
    "        model = model_type\n",
    "    else:\n",
    "        raise ValueError(\"model_type must be 'logistic' or 'linear'\")\n",
    "\n",
    "    X = data.drop([out_var] + ignore, axis=1)\n",
    "    y = data[out_var]\n",
    "\n",
    "    model.fit(X, y)\n",
    "\n",
    "    return model\n",
    "\n",
    "def propensity_fitting(data):\n",
    "\n",
    "    propensity_func = fit_model(data, \"T\", ignore=[\"Y\"], max_iter=10000)\n",
    "\n",
    "    return propensity_func\n",
    "\n",
    "\n",
    "def calc_propensity_score(data, propensity_func):\n",
    "    X = data.drop([\"T\", \"Y\"], axis=1)\n",
    "    propensity_score = propensity_func.predict_proba(X)[:, 1]\n",
    "    propensity_score = pd.Series(propensity_score, index=X.index)\n",
    "\n",
    "    return propensity_score\n",
    "\n",
    "def IPW_ATE(Y, T, propensity_score):\n",
    "    return (np.sum(Y[T == 1] / propensity_score[T == 1]) - np.sum(Y[T == 0] / propensity_score[T == 0])) / len(Y)\n",
    "\n",
    "def calculate_IPW_ATE(data):\n",
    "    propensity_func = propensity_fitting(data)\n",
    "    propensity_score = calc_propensity_score(data, propensity_func)\n",
    "    return IPW_ATE(data[\"Y\"], data[\"T\"], propensity_score)\n",
    "\n",
    "\n",
    "# S-learner\n",
    "def fit_y(data):\n",
    "\n",
    "    y_func = fit_model(data, \"Y\", max_iter=10000, model_type=\"linear\")\n",
    "\n",
    "    return y_func\n",
    "\n",
    "def covariate_adjustment(data, y1_func, y0_func=None):\n",
    "    if y0_func is None:\n",
    "        y0_func = y1_func\n",
    "\n",
    "    X = data.drop([\"Y\"], axis=1)\n",
    "\n",
    "    X1 = X.copy()\n",
    "    X1[\"T\"] = 1\n",
    "    y1 = y1_func.predict(X1)\n",
    "\n",
    "    X0 = X.copy()\n",
    "    X0[\"T\"] = 0\n",
    "    y0 = y0_func.predict(X0)\n",
    "\n",
    "    y = y1 - y0\n",
    "\n",
    "    return y.mean()\n",
    "\n",
    "\n",
    "\n",
    "\n",
    "def calculate_S_learner_ATE(data):\n",
    "\n",
    "    y_func = fit_y(data)\n",
    "\n",
    "    return covariate_adjustment(data, y_func)\n",
    "\n",
    "# T-learner\n",
    "def calculate_T_learner_ATE(data):\n",
    "\n",
    "    y1_func = fit_y(data[data[\"T\"] == 1])\n",
    "    y0_func = fit_y(data[data[\"T\"] == 0])\n",
    "\n",
    "    return covariate_adjustment(data, y1_func, y0_func)\n",
    "\n",
    "from sklearn.neighbors import NearestNeighbors\n",
    "def calculate_matching_ATE(data, metric=\"euclidean\"):\n",
    "\n",
    "    knn0 = NearestNeighbors(n_neighbors=1, metric=metric)\n",
    "    knn1 = NearestNeighbors(n_neighbors=1, metric=metric)\n",
    "\n",
    "    X = data.drop([\"Y\", \"T\"], axis=1)\n",
    "\n",
    "    knn0.fit(X[data[\"T\"] == 0])\n",
    "    knn1.fit(X[data[\"T\"] == 1])\n",
    "\n",
    "    X0 = X[data[\"T\"] == 0]\n",
    "    X1 = X[data[\"T\"] == 1]\n",
    "\n",
    "    _, idx0 = knn0.kneighbors(X1)\n",
    "    _, idx1 = knn1.kneighbors(X0)\n",
    "\n",
    "    y0 = data[\"Y\"][data[\"T\"] == 0].iloc[idx0[:, 0]]\n",
    "    y1 = data[\"Y\"][data[\"T\"] == 1].iloc[idx1[:, 0]]\n",
    "\n",
    "    y0 = data[\"Y\"][data[\"T\"] == 1] - y0\n",
    "    y1 = y1 - data[\"Y\"][data[\"T\"] == 0]\n",
    "\n",
    "    return (y0.sum() + y1.sum()) / (len(y0) + len(y1)) \n",
    "\n",
    "\n",
    "\n",
    "\n"
   ]
  },
  {
   "cell_type": "code",
   "execution_count": 174,
   "metadata": {},
   "outputs": [],
   "source": [
    "\n",
    "def calculate_ATE(data, method=\"IPW\"):\n",
    "    if method == \"IPW\":\n",
    "        return calculate_IPW_ATE(data)\n",
    "    elif method == \"S-learner\":\n",
    "        return calculate_S_learner_ATE(data)\n",
    "    elif method == \"T-learner\":\n",
    "        return calculate_T_learner_ATE(data)\n",
    "    elif method == \"matching\":\n",
    "        return calculate_matching_ATE(data)\n",
    "    else:\n",
    "        raise ValueError(\"method must be 'IPW', 'S-learner', 'T-learner', or 'matching'\")\n",
    "\n",
    "# estimate variance using bootstrap\n",
    "def estimate_variance(data, method=\"IPW\", n_iter=1000, random_state=0, sample_size=None):\n",
    "    np.random.seed(random_state)\n",
    "\n",
    "    if sample_size is None:\n",
    "        sample_size = len(data)\n",
    "\n",
    "    ate_list = []\n",
    "    for _ in range(n_iter):\n",
    "        idx = np.random.choice(data.index, size=sample_size, replace=True)\n",
    "        ate_list.append(calculate_ATE(data.loc[idx], method=method))\n",
    "\n",
    "    ate_list = np.array(ate_list)\n",
    "    return ate_list.std()\n",
    "\n"
   ]
  },
  {
   "cell_type": "code",
   "execution_count": 175,
   "metadata": {},
   "outputs": [
    {
     "name": "stdout",
     "output_type": "stream",
     "text": [
      "|           |          ATE |       std | ATE (95% CI)   |\n",
      "|-----------|--------------|-----------|----------------|\n",
      "| IPW       | -1.09142     | 2.11445   | -1.091 ± 4.144 |\n",
      "| S-learner | -0.00855061  | 0.0221756 | -0.009 ± 0.043 |\n",
      "| T-learner | -0.0060734   | 0.0226236 | -0.006 ± 0.044 |\n",
      "| matching  | -0.000234985 | 0.0247002 | -0.000 ± 0.048 |\n"
     ]
    }
   ],
   "source": [
    "# tabulate all results\n",
    "methods = [\"IPW\", \"S-learner\", \"T-learner\", \"matching\"]\n",
    "results = pd.DataFrame(index=methods, columns=[\"ATE\", \"std\"])\n",
    "\n",
    "for method in methods:\n",
    "    results.loc[method, \"ATE\"] = calculate_ATE(data, method=method)\n",
    "    results.loc[method, \"std\"] = estimate_variance(data, method=method, n_iter=100, sample_size=100)\n",
    "    # add 95% confidence interval\n",
    "    results.loc[method, \"ATE (95% CI)\"] = f\"{results.loc[method, 'ATE']:.3f} ± {1.96 * results.loc[method, 'std']:.3f}\"\n",
    "\n",
    "print(tabulate(results, headers=\"keys\", tablefmt=\"github\"))"
   ]
  },
  {
   "cell_type": "code",
   "execution_count": 83,
   "metadata": {},
   "outputs": [
    {
     "data": {
      "text/plain": [
       "6.186999999999999"
      ]
     },
     "execution_count": 83,
     "metadata": {},
     "output_type": "execute_result"
    }
   ],
   "source": [
    "Y.min()"
   ]
  },
  {
   "cell_type": "code",
   "execution_count": 84,
   "metadata": {},
   "outputs": [
    {
     "data": {
      "text/plain": [
       "(609, 37)"
      ]
     },
     "execution_count": 84,
     "metadata": {},
     "output_type": "execute_result"
    }
   ],
   "source": [
    "\n",
    "X.shape"
   ]
  },
  {
   "cell_type": "code",
   "execution_count": 85,
   "metadata": {},
   "outputs": [],
   "source": [
    "# def read_mls_salaries(data_path, year):\n",
    "\n",
    "#     salaries_year = pd.read_csv(os.path.join(data_path, f\"mls-salaries-{year}.csv\"))\n",
    "\n",
    "#     salaries_year[\"salary\"] = salaries_year[\"guaranteed_compensation\"]\n",
    "\n",
    "#     salaries_year = salaries_year[salaries_year[\"position\"].str.contains(\"F\") \n",
    "#                                   & (~salaries_year[\"position\"].isna())]\n",
    "\n",
    "#     salaries_year = salaries_year[[\"first_name\", \"last_name\", \"salary\"]]\n",
    "\n",
    "#     return salaries_year\n",
    "\n",
    "# def read_stats_data(data_path, year):\n",
    "\n",
    "#     stats_year = pd.read_json(os.path.join(data_path, f\"data_{year}.json\"))\n",
    "\n",
    "#     stats_year[\"age_group\"] = pd.cut(stats_year[\"age\"], \n",
    "#                          bins=[20, 27, 30, 35, 100], \n",
    "#                          labels=[\"20-27\", \"27-30\", \"30-35\", \">35\"])\n",
    "\n",
    "    \n",
    "#     stats_year[\"goals_per_game\"] = (stats_year[\"goal\"] + stats_year[\"assistTotal\"]) / stats_year[\"apps\"]\n",
    "#     stats_year[\"shots_per_game\"] = stats_year[\"shotsPerGame\"] # / stats_year[\"apps\"]\n",
    "#     stats_year[\"minutes_per_game\"] = stats_year[\"minsPlayed\"] / stats_year[\"apps\"]\n",
    "\n",
    "#     stats_year = stats_year.rename(columns={\"teamName\": \"team_name\",\n",
    "#                                             \"passSuccess\": \"pass_success\",\n",
    "#                                             \"firstName\": \"first_name\",\n",
    "#                                             \"lastName\": \"last_name\"})\n",
    "\n",
    "#     stats_year = stats_year[[\"age_group\", \n",
    "#                              \"team_name\", \n",
    "#                              \"shots_per_game\", \n",
    "#                              \"goals_per_game\",\n",
    "#                              \"pass_success\",\n",
    "#                              \"rating\",\n",
    "#                              \"minutes_per_game\",\n",
    "#                              \"first_name\",\n",
    "#                              \"last_name\"]]\n",
    "\n",
    "\n",
    "#     # stats_year = pd.get_dummies(stats_year, columns=[\"age_group\", \"team_name\"])\n",
    "\n",
    "\n",
    "#     return stats_year\n",
    "\n"
   ]
  },
  {
   "cell_type": "code",
   "execution_count": 86,
   "metadata": {},
   "outputs": [],
   "source": [
    "# def merge_datasets(year, data_path):\n",
    "#     merge_on = [\"last_name\", \"first_name\"]\n",
    "\n",
    "\n",
    "#     salaries_path = os.path.join(data_path, \"csvs\")\n",
    "\n",
    "#     salaries_year = read_mls_salaries(salaries_path, year)\n",
    "#     salaries_next_year = read_mls_salaries(salaries_path, year + 1)\n",
    "\n",
    "\n",
    "\n",
    "#     # Merge the two datasets\n",
    "#     salaries_merged = pd.merge(salaries_year, \n",
    "#                                salaries_next_year, \n",
    "#                                on=merge_on, \n",
    "#                                how=\"inner\",\n",
    "#                                suffixes=(\"\", \"_next_year\"))\n",
    "\n",
    "\n",
    "#     added_salary = (salaries_merged[\"salary_next_year\"] - salaries_merged[\"salary\"]) / salaries_merged[\"salary\"] \n",
    "#     salaries_merged[\"added_salary\"] = added_salary\n",
    "\n",
    "#     salaries_merged = salaries_merged[salaries_merged[\"added_salary\"] > -0.1]\n",
    "#     salaries_merged[\"T\"] = salaries_merged[\"added_salary\"] > 0.1\n",
    "    \n",
    "#     stats_path = os.path.join(data_path, \"jsons\")\n",
    "\n",
    "#     stats_year = read_stats_data(stats_path, year)\n",
    "#     stats_next_year = read_stats_data(stats_path, year + 1)\n",
    "\n",
    "\n",
    "#     # Merge the two datasets\n",
    "#     stats_merged = pd.merge(stats_year,\n",
    "#                             stats_next_year,    \n",
    "#                             on=merge_on,\n",
    "#                             how=\"inner\",\n",
    "#                             suffixes=(\"\", \"_next_year\"))\n",
    "\n",
    "    \n",
    "#     a1 = salaries_merged.columns\n",
    "#     a2 = stats_merged.columns\n",
    "#     a3 = np.intersect1d(a1, a2)\n",
    "#     a3 = a3[~np.isin(a3, merge_on)]\n",
    "\n",
    "    \n",
    "#     assert len(a3) == 0, \"There are columns with the same name in both datasets\"\n",
    "\n",
    "#     # Merge the two datasets\n",
    "#     merged = pd.merge(salaries_merged,\n",
    "#                       stats_merged,\n",
    "#                         on=merge_on,\n",
    "#                         # left_on=[\"last_name\", \"first_name\"],\n",
    "#                         # right_on=[\"lastName\", \"firstName\"],\n",
    "#                         how=\"inner\")\n",
    "\n",
    "#     return merged\n",
    "    \n",
    "\n"
   ]
  },
  {
   "cell_type": "code",
   "execution_count": 87,
   "metadata": {},
   "outputs": [],
   "source": [
    "# df = pd.DataFrame()\n",
    "\n",
    "# for year in range(2013, 2018):\n",
    "\n",
    "#     # df = merge_datasets(year, \"archive\")\n",
    "#     df = df.append(merge_datasets(year, \"archive\"))\n"
   ]
  },
  {
   "cell_type": "code",
   "execution_count": 88,
   "metadata": {},
   "outputs": [
    {
     "data": {
      "text/html": [
       "<div>\n",
       "<style scoped>\n",
       "    .dataframe tbody tr th:only-of-type {\n",
       "        vertical-align: middle;\n",
       "    }\n",
       "\n",
       "    .dataframe tbody tr th {\n",
       "        vertical-align: top;\n",
       "    }\n",
       "\n",
       "    .dataframe thead th {\n",
       "        text-align: right;\n",
       "    }\n",
       "</style>\n",
       "<table border=\"1\" class=\"dataframe\">\n",
       "  <thead>\n",
       "    <tr style=\"text-align: right;\">\n",
       "      <th></th>\n",
       "      <th>first_name</th>\n",
       "      <th>last_name</th>\n",
       "      <th>salary</th>\n",
       "      <th>salary_next_year</th>\n",
       "      <th>added_salary</th>\n",
       "      <th>T</th>\n",
       "      <th>age_group</th>\n",
       "      <th>team_name</th>\n",
       "      <th>shots_per_game</th>\n",
       "      <th>goals_per_game</th>\n",
       "      <th>...</th>\n",
       "      <th>assists_per_game</th>\n",
       "      <th>age_group_next_year</th>\n",
       "      <th>team_name_next_year</th>\n",
       "      <th>shots_per_game_next_year</th>\n",
       "      <th>goals_per_game_next_year</th>\n",
       "      <th>pass_success_next_year</th>\n",
       "      <th>rating_next_year</th>\n",
       "      <th>minutes_per_game_next_year</th>\n",
       "      <th>man_of_the_match_per_game_next_year</th>\n",
       "      <th>assists_per_game_next_year</th>\n",
       "    </tr>\n",
       "  </thead>\n",
       "  <tbody>\n",
       "    <tr>\n",
       "      <th>0</th>\n",
       "      <td>Eric</td>\n",
       "      <td>Alexander</td>\n",
       "      <td>11.168567</td>\n",
       "      <td>11.765628</td>\n",
       "      <td>0.816771</td>\n",
       "      <td>True</td>\n",
       "      <td>30-35</td>\n",
       "      <td>New York</td>\n",
       "      <td>0.972222</td>\n",
       "      <td>0.138889</td>\n",
       "      <td>...</td>\n",
       "      <td>0.055556</td>\n",
       "      <td>30-35</td>\n",
       "      <td>New York</td>\n",
       "      <td>0.769231</td>\n",
       "      <td>0.051282</td>\n",
       "      <td>85.806037</td>\n",
       "      <td>6.695641</td>\n",
       "      <td>77.692308</td>\n",
       "      <td>0.000000</td>\n",
       "      <td>0.179487</td>\n",
       "    </tr>\n",
       "    <tr>\n",
       "      <th>1</th>\n",
       "      <td>Osvaldo</td>\n",
       "      <td>Alonso</td>\n",
       "      <td>12.254863</td>\n",
       "      <td>12.899220</td>\n",
       "      <td>0.904762</td>\n",
       "      <td>True</td>\n",
       "      <td>&gt;35</td>\n",
       "      <td>Seattle</td>\n",
       "      <td>1.241379</td>\n",
       "      <td>0.034483</td>\n",
       "      <td>...</td>\n",
       "      <td>0.034483</td>\n",
       "      <td>&gt;35</td>\n",
       "      <td>Seattle</td>\n",
       "      <td>0.972222</td>\n",
       "      <td>0.027778</td>\n",
       "      <td>91.019523</td>\n",
       "      <td>7.322222</td>\n",
       "      <td>88.111111</td>\n",
       "      <td>0.111111</td>\n",
       "      <td>0.000000</td>\n",
       "    </tr>\n",
       "    <tr>\n",
       "      <th>2</th>\n",
       "      <td>Jalil</td>\n",
       "      <td>Anibaba</td>\n",
       "      <td>11.784821</td>\n",
       "      <td>11.980551</td>\n",
       "      <td>0.216199</td>\n",
       "      <td>True</td>\n",
       "      <td>30-35</td>\n",
       "      <td>Chicago</td>\n",
       "      <td>0.500000</td>\n",
       "      <td>0.029412</td>\n",
       "      <td>...</td>\n",
       "      <td>0.000000</td>\n",
       "      <td>30-35</td>\n",
       "      <td>Seattle</td>\n",
       "      <td>0.470588</td>\n",
       "      <td>0.000000</td>\n",
       "      <td>79.840319</td>\n",
       "      <td>6.630588</td>\n",
       "      <td>75.588235</td>\n",
       "      <td>0.000000</td>\n",
       "      <td>0.058824</td>\n",
       "    </tr>\n",
       "    <tr>\n",
       "      <th>3</th>\n",
       "      <td>Corey</td>\n",
       "      <td>Ashe</td>\n",
       "      <td>11.568833</td>\n",
       "      <td>12.071112</td>\n",
       "      <td>0.652482</td>\n",
       "      <td>True</td>\n",
       "      <td>&gt;35</td>\n",
       "      <td>Houston</td>\n",
       "      <td>0.235294</td>\n",
       "      <td>0.000000</td>\n",
       "      <td>...</td>\n",
       "      <td>0.058824</td>\n",
       "      <td>&gt;35</td>\n",
       "      <td>Houston</td>\n",
       "      <td>0.380952</td>\n",
       "      <td>0.000000</td>\n",
       "      <td>77.215190</td>\n",
       "      <td>6.574762</td>\n",
       "      <td>89.476190</td>\n",
       "      <td>0.000000</td>\n",
       "      <td>0.095238</td>\n",
       "    </tr>\n",
       "    <tr>\n",
       "      <th>4</th>\n",
       "      <td>Eric</td>\n",
       "      <td>Avila</td>\n",
       "      <td>11.695247</td>\n",
       "      <td>11.813030</td>\n",
       "      <td>0.125000</td>\n",
       "      <td>True</td>\n",
       "      <td>30-35</td>\n",
       "      <td>Chivas</td>\n",
       "      <td>0.964286</td>\n",
       "      <td>0.107143</td>\n",
       "      <td>...</td>\n",
       "      <td>0.000000</td>\n",
       "      <td>30-35</td>\n",
       "      <td>Chivas</td>\n",
       "      <td>0.551724</td>\n",
       "      <td>0.000000</td>\n",
       "      <td>75.841346</td>\n",
       "      <td>6.533793</td>\n",
       "      <td>74.896552</td>\n",
       "      <td>0.000000</td>\n",
       "      <td>0.034483</td>\n",
       "    </tr>\n",
       "    <tr>\n",
       "      <th>...</th>\n",
       "      <td>...</td>\n",
       "      <td>...</td>\n",
       "      <td>...</td>\n",
       "      <td>...</td>\n",
       "      <td>...</td>\n",
       "      <td>...</td>\n",
       "      <td>...</td>\n",
       "      <td>...</td>\n",
       "      <td>...</td>\n",
       "      <td>...</td>\n",
       "      <td>...</td>\n",
       "      <td>...</td>\n",
       "      <td>...</td>\n",
       "      <td>...</td>\n",
       "      <td>...</td>\n",
       "      <td>...</td>\n",
       "      <td>...</td>\n",
       "      <td>...</td>\n",
       "      <td>...</td>\n",
       "      <td>...</td>\n",
       "      <td>...</td>\n",
       "    </tr>\n",
       "    <tr>\n",
       "      <th>131</th>\n",
       "      <td>Tim</td>\n",
       "      <td>Parker</td>\n",
       "      <td>11.508917</td>\n",
       "      <td>11.660785</td>\n",
       "      <td>0.164006</td>\n",
       "      <td>True</td>\n",
       "      <td>27-30</td>\n",
       "      <td>Vancouver</td>\n",
       "      <td>0.571429</td>\n",
       "      <td>0.028571</td>\n",
       "      <td>...</td>\n",
       "      <td>0.057143</td>\n",
       "      <td>27-30</td>\n",
       "      <td>New York</td>\n",
       "      <td>0.545455</td>\n",
       "      <td>0.060606</td>\n",
       "      <td>73.189009</td>\n",
       "      <td>7.053030</td>\n",
       "      <td>90.000000</td>\n",
       "      <td>0.060606</td>\n",
       "      <td>0.060606</td>\n",
       "    </tr>\n",
       "    <tr>\n",
       "      <th>132</th>\n",
       "      <td>Yordy</td>\n",
       "      <td>Reyna</td>\n",
       "      <td>13.187589</td>\n",
       "      <td>13.187589</td>\n",
       "      <td>0.000000</td>\n",
       "      <td>False</td>\n",
       "      <td>27-30</td>\n",
       "      <td>Vancouver</td>\n",
       "      <td>1.285714</td>\n",
       "      <td>0.285714</td>\n",
       "      <td>...</td>\n",
       "      <td>0.142857</td>\n",
       "      <td>27-30</td>\n",
       "      <td>Vancouver</td>\n",
       "      <td>1.653846</td>\n",
       "      <td>0.230769</td>\n",
       "      <td>84.433164</td>\n",
       "      <td>6.924615</td>\n",
       "      <td>72.230769</td>\n",
       "      <td>0.076923</td>\n",
       "      <td>0.346154</td>\n",
       "    </tr>\n",
       "    <tr>\n",
       "      <th>133</th>\n",
       "      <td>Brek</td>\n",
       "      <td>Shea</td>\n",
       "      <td>13.415033</td>\n",
       "      <td>13.521139</td>\n",
       "      <td>0.111940</td>\n",
       "      <td>True</td>\n",
       "      <td>30-35</td>\n",
       "      <td>Vancouver</td>\n",
       "      <td>0.821429</td>\n",
       "      <td>0.142857</td>\n",
       "      <td>...</td>\n",
       "      <td>0.107143</td>\n",
       "      <td>30-35</td>\n",
       "      <td>Vancouver</td>\n",
       "      <td>0.857143</td>\n",
       "      <td>0.107143</td>\n",
       "      <td>75.660377</td>\n",
       "      <td>6.405000</td>\n",
       "      <td>54.357143</td>\n",
       "      <td>0.000000</td>\n",
       "      <td>0.071429</td>\n",
       "    </tr>\n",
       "    <tr>\n",
       "      <th>134</th>\n",
       "      <td>Cristian</td>\n",
       "      <td>Techera</td>\n",
       "      <td>12.840000</td>\n",
       "      <td>12.928779</td>\n",
       "      <td>0.092838</td>\n",
       "      <td>False</td>\n",
       "      <td>27-30</td>\n",
       "      <td>Vancouver</td>\n",
       "      <td>1.812500</td>\n",
       "      <td>0.218750</td>\n",
       "      <td>...</td>\n",
       "      <td>0.125000</td>\n",
       "      <td>27-30</td>\n",
       "      <td>Vancouver</td>\n",
       "      <td>2.095238</td>\n",
       "      <td>0.380952</td>\n",
       "      <td>75.232198</td>\n",
       "      <td>6.572857</td>\n",
       "      <td>64.190476</td>\n",
       "      <td>0.047619</td>\n",
       "      <td>0.047619</td>\n",
       "    </tr>\n",
       "    <tr>\n",
       "      <th>135</th>\n",
       "      <td>Kendall</td>\n",
       "      <td>Waston</td>\n",
       "      <td>12.816178</td>\n",
       "      <td>13.311605</td>\n",
       "      <td>0.641199</td>\n",
       "      <td>True</td>\n",
       "      <td>30-35</td>\n",
       "      <td>Vancouver</td>\n",
       "      <td>0.821429</td>\n",
       "      <td>0.178571</td>\n",
       "      <td>...</td>\n",
       "      <td>0.071429</td>\n",
       "      <td>30-35</td>\n",
       "      <td>Vancouver</td>\n",
       "      <td>1.269231</td>\n",
       "      <td>0.115385</td>\n",
       "      <td>78.301887</td>\n",
       "      <td>6.824231</td>\n",
       "      <td>85.346154</td>\n",
       "      <td>0.076923</td>\n",
       "      <td>0.076923</td>\n",
       "    </tr>\n",
       "  </tbody>\n",
       "</table>\n",
       "<p>656 rows × 24 columns</p>\n",
       "</div>"
      ],
      "text/plain": [
       "    first_name  last_name     salary  salary_next_year  added_salary      T  \\\n",
       "0         Eric  Alexander  11.168567         11.765628      0.816771   True   \n",
       "1      Osvaldo     Alonso  12.254863         12.899220      0.904762   True   \n",
       "2        Jalil    Anibaba  11.784821         11.980551      0.216199   True   \n",
       "3        Corey       Ashe  11.568833         12.071112      0.652482   True   \n",
       "4         Eric      Avila  11.695247         11.813030      0.125000   True   \n",
       "..         ...        ...        ...               ...           ...    ...   \n",
       "131        Tim     Parker  11.508917         11.660785      0.164006   True   \n",
       "132      Yordy      Reyna  13.187589         13.187589      0.000000  False   \n",
       "133       Brek       Shea  13.415033         13.521139      0.111940   True   \n",
       "134   Cristian    Techera  12.840000         12.928779      0.092838  False   \n",
       "135    Kendall     Waston  12.816178         13.311605      0.641199   True   \n",
       "\n",
       "    age_group  team_name  shots_per_game  goals_per_game  ...  \\\n",
       "0       30-35   New York        0.972222        0.138889  ...   \n",
       "1         >35    Seattle        1.241379        0.034483  ...   \n",
       "2       30-35    Chicago        0.500000        0.029412  ...   \n",
       "3         >35    Houston        0.235294        0.000000  ...   \n",
       "4       30-35     Chivas        0.964286        0.107143  ...   \n",
       "..        ...        ...             ...             ...  ...   \n",
       "131     27-30  Vancouver        0.571429        0.028571  ...   \n",
       "132     27-30  Vancouver        1.285714        0.285714  ...   \n",
       "133     30-35  Vancouver        0.821429        0.142857  ...   \n",
       "134     27-30  Vancouver        1.812500        0.218750  ...   \n",
       "135     30-35  Vancouver        0.821429        0.178571  ...   \n",
       "\n",
       "     assists_per_game  age_group_next_year  team_name_next_year  \\\n",
       "0            0.055556                30-35             New York   \n",
       "1            0.034483                  >35              Seattle   \n",
       "2            0.000000                30-35              Seattle   \n",
       "3            0.058824                  >35              Houston   \n",
       "4            0.000000                30-35               Chivas   \n",
       "..                ...                  ...                  ...   \n",
       "131          0.057143                27-30             New York   \n",
       "132          0.142857                27-30            Vancouver   \n",
       "133          0.107143                30-35            Vancouver   \n",
       "134          0.125000                27-30            Vancouver   \n",
       "135          0.071429                30-35            Vancouver   \n",
       "\n",
       "     shots_per_game_next_year  goals_per_game_next_year  \\\n",
       "0                    0.769231                  0.051282   \n",
       "1                    0.972222                  0.027778   \n",
       "2                    0.470588                  0.000000   \n",
       "3                    0.380952                  0.000000   \n",
       "4                    0.551724                  0.000000   \n",
       "..                        ...                       ...   \n",
       "131                  0.545455                  0.060606   \n",
       "132                  1.653846                  0.230769   \n",
       "133                  0.857143                  0.107143   \n",
       "134                  2.095238                  0.380952   \n",
       "135                  1.269231                  0.115385   \n",
       "\n",
       "    pass_success_next_year rating_next_year  minutes_per_game_next_year  \\\n",
       "0                85.806037         6.695641                   77.692308   \n",
       "1                91.019523         7.322222                   88.111111   \n",
       "2                79.840319         6.630588                   75.588235   \n",
       "3                77.215190         6.574762                   89.476190   \n",
       "4                75.841346         6.533793                   74.896552   \n",
       "..                     ...              ...                         ...   \n",
       "131              73.189009         7.053030                   90.000000   \n",
       "132              84.433164         6.924615                   72.230769   \n",
       "133              75.660377         6.405000                   54.357143   \n",
       "134              75.232198         6.572857                   64.190476   \n",
       "135              78.301887         6.824231                   85.346154   \n",
       "\n",
       "     man_of_the_match_per_game_next_year  assists_per_game_next_year  \n",
       "0                               0.000000                    0.179487  \n",
       "1                               0.111111                    0.000000  \n",
       "2                               0.000000                    0.058824  \n",
       "3                               0.000000                    0.095238  \n",
       "4                               0.000000                    0.034483  \n",
       "..                                   ...                         ...  \n",
       "131                             0.060606                    0.060606  \n",
       "132                             0.076923                    0.346154  \n",
       "133                             0.000000                    0.071429  \n",
       "134                             0.047619                    0.047619  \n",
       "135                             0.076923                    0.076923  \n",
       "\n",
       "[656 rows x 24 columns]"
      ]
     },
     "execution_count": 88,
     "metadata": {},
     "output_type": "execute_result"
    }
   ],
   "source": [
    "df"
   ]
  },
  {
   "cell_type": "code",
   "execution_count": 89,
   "metadata": {},
   "outputs": [],
   "source": [
    "# added_salary = (df[\"guaranteed_compensation_next_year\"] - df[\"guaranteed_compensation\"]) / df[\"guaranteed_compensation\"] \n",
    "# df[\"added_salary\"] = added_salary\n",
    "\n",
    "# df = df[df[\"added_salary\"] > -0.1]\n",
    "# df[\"T\"] = df[\"added_salary\"] > 0.1\n",
    "\n",
    "# df = df[df[\"position\"].str.contains(\"F\")]"
   ]
  },
  {
   "cell_type": "code",
   "execution_count": 90,
   "metadata": {},
   "outputs": [
    {
     "data": {
      "text/plain": [
       "True     388\n",
       "False    268\n",
       "Name: T, dtype: int64"
      ]
     },
     "execution_count": 90,
     "metadata": {},
     "output_type": "execute_result"
    }
   ],
   "source": [
    " df[\"T\"].value_counts()"
   ]
  },
  {
   "cell_type": "code",
   "execution_count": 91,
   "metadata": {},
   "outputs": [],
   "source": [
    "# df[\"shotsPerGame\"]"
   ]
  },
  {
   "cell_type": "code",
   "execution_count": 92,
   "metadata": {},
   "outputs": [],
   "source": [
    "# df.position.value_counts()"
   ]
  },
  {
   "cell_type": "code",
   "execution_count": 93,
   "metadata": {},
   "outputs": [],
   "source": [
    "# df[\"shotsPerGame\"].hist()"
   ]
  },
  {
   "cell_type": "code",
   "execution_count": 94,
   "metadata": {},
   "outputs": [],
   "source": [
    "# [col for col in df.columns if \"next_year\" not in col]"
   ]
  },
  {
   "cell_type": "code",
   "execution_count": 95,
   "metadata": {},
   "outputs": [],
   "source": [
    "# df[\"first_name\"]"
   ]
  },
  {
   "cell_type": "code",
   "execution_count": 96,
   "metadata": {},
   "outputs": [
    {
     "ename": "KeyError",
     "evalue": "'club'",
     "output_type": "error",
     "traceback": [
      "\u001b[1;31m---------------------------------------------------------------------------\u001b[0m",
      "\u001b[1;31mKeyError\u001b[0m                                  Traceback (most recent call last)",
      "File \u001b[1;32mc:\\Users\\10\\AppData\\Local\\Programs\\Python\\Python310\\lib\\site-packages\\pandas\\core\\indexes\\base.py:3621\u001b[0m, in \u001b[0;36mIndex.get_loc\u001b[1;34m(self, key, method, tolerance)\u001b[0m\n\u001b[0;32m   3620\u001b[0m \u001b[39mtry\u001b[39;00m:\n\u001b[1;32m-> 3621\u001b[0m     \u001b[39mreturn\u001b[39;00m \u001b[39mself\u001b[39;49m\u001b[39m.\u001b[39;49m_engine\u001b[39m.\u001b[39;49mget_loc(casted_key)\n\u001b[0;32m   3622\u001b[0m \u001b[39mexcept\u001b[39;00m \u001b[39mKeyError\u001b[39;00m \u001b[39mas\u001b[39;00m err:\n",
      "File \u001b[1;32mc:\\Users\\10\\AppData\\Local\\Programs\\Python\\Python310\\lib\\site-packages\\pandas\\_libs\\index.pyx:136\u001b[0m, in \u001b[0;36mpandas._libs.index.IndexEngine.get_loc\u001b[1;34m()\u001b[0m\n",
      "File \u001b[1;32mc:\\Users\\10\\AppData\\Local\\Programs\\Python\\Python310\\lib\\site-packages\\pandas\\_libs\\index.pyx:163\u001b[0m, in \u001b[0;36mpandas._libs.index.IndexEngine.get_loc\u001b[1;34m()\u001b[0m\n",
      "File \u001b[1;32mpandas\\_libs\\hashtable_class_helper.pxi:5198\u001b[0m, in \u001b[0;36mpandas._libs.hashtable.PyObjectHashTable.get_item\u001b[1;34m()\u001b[0m\n",
      "File \u001b[1;32mpandas\\_libs\\hashtable_class_helper.pxi:5206\u001b[0m, in \u001b[0;36mpandas._libs.hashtable.PyObjectHashTable.get_item\u001b[1;34m()\u001b[0m\n",
      "\u001b[1;31mKeyError\u001b[0m: 'club'",
      "\nThe above exception was the direct cause of the following exception:\n",
      "\u001b[1;31mKeyError\u001b[0m                                  Traceback (most recent call last)",
      "Cell \u001b[1;32mIn[96], line 1\u001b[0m\n\u001b[1;32m----> 1\u001b[0m df[\u001b[39m\"\u001b[39;49m\u001b[39mclub\u001b[39;49m\u001b[39m\"\u001b[39;49m]\u001b[39m.\u001b[39munique()\n",
      "File \u001b[1;32mc:\\Users\\10\\AppData\\Local\\Programs\\Python\\Python310\\lib\\site-packages\\pandas\\core\\frame.py:3505\u001b[0m, in \u001b[0;36mDataFrame.__getitem__\u001b[1;34m(self, key)\u001b[0m\n\u001b[0;32m   3503\u001b[0m \u001b[39mif\u001b[39;00m \u001b[39mself\u001b[39m\u001b[39m.\u001b[39mcolumns\u001b[39m.\u001b[39mnlevels \u001b[39m>\u001b[39m \u001b[39m1\u001b[39m:\n\u001b[0;32m   3504\u001b[0m     \u001b[39mreturn\u001b[39;00m \u001b[39mself\u001b[39m\u001b[39m.\u001b[39m_getitem_multilevel(key)\n\u001b[1;32m-> 3505\u001b[0m indexer \u001b[39m=\u001b[39m \u001b[39mself\u001b[39;49m\u001b[39m.\u001b[39;49mcolumns\u001b[39m.\u001b[39;49mget_loc(key)\n\u001b[0;32m   3506\u001b[0m \u001b[39mif\u001b[39;00m is_integer(indexer):\n\u001b[0;32m   3507\u001b[0m     indexer \u001b[39m=\u001b[39m [indexer]\n",
      "File \u001b[1;32mc:\\Users\\10\\AppData\\Local\\Programs\\Python\\Python310\\lib\\site-packages\\pandas\\core\\indexes\\base.py:3623\u001b[0m, in \u001b[0;36mIndex.get_loc\u001b[1;34m(self, key, method, tolerance)\u001b[0m\n\u001b[0;32m   3621\u001b[0m     \u001b[39mreturn\u001b[39;00m \u001b[39mself\u001b[39m\u001b[39m.\u001b[39m_engine\u001b[39m.\u001b[39mget_loc(casted_key)\n\u001b[0;32m   3622\u001b[0m \u001b[39mexcept\u001b[39;00m \u001b[39mKeyError\u001b[39;00m \u001b[39mas\u001b[39;00m err:\n\u001b[1;32m-> 3623\u001b[0m     \u001b[39mraise\u001b[39;00m \u001b[39mKeyError\u001b[39;00m(key) \u001b[39mfrom\u001b[39;00m \u001b[39merr\u001b[39;00m\n\u001b[0;32m   3624\u001b[0m \u001b[39mexcept\u001b[39;00m \u001b[39mTypeError\u001b[39;00m:\n\u001b[0;32m   3625\u001b[0m     \u001b[39m# If we have a listlike key, _check_indexing_error will raise\u001b[39;00m\n\u001b[0;32m   3626\u001b[0m     \u001b[39m#  InvalidIndexError. Otherwise we fall through and re-raise\u001b[39;00m\n\u001b[0;32m   3627\u001b[0m     \u001b[39m#  the TypeError.\u001b[39;00m\n\u001b[0;32m   3628\u001b[0m     \u001b[39mself\u001b[39m\u001b[39m.\u001b[39m_check_indexing_error(key)\n",
      "\u001b[1;31mKeyError\u001b[0m: 'club'"
     ]
    }
   ],
   "source": [
    "df[\"club\"].unique()"
   ]
  },
  {
   "cell_type": "code",
   "execution_count": null,
   "metadata": {},
   "outputs": [
    {
     "ename": "KeyError",
     "evalue": "'teamName'",
     "output_type": "error",
     "traceback": [
      "\u001b[1;31m---------------------------------------------------------------------------\u001b[0m",
      "\u001b[1;31mKeyError\u001b[0m                                  Traceback (most recent call last)",
      "File \u001b[1;32mc:\\Users\\10\\AppData\\Local\\Programs\\Python\\Python310\\lib\\site-packages\\pandas\\core\\indexes\\base.py:3621\u001b[0m, in \u001b[0;36mIndex.get_loc\u001b[1;34m(self, key, method, tolerance)\u001b[0m\n\u001b[0;32m   3620\u001b[0m \u001b[39mtry\u001b[39;00m:\n\u001b[1;32m-> 3621\u001b[0m     \u001b[39mreturn\u001b[39;00m \u001b[39mself\u001b[39;49m\u001b[39m.\u001b[39;49m_engine\u001b[39m.\u001b[39;49mget_loc(casted_key)\n\u001b[0;32m   3622\u001b[0m \u001b[39mexcept\u001b[39;00m \u001b[39mKeyError\u001b[39;00m \u001b[39mas\u001b[39;00m err:\n",
      "File \u001b[1;32mc:\\Users\\10\\AppData\\Local\\Programs\\Python\\Python310\\lib\\site-packages\\pandas\\_libs\\index.pyx:136\u001b[0m, in \u001b[0;36mpandas._libs.index.IndexEngine.get_loc\u001b[1;34m()\u001b[0m\n",
      "File \u001b[1;32mc:\\Users\\10\\AppData\\Local\\Programs\\Python\\Python310\\lib\\site-packages\\pandas\\_libs\\index.pyx:163\u001b[0m, in \u001b[0;36mpandas._libs.index.IndexEngine.get_loc\u001b[1;34m()\u001b[0m\n",
      "File \u001b[1;32mpandas\\_libs\\hashtable_class_helper.pxi:5198\u001b[0m, in \u001b[0;36mpandas._libs.hashtable.PyObjectHashTable.get_item\u001b[1;34m()\u001b[0m\n",
      "File \u001b[1;32mpandas\\_libs\\hashtable_class_helper.pxi:5206\u001b[0m, in \u001b[0;36mpandas._libs.hashtable.PyObjectHashTable.get_item\u001b[1;34m()\u001b[0m\n",
      "\u001b[1;31mKeyError\u001b[0m: 'teamName'",
      "\nThe above exception was the direct cause of the following exception:\n",
      "\u001b[1;31mKeyError\u001b[0m                                  Traceback (most recent call last)",
      "Cell \u001b[1;32mIn[61], line 1\u001b[0m\n\u001b[1;32m----> 1\u001b[0m df[\u001b[39m\"\u001b[39;49m\u001b[39mteamName\u001b[39;49m\u001b[39m\"\u001b[39;49m]\u001b[39m.\u001b[39munique()\n",
      "File \u001b[1;32mc:\\Users\\10\\AppData\\Local\\Programs\\Python\\Python310\\lib\\site-packages\\pandas\\core\\frame.py:3505\u001b[0m, in \u001b[0;36mDataFrame.__getitem__\u001b[1;34m(self, key)\u001b[0m\n\u001b[0;32m   3503\u001b[0m \u001b[39mif\u001b[39;00m \u001b[39mself\u001b[39m\u001b[39m.\u001b[39mcolumns\u001b[39m.\u001b[39mnlevels \u001b[39m>\u001b[39m \u001b[39m1\u001b[39m:\n\u001b[0;32m   3504\u001b[0m     \u001b[39mreturn\u001b[39;00m \u001b[39mself\u001b[39m\u001b[39m.\u001b[39m_getitem_multilevel(key)\n\u001b[1;32m-> 3505\u001b[0m indexer \u001b[39m=\u001b[39m \u001b[39mself\u001b[39;49m\u001b[39m.\u001b[39;49mcolumns\u001b[39m.\u001b[39;49mget_loc(key)\n\u001b[0;32m   3506\u001b[0m \u001b[39mif\u001b[39;00m is_integer(indexer):\n\u001b[0;32m   3507\u001b[0m     indexer \u001b[39m=\u001b[39m [indexer]\n",
      "File \u001b[1;32mc:\\Users\\10\\AppData\\Local\\Programs\\Python\\Python310\\lib\\site-packages\\pandas\\core\\indexes\\base.py:3623\u001b[0m, in \u001b[0;36mIndex.get_loc\u001b[1;34m(self, key, method, tolerance)\u001b[0m\n\u001b[0;32m   3621\u001b[0m     \u001b[39mreturn\u001b[39;00m \u001b[39mself\u001b[39m\u001b[39m.\u001b[39m_engine\u001b[39m.\u001b[39mget_loc(casted_key)\n\u001b[0;32m   3622\u001b[0m \u001b[39mexcept\u001b[39;00m \u001b[39mKeyError\u001b[39;00m \u001b[39mas\u001b[39;00m err:\n\u001b[1;32m-> 3623\u001b[0m     \u001b[39mraise\u001b[39;00m \u001b[39mKeyError\u001b[39;00m(key) \u001b[39mfrom\u001b[39;00m \u001b[39merr\u001b[39;00m\n\u001b[0;32m   3624\u001b[0m \u001b[39mexcept\u001b[39;00m \u001b[39mTypeError\u001b[39;00m:\n\u001b[0;32m   3625\u001b[0m     \u001b[39m# If we have a listlike key, _check_indexing_error will raise\u001b[39;00m\n\u001b[0;32m   3626\u001b[0m     \u001b[39m#  InvalidIndexError. Otherwise we fall through and re-raise\u001b[39;00m\n\u001b[0;32m   3627\u001b[0m     \u001b[39m#  the TypeError.\u001b[39;00m\n\u001b[0;32m   3628\u001b[0m     \u001b[39mself\u001b[39m\u001b[39m.\u001b[39m_check_indexing_error(key)\n",
      "\u001b[1;31mKeyError\u001b[0m: 'teamName'"
     ]
    }
   ],
   "source": [
    "df[\"teamName\"].unique()"
   ]
  },
  {
   "cell_type": "code",
   "execution_count": null,
   "metadata": {},
   "outputs": [
    {
     "ename": "KeyError",
     "evalue": "'club'",
     "output_type": "error",
     "traceback": [
      "\u001b[1;31m---------------------------------------------------------------------------\u001b[0m",
      "\u001b[1;31mKeyError\u001b[0m                                  Traceback (most recent call last)",
      "File \u001b[1;32mc:\\Users\\10\\AppData\\Local\\Programs\\Python\\Python310\\lib\\site-packages\\pandas\\core\\indexes\\base.py:3621\u001b[0m, in \u001b[0;36mIndex.get_loc\u001b[1;34m(self, key, method, tolerance)\u001b[0m\n\u001b[0;32m   3620\u001b[0m \u001b[39mtry\u001b[39;00m:\n\u001b[1;32m-> 3621\u001b[0m     \u001b[39mreturn\u001b[39;00m \u001b[39mself\u001b[39;49m\u001b[39m.\u001b[39;49m_engine\u001b[39m.\u001b[39;49mget_loc(casted_key)\n\u001b[0;32m   3622\u001b[0m \u001b[39mexcept\u001b[39;00m \u001b[39mKeyError\u001b[39;00m \u001b[39mas\u001b[39;00m err:\n",
      "File \u001b[1;32mc:\\Users\\10\\AppData\\Local\\Programs\\Python\\Python310\\lib\\site-packages\\pandas\\_libs\\index.pyx:136\u001b[0m, in \u001b[0;36mpandas._libs.index.IndexEngine.get_loc\u001b[1;34m()\u001b[0m\n",
      "File \u001b[1;32mc:\\Users\\10\\AppData\\Local\\Programs\\Python\\Python310\\lib\\site-packages\\pandas\\_libs\\index.pyx:163\u001b[0m, in \u001b[0;36mpandas._libs.index.IndexEngine.get_loc\u001b[1;34m()\u001b[0m\n",
      "File \u001b[1;32mpandas\\_libs\\hashtable_class_helper.pxi:5198\u001b[0m, in \u001b[0;36mpandas._libs.hashtable.PyObjectHashTable.get_item\u001b[1;34m()\u001b[0m\n",
      "File \u001b[1;32mpandas\\_libs\\hashtable_class_helper.pxi:5206\u001b[0m, in \u001b[0;36mpandas._libs.hashtable.PyObjectHashTable.get_item\u001b[1;34m()\u001b[0m\n",
      "\u001b[1;31mKeyError\u001b[0m: 'club'",
      "\nThe above exception was the direct cause of the following exception:\n",
      "\u001b[1;31mKeyError\u001b[0m                                  Traceback (most recent call last)",
      "Cell \u001b[1;32mIn[62], line 1\u001b[0m\n\u001b[1;32m----> 1\u001b[0m df[df[\u001b[39m\"\u001b[39;49m\u001b[39mclub\u001b[39;49m\u001b[39m\"\u001b[39;49m] \u001b[39m==\u001b[39m \u001b[39m\"\u001b[39m\u001b[39mNY\u001b[39m\u001b[39m\"\u001b[39m][\u001b[39m\"\u001b[39m\u001b[39mteamName\u001b[39m\u001b[39m\"\u001b[39m]\u001b[39m.\u001b[39munique()\n",
      "File \u001b[1;32mc:\\Users\\10\\AppData\\Local\\Programs\\Python\\Python310\\lib\\site-packages\\pandas\\core\\frame.py:3505\u001b[0m, in \u001b[0;36mDataFrame.__getitem__\u001b[1;34m(self, key)\u001b[0m\n\u001b[0;32m   3503\u001b[0m \u001b[39mif\u001b[39;00m \u001b[39mself\u001b[39m\u001b[39m.\u001b[39mcolumns\u001b[39m.\u001b[39mnlevels \u001b[39m>\u001b[39m \u001b[39m1\u001b[39m:\n\u001b[0;32m   3504\u001b[0m     \u001b[39mreturn\u001b[39;00m \u001b[39mself\u001b[39m\u001b[39m.\u001b[39m_getitem_multilevel(key)\n\u001b[1;32m-> 3505\u001b[0m indexer \u001b[39m=\u001b[39m \u001b[39mself\u001b[39;49m\u001b[39m.\u001b[39;49mcolumns\u001b[39m.\u001b[39;49mget_loc(key)\n\u001b[0;32m   3506\u001b[0m \u001b[39mif\u001b[39;00m is_integer(indexer):\n\u001b[0;32m   3507\u001b[0m     indexer \u001b[39m=\u001b[39m [indexer]\n",
      "File \u001b[1;32mc:\\Users\\10\\AppData\\Local\\Programs\\Python\\Python310\\lib\\site-packages\\pandas\\core\\indexes\\base.py:3623\u001b[0m, in \u001b[0;36mIndex.get_loc\u001b[1;34m(self, key, method, tolerance)\u001b[0m\n\u001b[0;32m   3621\u001b[0m     \u001b[39mreturn\u001b[39;00m \u001b[39mself\u001b[39m\u001b[39m.\u001b[39m_engine\u001b[39m.\u001b[39mget_loc(casted_key)\n\u001b[0;32m   3622\u001b[0m \u001b[39mexcept\u001b[39;00m \u001b[39mKeyError\u001b[39;00m \u001b[39mas\u001b[39;00m err:\n\u001b[1;32m-> 3623\u001b[0m     \u001b[39mraise\u001b[39;00m \u001b[39mKeyError\u001b[39;00m(key) \u001b[39mfrom\u001b[39;00m \u001b[39merr\u001b[39;00m\n\u001b[0;32m   3624\u001b[0m \u001b[39mexcept\u001b[39;00m \u001b[39mTypeError\u001b[39;00m:\n\u001b[0;32m   3625\u001b[0m     \u001b[39m# If we have a listlike key, _check_indexing_error will raise\u001b[39;00m\n\u001b[0;32m   3626\u001b[0m     \u001b[39m#  InvalidIndexError. Otherwise we fall through and re-raise\u001b[39;00m\n\u001b[0;32m   3627\u001b[0m     \u001b[39m#  the TypeError.\u001b[39;00m\n\u001b[0;32m   3628\u001b[0m     \u001b[39mself\u001b[39m\u001b[39m.\u001b[39m_check_indexing_error(key)\n",
      "\u001b[1;31mKeyError\u001b[0m: 'club'"
     ]
    }
   ],
   "source": [
    "df[df[\"club\"] == \"NY\"][\"teamName\"].unique()"
   ]
  },
  {
   "cell_type": "code",
   "execution_count": null,
   "metadata": {},
   "outputs": [],
   "source": [
    "# age groups\n",
    "# 20 - 27\n",
    "# 27 - 30\n",
    "# 30 - 35\n",
    "# 35 - 100\n",
    "\n",
    "\n",
    "                         "
   ]
  },
  {
   "cell_type": "code",
   "execution_count": null,
   "metadata": {},
   "outputs": [],
   "source": [
    "df[\"goals_normalized\"] = (df[\"goal\"] + df[\"assistTotal\"]) / df[\"apps\"]\n",
    "df[\"shotsPerGame\"] = df[\"shotsPerGame\"] / df[\"apps\"]"
   ]
  },
  {
   "cell_type": "code",
   "execution_count": null,
   "metadata": {},
   "outputs": [],
   "source": []
  },
  {
   "cell_type": "code",
   "execution_count": null,
   "metadata": {},
   "outputs": [],
   "source": []
  },
  {
   "cell_type": "code",
   "execution_count": null,
   "metadata": {},
   "outputs": [
    {
     "data": {
      "text/plain": [
       "height               -0.067012\n",
       "weight               -0.051652\n",
       "age                   0.220681\n",
       "isManOfTheMatch            NaN\n",
       "isActive             -0.023046\n",
       "apps                  0.609078\n",
       "subOn                -0.234058\n",
       "manOfTheMatch         0.568709\n",
       "goal                  0.457645\n",
       "assistTotal           0.525465\n",
       "shotsPerGame          0.456561\n",
       "aerialWonPerGame      0.324188\n",
       "playerId             -0.323037\n",
       "teamId                0.017877\n",
       "seasonId                   NaN\n",
       "seasonName                 NaN\n",
       "isOpta                     NaN\n",
       "tournamentId               NaN\n",
       "tournamentRegionId         NaN\n",
       "rating                1.000000\n",
       "minsPlayed            0.689458\n",
       "yellowCard            0.483452\n",
       "redCard               0.060715\n",
       "passSuccess           0.129117\n",
       "ranking              -0.966966\n",
       "Name: rating, dtype: float64"
      ]
     },
     "execution_count": 38,
     "metadata": {},
     "output_type": "execute_result"
    }
   ],
   "source": [
    "pd.read_json('archive\\data_2017.json').corr()['rating']"
   ]
  },
  {
   "cell_type": "code",
   "execution_count": null,
   "metadata": {},
   "outputs": [
    {
     "name": "stderr",
     "output_type": "stream",
     "text": [
      "c:\\Users\\10\\Documents\\SemesterA\\Causal Inference\\Project\\Casual-Inference-Soccer-main\\Casual-Inference-Soccer-main\\dataset_creation.py:125: FutureWarning: The frame.append method is deprecated and will be removed from pandas in a future version. Use pandas.concat instead.\n",
      "  df = df.append(merge_datasets(year, \"archive\"))\n",
      "c:\\Users\\10\\Documents\\SemesterA\\Causal Inference\\Project\\Casual-Inference-Soccer-main\\Casual-Inference-Soccer-main\\dataset_creation.py:125: FutureWarning: The frame.append method is deprecated and will be removed from pandas in a future version. Use pandas.concat instead.\n",
      "  df = df.append(merge_datasets(year, \"archive\"))\n",
      "c:\\Users\\10\\Documents\\SemesterA\\Causal Inference\\Project\\Casual-Inference-Soccer-main\\Casual-Inference-Soccer-main\\dataset_creation.py:125: FutureWarning: The frame.append method is deprecated and will be removed from pandas in a future version. Use pandas.concat instead.\n",
      "  df = df.append(merge_datasets(year, \"archive\"))\n",
      "c:\\Users\\10\\Documents\\SemesterA\\Causal Inference\\Project\\Casual-Inference-Soccer-main\\Casual-Inference-Soccer-main\\dataset_creation.py:125: FutureWarning: The frame.append method is deprecated and will be removed from pandas in a future version. Use pandas.concat instead.\n",
      "  df = df.append(merge_datasets(year, \"archive\"))\n",
      "c:\\Users\\10\\Documents\\SemesterA\\Causal Inference\\Project\\Casual-Inference-Soccer-main\\Casual-Inference-Soccer-main\\dataset_creation.py:125: FutureWarning: The frame.append method is deprecated and will be removed from pandas in a future version. Use pandas.concat instead.\n",
      "  df = df.append(merge_datasets(year, \"archive\"))\n"
     ]
    }
   ],
   "source": [
    "correlations = create_dataset().corr()['rating_next_year']"
   ]
  },
  {
   "cell_type": "code",
   "execution_count": null,
   "metadata": {},
   "outputs": [
    {
     "name": "stderr",
     "output_type": "stream",
     "text": [
      "c:\\Users\\10\\Documents\\SemesterA\\Causal Inference\\Project\\Casual-Inference-Soccer-main\\Casual-Inference-Soccer-main\\dataset_creation.py:125: FutureWarning: The frame.append method is deprecated and will be removed from pandas in a future version. Use pandas.concat instead.\n",
      "  \n",
      "c:\\Users\\10\\Documents\\SemesterA\\Causal Inference\\Project\\Casual-Inference-Soccer-main\\Casual-Inference-Soccer-main\\dataset_creation.py:125: FutureWarning: The frame.append method is deprecated and will be removed from pandas in a future version. Use pandas.concat instead.\n",
      "  \n",
      "c:\\Users\\10\\Documents\\SemesterA\\Causal Inference\\Project\\Casual-Inference-Soccer-main\\Casual-Inference-Soccer-main\\dataset_creation.py:125: FutureWarning: The frame.append method is deprecated and will be removed from pandas in a future version. Use pandas.concat instead.\n",
      "  \n",
      "c:\\Users\\10\\Documents\\SemesterA\\Causal Inference\\Project\\Casual-Inference-Soccer-main\\Casual-Inference-Soccer-main\\dataset_creation.py:125: FutureWarning: The frame.append method is deprecated and will be removed from pandas in a future version. Use pandas.concat instead.\n",
      "  \n",
      "c:\\Users\\10\\Documents\\SemesterA\\Causal Inference\\Project\\Casual-Inference-Soccer-main\\Casual-Inference-Soccer-main\\dataset_creation.py:125: FutureWarning: The frame.append method is deprecated and will be removed from pandas in a future version. Use pandas.concat instead.\n",
      "  \n"
     ]
    },
    {
     "data": {
      "text/plain": [
       "0     248\n",
       "1     179\n",
       "2     113\n",
       "3      45\n",
       "4      31\n",
       "5      18\n",
       "6       9\n",
       "7       6\n",
       "9       3\n",
       "10      1\n",
       "14      1\n",
       "12      1\n",
       "8       1\n",
       "Name: manOfTheMatch, dtype: int64"
      ]
     },
     "execution_count": 32,
     "metadata": {},
     "output_type": "execute_result"
    }
   ],
   "source": [
    "create_dataset()['manOfTheMatch'].value_counts()"
   ]
  },
  {
   "cell_type": "code",
   "execution_count": null,
   "metadata": {},
   "outputs": [
    {
     "name": "stderr",
     "output_type": "stream",
     "text": [
      "c:\\Users\\10\\Documents\\SemesterA\\Causal Inference\\Project\\Casual-Inference-Soccer-main\\Casual-Inference-Soccer-main\\dataset_creation.py:125: FutureWarning: The frame.append method is deprecated and will be removed from pandas in a future version. Use pandas.concat instead.\n",
      "  df = df.append(merge_datasets(year, \"archive\"))\n",
      "c:\\Users\\10\\Documents\\SemesterA\\Causal Inference\\Project\\Casual-Inference-Soccer-main\\Casual-Inference-Soccer-main\\dataset_creation.py:125: FutureWarning: The frame.append method is deprecated and will be removed from pandas in a future version. Use pandas.concat instead.\n",
      "  df = df.append(merge_datasets(year, \"archive\"))\n",
      "c:\\Users\\10\\Documents\\SemesterA\\Causal Inference\\Project\\Casual-Inference-Soccer-main\\Casual-Inference-Soccer-main\\dataset_creation.py:125: FutureWarning: The frame.append method is deprecated and will be removed from pandas in a future version. Use pandas.concat instead.\n",
      "  df = df.append(merge_datasets(year, \"archive\"))\n",
      "c:\\Users\\10\\Documents\\SemesterA\\Causal Inference\\Project\\Casual-Inference-Soccer-main\\Casual-Inference-Soccer-main\\dataset_creation.py:125: FutureWarning: The frame.append method is deprecated and will be removed from pandas in a future version. Use pandas.concat instead.\n",
      "  df = df.append(merge_datasets(year, \"archive\"))\n",
      "c:\\Users\\10\\Documents\\SemesterA\\Causal Inference\\Project\\Casual-Inference-Soccer-main\\Casual-Inference-Soccer-main\\dataset_creation.py:125: FutureWarning: The frame.append method is deprecated and will be removed from pandas in a future version. Use pandas.concat instead.\n",
      "  df = df.append(merge_datasets(year, \"archive\"))\n"
     ]
    },
    {
     "data": {
      "text/plain": [
       "Index(['salary', 'salary_next_year', 'added_salary', 'T', 'height', 'weight',\n",
       "       'age', 'isManOfTheMatch', 'isActive', 'apps', 'subOn', 'manOfTheMatch',\n",
       "       'goal', 'assistTotal', 'shotsPerGame', 'aerialWonPerGame', 'playerId',\n",
       "       'teamId', 'seasonId', 'seasonName', 'isOpta', 'tournamentId',\n",
       "       'tournamentRegionId', 'rating', 'minsPlayed', 'yellowCard', 'redCard',\n",
       "       'pass_success', 'ranking', 'goals_per_game', 'shots_per_game',\n",
       "       'minutes_per_game', 'height_next_year', 'weight_next_year',\n",
       "       'age_next_year', 'isManOfTheMatch_next_year', 'isActive_next_year',\n",
       "       'apps_next_year', 'subOn_next_year', 'manOfTheMatch_next_year',\n",
       "       'goal_next_year', 'assistTotal_next_year', 'shotsPerGame_next_year',\n",
       "       'aerialWonPerGame_next_year', 'playerId_next_year', 'teamId_next_year',\n",
       "       'seasonId_next_year', 'seasonName_next_year', 'isOpta_next_year',\n",
       "       'tournamentId_next_year', 'tournamentRegionId_next_year',\n",
       "       'rating_next_year', 'minsPlayed_next_year', 'yellowCard_next_year',\n",
       "       'redCard_next_year', 'pass_success_next_year', 'ranking_next_year',\n",
       "       'goals_per_game_next_year', 'shots_per_game_next_year',\n",
       "       'minutes_per_game_next_year'],\n",
       "      dtype='object')"
      ]
     },
     "execution_count": 20,
     "metadata": {},
     "output_type": "execute_result"
    }
   ],
   "source": [
    "create_dataset().corr()['rating_next_year'].index"
   ]
  },
  {
   "cell_type": "code",
   "execution_count": null,
   "metadata": {},
   "outputs": [
    {
     "name": "stdout",
     "output_type": "stream",
     "text": [
      "salary\n",
      "salary_next_year\n",
      "added_salary\n",
      "T\n",
      "height\n",
      "weight\n",
      "age\n",
      "isManOfTheMatch\n",
      "isActive\n",
      "apps\n",
      "subOn\n",
      "manOfTheMatch\n",
      "goal\n",
      "assistTotal\n",
      "shotsPerGame\n",
      "aerialWonPerGame\n",
      "playerId\n",
      "teamId\n",
      "seasonId\n",
      "seasonName\n",
      "isOpta\n",
      "tournamentId\n",
      "tournamentRegionId\n",
      "rating\n",
      "minsPlayed\n",
      "yellowCard\n",
      "redCard\n",
      "pass_success\n",
      "ranking\n",
      "goals_per_game\n",
      "shots_per_game\n",
      "minutes_per_game\n",
      "height_next_year\n",
      "weight_next_year\n",
      "age_next_year\n",
      "isManOfTheMatch_next_year\n",
      "isActive_next_year\n",
      "apps_next_year\n",
      "subOn_next_year\n",
      "manOfTheMatch_next_year\n",
      "goal_next_year\n",
      "assistTotal_next_year\n",
      "shotsPerGame_next_year\n",
      "aerialWonPerGame_next_year\n",
      "playerId_next_year\n",
      "teamId_next_year\n",
      "seasonId_next_year\n",
      "seasonName_next_year\n",
      "isOpta_next_year\n",
      "tournamentId_next_year\n",
      "tournamentRegionId_next_year\n",
      "rating_next_year\n",
      "minsPlayed_next_year\n",
      "yellowCard_next_year\n",
      "redCard_next_year\n",
      "pass_success_next_year\n",
      "ranking_next_year\n",
      "goals_per_game_next_year\n",
      "shots_per_game_next_year\n",
      "minutes_per_game_next_year\n"
     ]
    },
    {
     "name": "stderr",
     "output_type": "stream",
     "text": [
      "c:\\Users\\10\\Documents\\SemesterA\\Causal Inference\\Project\\Casual-Inference-Soccer-main\\Casual-Inference-Soccer-main\\dataset_creation.py:125: FutureWarning: The frame.append method is deprecated and will be removed from pandas in a future version. Use pandas.concat instead.\n",
      "  df = df.append(merge_datasets(year, \"archive\"))\n",
      "c:\\Users\\10\\Documents\\SemesterA\\Causal Inference\\Project\\Casual-Inference-Soccer-main\\Casual-Inference-Soccer-main\\dataset_creation.py:125: FutureWarning: The frame.append method is deprecated and will be removed from pandas in a future version. Use pandas.concat instead.\n",
      "  df = df.append(merge_datasets(year, \"archive\"))\n",
      "c:\\Users\\10\\Documents\\SemesterA\\Causal Inference\\Project\\Casual-Inference-Soccer-main\\Casual-Inference-Soccer-main\\dataset_creation.py:125: FutureWarning: The frame.append method is deprecated and will be removed from pandas in a future version. Use pandas.concat instead.\n",
      "  df = df.append(merge_datasets(year, \"archive\"))\n",
      "c:\\Users\\10\\Documents\\SemesterA\\Causal Inference\\Project\\Casual-Inference-Soccer-main\\Casual-Inference-Soccer-main\\dataset_creation.py:125: FutureWarning: The frame.append method is deprecated and will be removed from pandas in a future version. Use pandas.concat instead.\n",
      "  df = df.append(merge_datasets(year, \"archive\"))\n",
      "c:\\Users\\10\\Documents\\SemesterA\\Causal Inference\\Project\\Casual-Inference-Soccer-main\\Casual-Inference-Soccer-main\\dataset_creation.py:125: FutureWarning: The frame.append method is deprecated and will be removed from pandas in a future version. Use pandas.concat instead.\n",
      "  df = df.append(merge_datasets(year, \"archive\"))\n"
     ]
    }
   ],
   "source": [
    "for i in create_dataset().corr()['rating_next_year'].index:\n",
    "    print(i)\n"
   ]
  },
  {
   "cell_type": "code",
   "execution_count": null,
   "metadata": {},
   "outputs": [],
   "source": []
  }
 ],
 "metadata": {
  "kernelspec": {
   "display_name": "Python 3",
   "language": "python",
   "name": "python3"
  },
  "language_info": {
   "codemirror_mode": {
    "name": "ipython",
    "version": 3
   },
   "file_extension": ".py",
   "mimetype": "text/x-python",
   "name": "python",
   "nbconvert_exporter": "python",
   "pygments_lexer": "ipython3",
   "version": "3.10.4"
  },
  "orig_nbformat": 4,
  "vscode": {
   "interpreter": {
    "hash": "b0ea0398bfc6d7f45abc68f44a548315348cf9ab79812a4dc9172071276c2fec"
   }
  }
 },
 "nbformat": 4,
 "nbformat_minor": 2
}
