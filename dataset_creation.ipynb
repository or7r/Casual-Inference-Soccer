{
 "cells": [
  {
   "cell_type": "code",
   "execution_count": 341,
   "metadata": {},
   "outputs": [],
   "source": [
    "import numpy as np\n",
    "import pandas as pd\n",
    "import matplotlib.pyplot as plt\n",
    "import seaborn as sns\n",
    "import re\n",
    "import os\n",
    "import json\n",
    "from tabulate import tabulate\n",
    "from sklearn.linear_model import LogisticRegression, LinearRegression\n"
   ]
  },
  {
   "cell_type": "code",
   "execution_count": 245,
   "metadata": {},
   "outputs": [
    {
     "name": "stdout",
     "output_type": "stream",
     "text": [
      "The autoreload extension is already loaded. To reload it, use:\n",
      "  %reload_ext autoreload\n"
     ]
    }
   ],
   "source": [
    "# magic\n",
    "%matplotlib inline\n",
    "%load_ext autoreload\n",
    "%autoreload 2"
   ]
  },
  {
   "cell_type": "code",
   "execution_count": 246,
   "metadata": {},
   "outputs": [],
   "source": [
    "from dataset_creation import create_dataset"
   ]
  },
  {
   "cell_type": "code",
   "execution_count": 247,
   "metadata": {},
   "outputs": [],
   "source": [
    "df = create_dataset()"
   ]
  },
  {
   "cell_type": "code",
   "execution_count": 248,
   "metadata": {},
   "outputs": [
    {
     "data": {
      "text/plain": [
       "Index(['first_name', 'last_name', 'salary', 'salary_next_year', 'added_salary',\n",
       "       'T', 'age_group', 'team_name', 'shots_per_game', 'goals_per_game',\n",
       "       'pass_success', 'rating', 'minutes_per_game', 'age_group_next_year',\n",
       "       'team_name_next_year', 'shots_per_game_next_year',\n",
       "       'goals_per_game_next_year', 'pass_success_next_year',\n",
       "       'rating_next_year', 'minutes_per_game_next_year'],\n",
       "      dtype='object')"
      ]
     },
     "execution_count": 248,
     "metadata": {},
     "output_type": "execute_result"
    }
   ],
   "source": [
    "df.columns"
   ]
  },
  {
   "cell_type": "code",
   "execution_count": 249,
   "metadata": {},
   "outputs": [
    {
     "data": {
      "text/plain": [
       "0.45168669037985365"
      ]
     },
     "execution_count": 249,
     "metadata": {},
     "output_type": "execute_result"
    },
    {
     "data": {
      "image/png": "[encoded data removed]",
      "text/plain": [
       "<Figure size 432x288 with 1 Axes>"
      ]
     },
     "metadata": {
      "needs_background": "light"
     },
     "output_type": "display_data"
    }
   ],
   "source": [
    "plt.scatter(df[\"salary_next_year\"], df[\"goals_per_game_next_year\"])\n",
    "plt.xlabel(\"Salary (log scale)\")\n",
    "plt.ylabel(\"Goals + Assisted per game\")\n",
    "#  x log scale\n",
    "\n",
    "# calc correlation\n",
    "corr = df.corr()\n",
    "corr.loc[\"salary_next_year\", \"goals_per_game_next_year\"]\n"
   ]
  },
  {
   "cell_type": "code",
   "execution_count": 328,
   "metadata": {},
   "outputs": [],
   "source": [
    "T = df[\"T\"]\n",
    "# X = pd.get_dummies(df[[\"salary_next_year\", \n",
    "#                        \"age_group_next_year\",\n",
    "#                        \"team_name_next_year\",\n",
    "#                        \"rating\",\n",
    "#                        \"minutes_per_game_next_year\",\n",
    "#                        \"pass_success_next_year\",\n",
    "#                        'shots_per_game_next_year',\n",
    "#                        ]])\n",
    "\n",
    "X = pd.get_dummies(df[[\n",
    "                       \"salary\",\n",
    "                    # \"added_salary\"\n",
    "                    #    \"salary_next_year\", \n",
    "                       \"age_group\",\n",
    "                       \"team_name\",\n",
    "                       \"team_name_next_year\",\n",
    "                       \"rating\",\n",
    "                       \"minutes_per_game\",\n",
    "                       \"pass_success\",\n",
    "                       'shots_per_game',\n",
    "                       ]])\n",
    "\n",
    "Y = df[\"rating_next_year\"]"
   ]
  },
  {
   "cell_type": "code",
   "execution_count": 329,
   "metadata": {},
   "outputs": [
    {
     "name": "stderr",
     "output_type": "stream",
     "text": [
      "/home/john/.local/lib/python3.8/site-packages/sklearn/linear_model/_logistic.py:444: ConvergenceWarning: lbfgs failed to converge (status=1):\n",
      "STOP: TOTAL NO. of ITERATIONS REACHED LIMIT.\n",
      "\n",
      "Increase the number of iterations (max_iter) or scale the data as shown in:\n",
      "    https://scikit-learn.org/stable/modules/preprocessing.html\n",
      "Please also refer to the documentation for alternative solver options:\n",
      "    https://scikit-learn.org/stable/modules/linear_model.html#logistic-regression\n",
      "  n_iter_i = _check_optimize_result(\n"
     ]
    },
    {
     "data": {
      "text/plain": [
       "<matplotlib.lines.Line2D at 0x7f7d6fcfe3d0>"
      ]
     },
     "execution_count": 329,
     "metadata": {},
     "output_type": "execute_result"
    },
    {
     "data": {
      "image/png": "[encoded data removed]",
      "text/plain": [
       "<Figure size 432x288 with 1 Axes>"
      ]
     },
     "metadata": {
      "needs_background": "light"
     },
     "output_type": "display_data"
    }
   ],
   "source": [
    "# calc propensity score\n",
    "from sklearn.linear_model import LogisticRegression, LinearRegression\n",
    "\n",
    "lr = LogisticRegression()\n",
    "lr.fit(X, T)\n",
    "ps = lr.predict_proba(X)[:, 1]\n",
    "\n",
    "# visualize propensity score\n",
    "plt.hist(ps[T == 0], bins=20, alpha=0.5, label=\"T=0\")\n",
    "plt.hist(ps[T == 1], bins=20, alpha=0.5, label=\"T=1\")\n",
    "plt.legend()\n",
    "\n",
    "\n",
    "# x line\n",
    "low_threshold = 0.1 \n",
    "high_threshold = 0.9\n",
    "plt.axvline(low_threshold, color=\"red\")\n",
    "plt.axvline(high_threshold, color=\"red\")\n"
   ]
  },
  {
   "cell_type": "code",
   "execution_count": 330,
   "metadata": {},
   "outputs": [],
   "source": [
    "# TODO: trim outliers based on propensity score\n",
    "\n",
    "# trim outliers\n",
    "X = X[(ps > low_threshold) & (ps < high_threshold)]\n",
    "T = T[(ps > low_threshold) & (ps < high_threshold)]\n",
    "Y = Y[(ps > low_threshold) & (ps < high_threshold)]\n",
    "ps = ps[(ps > low_threshold) & (ps < high_threshold)]"
   ]
  },
  {
   "cell_type": "code",
   "execution_count": 331,
   "metadata": {},
   "outputs": [
    {
     "data": {
      "text/plain": [
       "Text(0.5, 1.0, 'Propensity score after trimming')"
      ]
     },
     "execution_count": 331,
     "metadata": {},
     "output_type": "execute_result"
    },
    {
     "data": {
      "image/png": "[encoded data removed]",
      "text/plain": [
       "<Figure size 432x288 with 1 Axes>"
      ]
     },
     "metadata": {
      "needs_background": "light"
     },
     "output_type": "display_data"
    }
   ],
   "source": [
    "plt.hist(ps[T == 0], bins=20, alpha=0.5, label=\"T=0\")\n",
    "plt.hist(ps[T == 1], bins=20, alpha=0.5, label=\"T=1\")\n",
    "plt.legend()\n",
    "\n",
    "plt.title(\"Propensity score after trimming\")"
   ]
  },
  {
   "cell_type": "code",
   "execution_count": 332,
   "metadata": {},
   "outputs": [],
   "source": [
    "data = X\n",
    "data[\"T\"] = T\n",
    "data[\"Y\"] = Y"
   ]
  },
  {
   "cell_type": "code",
   "execution_count": 346,
   "metadata": {},
   "outputs": [],
   "source": [
    "def fit_model(data, out_var, ignore=None, max_iter=10000, model_type=\"logistic\"):\n",
    "\n",
    "    if ignore is None:\n",
    "        ignore = []\n",
    "    \n",
    "    if model_type == \"logistic\":\n",
    "        model = LogisticRegression(max_iter=max_iter)\n",
    "    elif model_type == \"linear\":\n",
    "        model = LinearRegression()\n",
    "    elif isinstance(model_type, sklearn.base.BaseEstimator):\n",
    "        model = model_type\n",
    "    else:\n",
    "        raise ValueError(\"model_type must be 'logistic' or 'linear'\")\n",
    "\n",
    "    X = data.drop([out_var] + ignore, axis=1)\n",
    "    y = data[out_var]\n",
    "\n",
    "    model.fit(X, y)\n",
    "\n",
    "    return model\n",
    "\n",
    "def propensity_fitting(data):\n",
    "\n",
    "    propensity_func = fit_model(data, \"T\", ignore=[\"Y\"], max_iter=10000)\n",
    "\n",
    "    return propensity_func\n",
    "\n",
    "\n",
    "def calc_propensity_score(data, propensity_func):\n",
    "    X = data.drop([\"T\", \"Y\"], axis=1)\n",
    "    propensity_score = propensity_func.predict_proba(X)[:, 1]\n",
    "    propensity_score = pd.Series(propensity_score, index=X.index)\n",
    "\n",
    "    return propensity_score\n",
    "\n",
    "def IPW_ATE(Y, T, propensity_score):\n",
    "    return (np.sum(Y[T == 1] / propensity_score[T == 1]) - np.sum(Y[T == 0] / propensity_score[T == 0])) / len(Y)\n",
    "\n",
    "def calculate_IPW_ATE(data):\n",
    "    propensity_func = propensity_fitting(data)\n",
    "    propensity_score = calc_propensity_score(data, propensity_func)\n",
    "    return IPW_ATE(data[\"Y\"], data[\"T\"], propensity_score)\n",
    "\n",
    "\n",
    "# S-learner\n",
    "def fit_y(data):\n",
    "\n",
    "    y_func = fit_model(data, \"Y\", max_iter=10000, model_type=\"linear\")\n",
    "\n",
    "    return y_func\n",
    "\n",
    "def covariate_adjustment(data, y1_func, y0_func=None):\n",
    "    if y0_func is None:\n",
    "        y0_func = y1_func\n",
    "\n",
    "    X = data.drop([\"Y\"], axis=1)\n",
    "\n",
    "    X1 = X.copy()\n",
    "    X1[\"T\"] = 1\n",
    "    y1 = y1_func.predict(X1)\n",
    "\n",
    "    X0 = X.copy()\n",
    "    X0[\"T\"] = 0\n",
    "    y0 = y0_func.predict(X0)\n",
    "\n",
    "    y = y1 - y0\n",
    "\n",
    "    return y.mean()\n",
    "\n",
    "\n",
    "\n",
    "\n",
    "def calculate_S_learner_ATE(data):\n",
    "\n",
    "    y_func = fit_y(data)\n",
    "\n",
    "    return covariate_adjustment(data, y_func)\n",
    "\n",
    "# T-learner\n",
    "def calculate_T_learner_ATE(data):\n",
    "\n",
    "    y1_func = fit_y(data[data[\"T\"] == 1])\n",
    "    y0_func = fit_y(data[data[\"T\"] == 0])\n",
    "\n",
    "    return covariate_adjustment(data, y1_func, y0_func)\n",
    "\n",
    "from sklearn.neighbors import NearestNeighbors\n",
    "def calculate_matching_ATE(data, metric=\"euclidean\"):\n",
    "\n",
    "    knn0 = NearestNeighbors(n_neighbors=1, metric=metric)\n",
    "    knn1 = NearestNeighbors(n_neighbors=1, metric=metric)\n",
    "\n",
    "    X = data.drop([\"Y\", \"T\"], axis=1)\n",
    "\n",
    "    knn0.fit(X[data[\"T\"] == 0])\n",
    "    knn1.fit(X[data[\"T\"] == 1])\n",
    "\n",
    "    X0 = X[data[\"T\"] == 0]\n",
    "    X1 = X[data[\"T\"] == 1]\n",
    "\n",
    "    _, idx0 = knn0.kneighbors(X1)\n",
    "    _, idx1 = knn1.kneighbors(X0)\n",
    "\n",
    "    y0 = data[\"Y\"][data[\"T\"] == 0].iloc[idx0[:, 0]]\n",
    "    y1 = data[\"Y\"][data[\"T\"] == 1].iloc[idx1[:, 0]]\n",
    "\n",
    "    y0 = data[\"Y\"][data[\"T\"] == 1] - y0\n",
    "    y1 = y1 - data[\"Y\"][data[\"T\"] == 0]\n",
    "\n",
    "    return (y0.sum() + y1.sum()) / (len(y0) + len(y1)) \n",
    "\n",
    "\n",
    "\n",
    "\n"
   ]
  },
  {
   "cell_type": "code",
   "execution_count": 347,
   "metadata": {},
   "outputs": [],
   "source": [
    "\n",
    "def calculate_ATE(data, method=\"IPW\"):\n",
    "    if method == \"IPW\":\n",
    "        return calculate_IPW_ATE(data)\n",
    "    elif method == \"S-learner\":\n",
    "        return calculate_S_learner_ATE(data)\n",
    "    elif method == \"T-learner\":\n",
    "        return calculate_T_learner_ATE(data)\n",
    "    elif method == \"matching\":\n",
    "        return calculate_matching_ATE(data)\n",
    "    else:\n",
    "        raise ValueError(\"method must be 'IPW', 'S-learner', 'T-learner', or 'matching'\")\n",
    "\n",
    "# estimate variance using bootstrap\n",
    "def estimate_variance(data, method=\"IPW\", n_iter=1000, random_state=0, sample_size=None):\n",
    "    np.random.seed(random_state)\n",
    "\n",
    "    if sample_size is None:\n",
    "        sample_size = len(data)\n",
    "\n",
    "    ate_list = []\n",
    "    for _ in range(n_iter):\n",
    "        idx = np.random.choice(data.index, size=sample_size, replace=True)\n",
    "        ate_list.append(calculate_ATE(data.loc[idx], method=method))\n",
    "\n",
    "    ate_list = np.array(ate_list)\n",
    "    return ate_list.std()\n",
    "\n"
   ]
  },
  {
   "cell_type": "code",
   "execution_count": 348,
   "metadata": {},
   "outputs": [
    {
     "name": "stdout",
     "output_type": "stream",
     "text": [
      "|           |         ATE |       std | ATE (95% CI)   |\n",
      "|-----------|-------------|-----------|----------------|\n",
      "| IPW       | -1.06257    | 1.67357   | -1.063 ± 3.280 |\n",
      "| S-learner | -0.0076345  | 0.0186351 | -0.008 ± 0.037 |\n",
      "| T-learner | -0.00526635 | 0.0218868 | -0.005 ± 0.043 |\n",
      "| matching  |  0.00252029 | 0.0292028 | 0.003 ± 0.057  |\n"
     ]
    }
   ],
   "source": [
    "# tabulate all results\n",
    "methods = [\"IPW\", \"S-learner\", \"T-learner\", \"matching\"]\n",
    "results = pd.DataFrame(index=methods, columns=[\"ATE\", \"std\"])\n",
    "\n",
    "for method in methods:\n",
    "    results.loc[method, \"ATE\"] = calculate_ATE(data, method=method)\n",
    "    results.loc[method, \"std\"] = estimate_variance(data, method=method, n_iter=10, sample_size=100)\n",
    "    # add 95% confidence interval\n",
    "    results.loc[method, \"ATE (95% CI)\"] = f\"{results.loc[method, 'ATE']:.3f} ± {1.96 * results.loc[method, 'std']:.3f}\"\n",
    "\n",
    "print(tabulate(results, headers=\"keys\", tablefmt=\"github\"))"
   ]
  },
  {
   "cell_type": "code",
   "execution_count": 345,
   "metadata": {},
   "outputs": [
    {
     "data": {
      "text/plain": [
       "6.186999999999999"
      ]
     },
     "execution_count": 345,
     "metadata": {},
     "output_type": "execute_result"
    }
   ],
   "source": [
    "Y.min()"
   ]
  },
  {
   "cell_type": "code",
   "execution_count": 252,
   "metadata": {},
   "outputs": [
    {
     "data": {
      "text/plain": [
       "(656, 9)"
      ]
     },
     "execution_count": 252,
     "metadata": {},
     "output_type": "execute_result"
    }
   ],
   "source": [
    "\n",
    "X.shape"
   ]
  },
  {
   "cell_type": "code",
   "execution_count": 130,
   "metadata": {},
   "outputs": [],
   "source": [
    "# def read_mls_salaries(data_path, year):\n",
    "\n",
    "#     salaries_year = pd.read_csv(os.path.join(data_path, f\"mls-salaries-{year}.csv\"))\n",
    "\n",
    "#     salaries_year[\"salary\"] = salaries_year[\"guaranteed_compensation\"]\n",
    "\n",
    "#     salaries_year = salaries_year[salaries_year[\"position\"].str.contains(\"F\") \n",
    "#                                   & (~salaries_year[\"position\"].isna())]\n",
    "\n",
    "#     salaries_year = salaries_year[[\"first_name\", \"last_name\", \"salary\"]]\n",
    "\n",
    "#     return salaries_year\n",
    "\n",
    "# def read_stats_data(data_path, year):\n",
    "\n",
    "#     stats_year = pd.read_json(os.path.join(data_path, f\"data_{year}.json\"))\n",
    "\n",
    "#     stats_year[\"age_group\"] = pd.cut(stats_year[\"age\"], \n",
    "#                          bins=[20, 27, 30, 35, 100], \n",
    "#                          labels=[\"20-27\", \"27-30\", \"30-35\", \">35\"])\n",
    "\n",
    "    \n",
    "#     stats_year[\"goals_per_game\"] = (stats_year[\"goal\"] + stats_year[\"assistTotal\"]) / stats_year[\"apps\"]\n",
    "#     stats_year[\"shots_per_game\"] = stats_year[\"shotsPerGame\"] # / stats_year[\"apps\"]\n",
    "#     stats_year[\"minutes_per_game\"] = stats_year[\"minsPlayed\"] / stats_year[\"apps\"]\n",
    "\n",
    "#     stats_year = stats_year.rename(columns={\"teamName\": \"team_name\",\n",
    "#                                             \"passSuccess\": \"pass_success\",\n",
    "#                                             \"firstName\": \"first_name\",\n",
    "#                                             \"lastName\": \"last_name\"})\n",
    "\n",
    "#     stats_year = stats_year[[\"age_group\", \n",
    "#                              \"team_name\", \n",
    "#                              \"shots_per_game\", \n",
    "#                              \"goals_per_game\",\n",
    "#                              \"pass_success\",\n",
    "#                              \"rating\",\n",
    "#                              \"minutes_per_game\",\n",
    "#                              \"first_name\",\n",
    "#                              \"last_name\"]]\n",
    "\n",
    "\n",
    "#     # stats_year = pd.get_dummies(stats_year, columns=[\"age_group\", \"team_name\"])\n",
    "\n",
    "\n",
    "#     return stats_year\n",
    "\n"
   ]
  },
  {
   "cell_type": "code",
   "execution_count": 133,
   "metadata": {},
   "outputs": [],
   "source": [
    "# def merge_datasets(year, data_path):\n",
    "#     merge_on = [\"last_name\", \"first_name\"]\n",
    "\n",
    "\n",
    "#     salaries_path = os.path.join(data_path, \"csvs\")\n",
    "\n",
    "#     salaries_year = read_mls_salaries(salaries_path, year)\n",
    "#     salaries_next_year = read_mls_salaries(salaries_path, year + 1)\n",
    "\n",
    "\n",
    "\n",
    "#     # Merge the two datasets\n",
    "#     salaries_merged = pd.merge(salaries_year, \n",
    "#                                salaries_next_year, \n",
    "#                                on=merge_on, \n",
    "#                                how=\"inner\",\n",
    "#                                suffixes=(\"\", \"_next_year\"))\n",
    "\n",
    "\n",
    "#     added_salary = (salaries_merged[\"salary_next_year\"] - salaries_merged[\"salary\"]) / salaries_merged[\"salary\"] \n",
    "#     salaries_merged[\"added_salary\"] = added_salary\n",
    "\n",
    "#     salaries_merged = salaries_merged[salaries_merged[\"added_salary\"] > -0.1]\n",
    "#     salaries_merged[\"T\"] = salaries_merged[\"added_salary\"] > 0.1\n",
    "    \n",
    "#     stats_path = os.path.join(data_path, \"jsons\")\n",
    "\n",
    "#     stats_year = read_stats_data(stats_path, year)\n",
    "#     stats_next_year = read_stats_data(stats_path, year + 1)\n",
    "\n",
    "\n",
    "#     # Merge the two datasets\n",
    "#     stats_merged = pd.merge(stats_year,\n",
    "#                             stats_next_year,    \n",
    "#                             on=merge_on,\n",
    "#                             how=\"inner\",\n",
    "#                             suffixes=(\"\", \"_next_year\"))\n",
    "\n",
    "    \n",
    "#     a1 = salaries_merged.columns\n",
    "#     a2 = stats_merged.columns\n",
    "#     a3 = np.intersect1d(a1, a2)\n",
    "#     a3 = a3[~np.isin(a3, merge_on)]\n",
    "\n",
    "    \n",
    "#     assert len(a3) == 0, \"There are columns with the same name in both datasets\"\n",
    "\n",
    "#     # Merge the two datasets\n",
    "#     merged = pd.merge(salaries_merged,\n",
    "#                       stats_merged,\n",
    "#                         on=merge_on,\n",
    "#                         # left_on=[\"last_name\", \"first_name\"],\n",
    "#                         # right_on=[\"lastName\", \"firstName\"],\n",
    "#                         how=\"inner\")\n",
    "\n",
    "#     return merged\n",
    "    \n",
    "\n"
   ]
  },
  {
   "cell_type": "code",
   "execution_count": 134,
   "metadata": {},
   "outputs": [],
   "source": [
    "# df = pd.DataFrame()\n",
    "\n",
    "# for year in range(2013, 2018):\n",
    "\n",
    "#     # df = merge_datasets(year, \"archive\")\n",
    "#     df = df.append(merge_datasets(year, \"archive\"))\n"
   ]
  },
  {
   "cell_type": "code",
   "execution_count": 135,
   "metadata": {},
   "outputs": [
    {
     "data": {
      "text/html": [
       "<div>\n",
       "<style scoped>\n",
       "    .dataframe tbody tr th:only-of-type {\n",
       "        vertical-align: middle;\n",
       "    }\n",
       "\n",
       "    .dataframe tbody tr th {\n",
       "        vertical-align: top;\n",
       "    }\n",
       "\n",
       "    .dataframe thead th {\n",
       "        text-align: right;\n",
       "    }\n",
       "</style>\n",
       "<table border=\"1\" class=\"dataframe\">\n",
       "  <thead>\n",
       "    <tr style=\"text-align: right;\">\n",
       "      <th></th>\n",
       "      <th>first_name</th>\n",
       "      <th>last_name</th>\n",
       "      <th>salary</th>\n",
       "      <th>salary_next_year</th>\n",
       "      <th>added_salary</th>\n",
       "      <th>T</th>\n",
       "      <th>age_group</th>\n",
       "      <th>team_name</th>\n",
       "      <th>shots_per_game</th>\n",
       "      <th>goals_per_game</th>\n",
       "      <th>pass_success</th>\n",
       "      <th>rating</th>\n",
       "      <th>minutes_per_game</th>\n",
       "      <th>age_group_next_year</th>\n",
       "      <th>team_name_next_year</th>\n",
       "      <th>shots_per_game_next_year</th>\n",
       "      <th>goals_per_game_next_year</th>\n",
       "      <th>pass_success_next_year</th>\n",
       "      <th>rating_next_year</th>\n",
       "      <th>minutes_per_game_next_year</th>\n",
       "    </tr>\n",
       "  </thead>\n",
       "  <tbody>\n",
       "    <tr>\n",
       "      <th>0</th>\n",
       "      <td>Patrice</td>\n",
       "      <td>Bernier</td>\n",
       "      <td>162333.25</td>\n",
       "      <td>205000.00</td>\n",
       "      <td>0.262834</td>\n",
       "      <td>True</td>\n",
       "      <td>&gt;35</td>\n",
       "      <td>Montreal</td>\n",
       "      <td>0.741935</td>\n",
       "      <td>0.290323</td>\n",
       "      <td>82.414393</td>\n",
       "      <td>7.101613</td>\n",
       "      <td>79.967742</td>\n",
       "      <td>&gt;35</td>\n",
       "      <td>Montreal</td>\n",
       "      <td>0.423077</td>\n",
       "      <td>0.038462</td>\n",
       "      <td>83.318057</td>\n",
       "      <td>6.752692</td>\n",
       "      <td>69.346154</td>\n",
       "    </tr>\n",
       "    <tr>\n",
       "      <th>1</th>\n",
       "      <td>Deshorn</td>\n",
       "      <td>Brown</td>\n",
       "      <td>113000.00</td>\n",
       "      <td>123000.00</td>\n",
       "      <td>0.088496</td>\n",
       "      <td>False</td>\n",
       "      <td>30-35</td>\n",
       "      <td>Colorado</td>\n",
       "      <td>3.062500</td>\n",
       "      <td>0.406250</td>\n",
       "      <td>68.894009</td>\n",
       "      <td>6.750625</td>\n",
       "      <td>70.156250</td>\n",
       "      <td>30-35</td>\n",
       "      <td>Colorado</td>\n",
       "      <td>4.033333</td>\n",
       "      <td>0.333333</td>\n",
       "      <td>76.344086</td>\n",
       "      <td>6.833333</td>\n",
       "      <td>76.266667</td>\n",
       "    </tr>\n",
       "    <tr>\n",
       "      <th>2</th>\n",
       "      <td>Will</td>\n",
       "      <td>Bruin</td>\n",
       "      <td>165000.00</td>\n",
       "      <td>172500.00</td>\n",
       "      <td>0.045455</td>\n",
       "      <td>False</td>\n",
       "      <td>30-35</td>\n",
       "      <td>Houston</td>\n",
       "      <td>3.117647</td>\n",
       "      <td>0.500000</td>\n",
       "      <td>70.258621</td>\n",
       "      <td>6.912353</td>\n",
       "      <td>84.647059</td>\n",
       "      <td>30-35</td>\n",
       "      <td>Houston</td>\n",
       "      <td>2.518519</td>\n",
       "      <td>0.407407</td>\n",
       "      <td>70.967742</td>\n",
       "      <td>6.880000</td>\n",
       "      <td>76.888889</td>\n",
       "    </tr>\n",
       "    <tr>\n",
       "      <th>3</th>\n",
       "      <td>Edson</td>\n",
       "      <td>Buddle</td>\n",
       "      <td>275000.00</td>\n",
       "      <td>325000.00</td>\n",
       "      <td>0.181818</td>\n",
       "      <td>True</td>\n",
       "      <td>&gt;35</td>\n",
       "      <td>Colorado</td>\n",
       "      <td>2.240000</td>\n",
       "      <td>0.320000</td>\n",
       "      <td>74.122807</td>\n",
       "      <td>6.681600</td>\n",
       "      <td>67.320000</td>\n",
       "      <td>&gt;35</td>\n",
       "      <td>Colorado</td>\n",
       "      <td>1.833333</td>\n",
       "      <td>0.166667</td>\n",
       "      <td>72.625698</td>\n",
       "      <td>6.522778</td>\n",
       "      <td>62.000000</td>\n",
       "    </tr>\n",
       "    <tr>\n",
       "      <th>4</th>\n",
       "      <td>Conor</td>\n",
       "      <td>Casey</td>\n",
       "      <td>175000.00</td>\n",
       "      <td>192500.00</td>\n",
       "      <td>0.100000</td>\n",
       "      <td>False</td>\n",
       "      <td>&gt;35</td>\n",
       "      <td>Philadelphia</td>\n",
       "      <td>2.064516</td>\n",
       "      <td>0.451613</td>\n",
       "      <td>64.664804</td>\n",
       "      <td>6.860968</td>\n",
       "      <td>71.193548</td>\n",
       "      <td>&gt;35</td>\n",
       "      <td>Philadelphia</td>\n",
       "      <td>1.560000</td>\n",
       "      <td>0.360000</td>\n",
       "      <td>65.668203</td>\n",
       "      <td>6.734800</td>\n",
       "      <td>57.360000</td>\n",
       "    </tr>\n",
       "    <tr>\n",
       "      <th>...</th>\n",
       "      <td>...</td>\n",
       "      <td>...</td>\n",
       "      <td>...</td>\n",
       "      <td>...</td>\n",
       "      <td>...</td>\n",
       "      <td>...</td>\n",
       "      <td>...</td>\n",
       "      <td>...</td>\n",
       "      <td>...</td>\n",
       "      <td>...</td>\n",
       "      <td>...</td>\n",
       "      <td>...</td>\n",
       "      <td>...</td>\n",
       "      <td>...</td>\n",
       "      <td>...</td>\n",
       "      <td>...</td>\n",
       "      <td>...</td>\n",
       "      <td>...</td>\n",
       "      <td>...</td>\n",
       "      <td>...</td>\n",
       "    </tr>\n",
       "    <tr>\n",
       "      <th>28</th>\n",
       "      <td>Danny</td>\n",
       "      <td>Hoesen</td>\n",
       "      <td>503129.00</td>\n",
       "      <td>518000.00</td>\n",
       "      <td>0.029557</td>\n",
       "      <td>False</td>\n",
       "      <td>30-35</td>\n",
       "      <td>San Jose</td>\n",
       "      <td>2.181818</td>\n",
       "      <td>0.303030</td>\n",
       "      <td>71.381032</td>\n",
       "      <td>6.680303</td>\n",
       "      <td>58.454545</td>\n",
       "      <td>30-35</td>\n",
       "      <td>San Jose</td>\n",
       "      <td>2.441176</td>\n",
       "      <td>0.441176</td>\n",
       "      <td>70.902394</td>\n",
       "      <td>6.782059</td>\n",
       "      <td>73.176471</td>\n",
       "    </tr>\n",
       "    <tr>\n",
       "      <th>29</th>\n",
       "      <td>Chris</td>\n",
       "      <td>Wondolowski</td>\n",
       "      <td>800000.00</td>\n",
       "      <td>800000.00</td>\n",
       "      <td>0.000000</td>\n",
       "      <td>False</td>\n",
       "      <td>&gt;35</td>\n",
       "      <td>San Jose</td>\n",
       "      <td>2.314286</td>\n",
       "      <td>0.600000</td>\n",
       "      <td>78.516903</td>\n",
       "      <td>6.874286</td>\n",
       "      <td>89.457143</td>\n",
       "      <td>&gt;35</td>\n",
       "      <td>San Jose</td>\n",
       "      <td>1.705882</td>\n",
       "      <td>0.441176</td>\n",
       "      <td>74.611399</td>\n",
       "      <td>6.623529</td>\n",
       "      <td>67.352941</td>\n",
       "    </tr>\n",
       "    <tr>\n",
       "      <th>30</th>\n",
       "      <td>Sebastian</td>\n",
       "      <td>Giovinco</td>\n",
       "      <td>7115555.67</td>\n",
       "      <td>7115555.67</td>\n",
       "      <td>0.000000</td>\n",
       "      <td>False</td>\n",
       "      <td>&gt;35</td>\n",
       "      <td>Toronto</td>\n",
       "      <td>4.862069</td>\n",
       "      <td>0.827586</td>\n",
       "      <td>72.928177</td>\n",
       "      <td>7.463793</td>\n",
       "      <td>83.482759</td>\n",
       "      <td>&gt;35</td>\n",
       "      <td>Toronto</td>\n",
       "      <td>5.964286</td>\n",
       "      <td>0.714286</td>\n",
       "      <td>74.907749</td>\n",
       "      <td>7.535714</td>\n",
       "      <td>85.214286</td>\n",
       "    </tr>\n",
       "    <tr>\n",
       "      <th>31</th>\n",
       "      <td>Tosaint</td>\n",
       "      <td>Ricketts</td>\n",
       "      <td>193166.67</td>\n",
       "      <td>203174.67</td>\n",
       "      <td>0.051810</td>\n",
       "      <td>False</td>\n",
       "      <td>30-35</td>\n",
       "      <td>Toronto</td>\n",
       "      <td>1.434783</td>\n",
       "      <td>0.347826</td>\n",
       "      <td>69.189189</td>\n",
       "      <td>6.724348</td>\n",
       "      <td>47.478261</td>\n",
       "      <td>30-35</td>\n",
       "      <td>Toronto</td>\n",
       "      <td>1.111111</td>\n",
       "      <td>0.166667</td>\n",
       "      <td>79.104478</td>\n",
       "      <td>6.271111</td>\n",
       "      <td>33.500000</td>\n",
       "    </tr>\n",
       "    <tr>\n",
       "      <th>32</th>\n",
       "      <td>Yordy</td>\n",
       "      <td>Reyna</td>\n",
       "      <td>533700.04</td>\n",
       "      <td>533700.04</td>\n",
       "      <td>0.000000</td>\n",
       "      <td>False</td>\n",
       "      <td>27-30</td>\n",
       "      <td>Vancouver</td>\n",
       "      <td>1.285714</td>\n",
       "      <td>0.428571</td>\n",
       "      <td>78.590786</td>\n",
       "      <td>6.797143</td>\n",
       "      <td>60.047619</td>\n",
       "      <td>27-30</td>\n",
       "      <td>Vancouver</td>\n",
       "      <td>1.653846</td>\n",
       "      <td>0.576923</td>\n",
       "      <td>84.433164</td>\n",
       "      <td>6.924615</td>\n",
       "      <td>72.230769</td>\n",
       "    </tr>\n",
       "  </tbody>\n",
       "</table>\n",
       "<p>166 rows × 20 columns</p>\n",
       "</div>"
      ],
      "text/plain": [
       "   first_name    last_name      salary  salary_next_year  added_salary      T  \\\n",
       "0     Patrice      Bernier   162333.25         205000.00      0.262834   True   \n",
       "1     Deshorn        Brown   113000.00         123000.00      0.088496  False   \n",
       "2        Will        Bruin   165000.00         172500.00      0.045455  False   \n",
       "3       Edson       Buddle   275000.00         325000.00      0.181818   True   \n",
       "4       Conor        Casey   175000.00         192500.00      0.100000  False   \n",
       "..        ...          ...         ...               ...           ...    ...   \n",
       "28      Danny       Hoesen   503129.00         518000.00      0.029557  False   \n",
       "29      Chris  Wondolowski   800000.00         800000.00      0.000000  False   \n",
       "30  Sebastian     Giovinco  7115555.67        7115555.67      0.000000  False   \n",
       "31    Tosaint     Ricketts   193166.67         203174.67      0.051810  False   \n",
       "32      Yordy        Reyna   533700.04         533700.04      0.000000  False   \n",
       "\n",
       "   age_group     team_name  shots_per_game  goals_per_game  pass_success  \\\n",
       "0        >35      Montreal        0.741935        0.290323     82.414393   \n",
       "1      30-35      Colorado        3.062500        0.406250     68.894009   \n",
       "2      30-35       Houston        3.117647        0.500000     70.258621   \n",
       "3        >35      Colorado        2.240000        0.320000     74.122807   \n",
       "4        >35  Philadelphia        2.064516        0.451613     64.664804   \n",
       "..       ...           ...             ...             ...           ...   \n",
       "28     30-35      San Jose        2.181818        0.303030     71.381032   \n",
       "29       >35      San Jose        2.314286        0.600000     78.516903   \n",
       "30       >35       Toronto        4.862069        0.827586     72.928177   \n",
       "31     30-35       Toronto        1.434783        0.347826     69.189189   \n",
       "32     27-30     Vancouver        1.285714        0.428571     78.590786   \n",
       "\n",
       "      rating  minutes_per_game age_group_next_year team_name_next_year  \\\n",
       "0   7.101613         79.967742                 >35            Montreal   \n",
       "1   6.750625         70.156250               30-35            Colorado   \n",
       "2   6.912353         84.647059               30-35             Houston   \n",
       "3   6.681600         67.320000                 >35            Colorado   \n",
       "4   6.860968         71.193548                 >35        Philadelphia   \n",
       "..       ...               ...                 ...                 ...   \n",
       "28  6.680303         58.454545               30-35            San Jose   \n",
       "29  6.874286         89.457143                 >35            San Jose   \n",
       "30  7.463793         83.482759                 >35             Toronto   \n",
       "31  6.724348         47.478261               30-35             Toronto   \n",
       "32  6.797143         60.047619               27-30           Vancouver   \n",
       "\n",
       "    shots_per_game_next_year  goals_per_game_next_year  \\\n",
       "0                   0.423077                  0.038462   \n",
       "1                   4.033333                  0.333333   \n",
       "2                   2.518519                  0.407407   \n",
       "3                   1.833333                  0.166667   \n",
       "4                   1.560000                  0.360000   \n",
       "..                       ...                       ...   \n",
       "28                  2.441176                  0.441176   \n",
       "29                  1.705882                  0.441176   \n",
       "30                  5.964286                  0.714286   \n",
       "31                  1.111111                  0.166667   \n",
       "32                  1.653846                  0.576923   \n",
       "\n",
       "    pass_success_next_year  rating_next_year  minutes_per_game_next_year  \n",
       "0                83.318057          6.752692                   69.346154  \n",
       "1                76.344086          6.833333                   76.266667  \n",
       "2                70.967742          6.880000                   76.888889  \n",
       "3                72.625698          6.522778                   62.000000  \n",
       "4                65.668203          6.734800                   57.360000  \n",
       "..                     ...               ...                         ...  \n",
       "28               70.902394          6.782059                   73.176471  \n",
       "29               74.611399          6.623529                   67.352941  \n",
       "30               74.907749          7.535714                   85.214286  \n",
       "31               79.104478          6.271111                   33.500000  \n",
       "32               84.433164          6.924615                   72.230769  \n",
       "\n",
       "[166 rows x 20 columns]"
      ]
     },
     "execution_count": 135,
     "metadata": {},
     "output_type": "execute_result"
    }
   ],
   "source": [
    "df"
   ]
  },
  {
   "cell_type": "code",
   "execution_count": 116,
   "metadata": {},
   "outputs": [
    {
     "ename": "KeyError",
     "evalue": "'guaranteed_compensation_next_year'",
     "output_type": "error",
     "traceback": [
      "\u001b[0;31m---------------------------------------------------------------------------\u001b[0m",
      "\u001b[0;31mKeyError\u001b[0m                                  Traceback (most recent call last)",
      "\u001b[0;32m~/.local/lib/python3.8/site-packages/pandas/core/indexes/base.py\u001b[0m in \u001b[0;36mget_loc\u001b[0;34m(self, key, method, tolerance)\u001b[0m\n\u001b[1;32m   2894\u001b[0m             \u001b[0;32mtry\u001b[0m\u001b[0;34m:\u001b[0m\u001b[0;34m\u001b[0m\u001b[0;34m\u001b[0m\u001b[0m\n\u001b[0;32m-> 2895\u001b[0;31m                 \u001b[0;32mreturn\u001b[0m \u001b[0mself\u001b[0m\u001b[0;34m.\u001b[0m\u001b[0m_engine\u001b[0m\u001b[0;34m.\u001b[0m\u001b[0mget_loc\u001b[0m\u001b[0;34m(\u001b[0m\u001b[0mcasted_key\u001b[0m\u001b[0;34m)\u001b[0m\u001b[0;34m\u001b[0m\u001b[0;34m\u001b[0m\u001b[0m\n\u001b[0m\u001b[1;32m   2896\u001b[0m             \u001b[0;32mexcept\u001b[0m \u001b[0mKeyError\u001b[0m \u001b[0;32mas\u001b[0m \u001b[0merr\u001b[0m\u001b[0;34m:\u001b[0m\u001b[0;34m\u001b[0m\u001b[0;34m\u001b[0m\u001b[0m\n",
      "\u001b[0;32mpandas/_libs/index.pyx\u001b[0m in \u001b[0;36mpandas._libs.index.IndexEngine.get_loc\u001b[0;34m()\u001b[0m\n",
      "\u001b[0;32mpandas/_libs/index.pyx\u001b[0m in \u001b[0;36mpandas._libs.index.IndexEngine.get_loc\u001b[0;34m()\u001b[0m\n",
      "\u001b[0;32mpandas/_libs/hashtable_class_helper.pxi\u001b[0m in \u001b[0;36mpandas._libs.hashtable.PyObjectHashTable.get_item\u001b[0;34m()\u001b[0m\n",
      "\u001b[0;32mpandas/_libs/hashtable_class_helper.pxi\u001b[0m in \u001b[0;36mpandas._libs.hashtable.PyObjectHashTable.get_item\u001b[0;34m()\u001b[0m\n",
      "\u001b[0;31mKeyError\u001b[0m: 'guaranteed_compensation_next_year'",
      "\nThe above exception was the direct cause of the following exception:\n",
      "\u001b[0;31mKeyError\u001b[0m                                  Traceback (most recent call last)",
      "\u001b[0;32m<ipython-input-116-c84f234cfbb7>\u001b[0m in \u001b[0;36m<module>\u001b[0;34m\u001b[0m\n\u001b[0;32m----> 1\u001b[0;31m \u001b[0madded_salary\u001b[0m \u001b[0;34m=\u001b[0m \u001b[0;34m(\u001b[0m\u001b[0mdf\u001b[0m\u001b[0;34m[\u001b[0m\u001b[0;34m\"guaranteed_compensation_next_year\"\u001b[0m\u001b[0;34m]\u001b[0m \u001b[0;34m-\u001b[0m \u001b[0mdf\u001b[0m\u001b[0;34m[\u001b[0m\u001b[0;34m\"guaranteed_compensation\"\u001b[0m\u001b[0;34m]\u001b[0m\u001b[0;34m)\u001b[0m \u001b[0;34m/\u001b[0m \u001b[0mdf\u001b[0m\u001b[0;34m[\u001b[0m\u001b[0;34m\"guaranteed_compensation\"\u001b[0m\u001b[0;34m]\u001b[0m\u001b[0;34m\u001b[0m\u001b[0;34m\u001b[0m\u001b[0m\n\u001b[0m\u001b[1;32m      2\u001b[0m \u001b[0mdf\u001b[0m\u001b[0;34m[\u001b[0m\u001b[0;34m\"added_salary\"\u001b[0m\u001b[0;34m]\u001b[0m \u001b[0;34m=\u001b[0m \u001b[0madded_salary\u001b[0m\u001b[0;34m\u001b[0m\u001b[0;34m\u001b[0m\u001b[0m\n\u001b[1;32m      3\u001b[0m \u001b[0;34m\u001b[0m\u001b[0m\n\u001b[1;32m      4\u001b[0m \u001b[0mdf\u001b[0m \u001b[0;34m=\u001b[0m \u001b[0mdf\u001b[0m\u001b[0;34m[\u001b[0m\u001b[0mdf\u001b[0m\u001b[0;34m[\u001b[0m\u001b[0;34m\"added_salary\"\u001b[0m\u001b[0;34m]\u001b[0m \u001b[0;34m>\u001b[0m \u001b[0;34m-\u001b[0m\u001b[0;36m0.1\u001b[0m\u001b[0;34m]\u001b[0m\u001b[0;34m\u001b[0m\u001b[0;34m\u001b[0m\u001b[0m\n\u001b[1;32m      5\u001b[0m \u001b[0mdf\u001b[0m\u001b[0;34m[\u001b[0m\u001b[0;34m\"T\"\u001b[0m\u001b[0;34m]\u001b[0m \u001b[0;34m=\u001b[0m \u001b[0mdf\u001b[0m\u001b[0;34m[\u001b[0m\u001b[0;34m\"added_salary\"\u001b[0m\u001b[0;34m]\u001b[0m \u001b[0;34m>\u001b[0m \u001b[0;36m0.1\u001b[0m\u001b[0;34m\u001b[0m\u001b[0;34m\u001b[0m\u001b[0m\n",
      "\u001b[0;32m~/.local/lib/python3.8/site-packages/pandas/core/frame.py\u001b[0m in \u001b[0;36m__getitem__\u001b[0;34m(self, key)\u001b[0m\n\u001b[1;32m   2900\u001b[0m             \u001b[0;32mif\u001b[0m \u001b[0mself\u001b[0m\u001b[0;34m.\u001b[0m\u001b[0mcolumns\u001b[0m\u001b[0;34m.\u001b[0m\u001b[0mnlevels\u001b[0m \u001b[0;34m>\u001b[0m \u001b[0;36m1\u001b[0m\u001b[0;34m:\u001b[0m\u001b[0;34m\u001b[0m\u001b[0;34m\u001b[0m\u001b[0m\n\u001b[1;32m   2901\u001b[0m                 \u001b[0;32mreturn\u001b[0m \u001b[0mself\u001b[0m\u001b[0;34m.\u001b[0m\u001b[0m_getitem_multilevel\u001b[0m\u001b[0;34m(\u001b[0m\u001b[0mkey\u001b[0m\u001b[0;34m)\u001b[0m\u001b[0;34m\u001b[0m\u001b[0;34m\u001b[0m\u001b[0m\n\u001b[0;32m-> 2902\u001b[0;31m             \u001b[0mindexer\u001b[0m \u001b[0;34m=\u001b[0m \u001b[0mself\u001b[0m\u001b[0;34m.\u001b[0m\u001b[0mcolumns\u001b[0m\u001b[0;34m.\u001b[0m\u001b[0mget_loc\u001b[0m\u001b[0;34m(\u001b[0m\u001b[0mkey\u001b[0m\u001b[0;34m)\u001b[0m\u001b[0;34m\u001b[0m\u001b[0;34m\u001b[0m\u001b[0m\n\u001b[0m\u001b[1;32m   2903\u001b[0m             \u001b[0;32mif\u001b[0m \u001b[0mis_integer\u001b[0m\u001b[0;34m(\u001b[0m\u001b[0mindexer\u001b[0m\u001b[0;34m)\u001b[0m\u001b[0;34m:\u001b[0m\u001b[0;34m\u001b[0m\u001b[0;34m\u001b[0m\u001b[0m\n\u001b[1;32m   2904\u001b[0m                 \u001b[0mindexer\u001b[0m \u001b[0;34m=\u001b[0m \u001b[0;34m[\u001b[0m\u001b[0mindexer\u001b[0m\u001b[0;34m]\u001b[0m\u001b[0;34m\u001b[0m\u001b[0;34m\u001b[0m\u001b[0m\n",
      "\u001b[0;32m~/.local/lib/python3.8/site-packages/pandas/core/indexes/base.py\u001b[0m in \u001b[0;36mget_loc\u001b[0;34m(self, key, method, tolerance)\u001b[0m\n\u001b[1;32m   2895\u001b[0m                 \u001b[0;32mreturn\u001b[0m \u001b[0mself\u001b[0m\u001b[0;34m.\u001b[0m\u001b[0m_engine\u001b[0m\u001b[0;34m.\u001b[0m\u001b[0mget_loc\u001b[0m\u001b[0;34m(\u001b[0m\u001b[0mcasted_key\u001b[0m\u001b[0;34m)\u001b[0m\u001b[0;34m\u001b[0m\u001b[0;34m\u001b[0m\u001b[0m\n\u001b[1;32m   2896\u001b[0m             \u001b[0;32mexcept\u001b[0m \u001b[0mKeyError\u001b[0m \u001b[0;32mas\u001b[0m \u001b[0merr\u001b[0m\u001b[0;34m:\u001b[0m\u001b[0;34m\u001b[0m\u001b[0;34m\u001b[0m\u001b[0m\n\u001b[0;32m-> 2897\u001b[0;31m                 \u001b[0;32mraise\u001b[0m \u001b[0mKeyError\u001b[0m\u001b[0;34m(\u001b[0m\u001b[0mkey\u001b[0m\u001b[0;34m)\u001b[0m \u001b[0;32mfrom\u001b[0m \u001b[0merr\u001b[0m\u001b[0;34m\u001b[0m\u001b[0;34m\u001b[0m\u001b[0m\n\u001b[0m\u001b[1;32m   2898\u001b[0m \u001b[0;34m\u001b[0m\u001b[0m\n\u001b[1;32m   2899\u001b[0m         \u001b[0;32mif\u001b[0m \u001b[0mtolerance\u001b[0m \u001b[0;32mis\u001b[0m \u001b[0;32mnot\u001b[0m \u001b[0;32mNone\u001b[0m\u001b[0;34m:\u001b[0m\u001b[0;34m\u001b[0m\u001b[0;34m\u001b[0m\u001b[0m\n",
      "\u001b[0;31mKeyError\u001b[0m: 'guaranteed_compensation_next_year'"
     ]
    }
   ],
   "source": [
    "# added_salary = (df[\"guaranteed_compensation_next_year\"] - df[\"guaranteed_compensation\"]) / df[\"guaranteed_compensation\"] \n",
    "# df[\"added_salary\"] = added_salary\n",
    "\n",
    "# df = df[df[\"added_salary\"] > -0.1]\n",
    "# df[\"T\"] = df[\"added_salary\"] > 0.1\n",
    "\n",
    "# df = df[df[\"position\"].str.contains(\"F\")]"
   ]
  },
  {
   "cell_type": "code",
   "execution_count": 72,
   "metadata": {},
   "outputs": [
    {
     "data": {
      "text/plain": [
       "True     92\n",
       "False    89\n",
       "Name: T, dtype: int64"
      ]
     },
     "execution_count": 72,
     "metadata": {},
     "output_type": "execute_result"
    }
   ],
   "source": [
    "# df[\"T\"].value_counts()"
   ]
  },
  {
   "cell_type": "code",
   "execution_count": 73,
   "metadata": {},
   "outputs": [
    {
     "data": {
      "text/plain": [
       "13     0.741935\n",
       "17     3.062500\n",
       "18     3.117647\n",
       "19     2.240000\n",
       "28     2.064516\n",
       "         ...   \n",
       "120    2.181818\n",
       "125    2.314286\n",
       "129    4.862069\n",
       "133    1.434783\n",
       "138    1.285714\n",
       "Name: shotsPerGame, Length: 181, dtype: float64"
      ]
     },
     "execution_count": 73,
     "metadata": {},
     "output_type": "execute_result"
    }
   ],
   "source": [
    "# df[\"shotsPerGame\"]"
   ]
  },
  {
   "cell_type": "code",
   "execution_count": 74,
   "metadata": {},
   "outputs": [
    {
     "data": {
      "text/plain": [
       "F      144\n",
       "M-F     17\n",
       "F-M      9\n",
       "M/F      9\n",
       "D/F      2\n",
       "Name: position, dtype: int64"
      ]
     },
     "execution_count": 74,
     "metadata": {},
     "output_type": "execute_result"
    }
   ],
   "source": [
    "# df.position.value_counts()"
   ]
  },
  {
   "cell_type": "code",
   "execution_count": 75,
   "metadata": {},
   "outputs": [],
   "source": [
    "# df[\"shotsPerGame\"].hist()"
   ]
  },
  {
   "cell_type": "code",
   "execution_count": 76,
   "metadata": {},
   "outputs": [
    {
     "data": {
      "text/plain": [
       "['club',\n",
       " 'last_name',\n",
       " 'first_name',\n",
       " 'position',\n",
       " 'base_salary',\n",
       " 'guaranteed_compensation',\n",
       " 'height',\n",
       " 'weight',\n",
       " 'age',\n",
       " 'isManOfTheMatch',\n",
       " 'isActive',\n",
       " 'playedPositions',\n",
       " 'playedPositionsShort',\n",
       " 'teamRegionName',\n",
       " 'regionCode',\n",
       " 'tournamentShortName',\n",
       " 'apps',\n",
       " 'subOn',\n",
       " 'manOfTheMatch',\n",
       " 'goal',\n",
       " 'assistTotal',\n",
       " 'shotsPerGame',\n",
       " 'aerialWonPerGame',\n",
       " 'name',\n",
       " 'firstName',\n",
       " 'lastName',\n",
       " 'playerId',\n",
       " 'positionText',\n",
       " 'teamId',\n",
       " 'teamName',\n",
       " 'seasonId',\n",
       " 'seasonName',\n",
       " 'isOpta',\n",
       " 'tournamentId',\n",
       " 'tournamentRegionId',\n",
       " 'tournamentRegionCode',\n",
       " 'tournamentRegionName',\n",
       " 'tournamentName',\n",
       " 'rating',\n",
       " 'minsPlayed',\n",
       " 'yellowCard',\n",
       " 'redCard',\n",
       " 'passSuccess',\n",
       " 'ranking',\n",
       " 'added_salary',\n",
       " 'T']"
      ]
     },
     "execution_count": 76,
     "metadata": {},
     "output_type": "execute_result"
    }
   ],
   "source": [
    "# [col for col in df.columns if \"next_year\" not in col]"
   ]
  },
  {
   "cell_type": "code",
   "execution_count": 77,
   "metadata": {},
   "outputs": [
    {
     "data": {
      "text/plain": [
       "13       Patrice\n",
       "17       Deshorn\n",
       "18          Will\n",
       "19         Edson\n",
       "28         Conor\n",
       "         ...    \n",
       "120        Danny\n",
       "125        Chris\n",
       "129    Sebastian\n",
       "133      Tosaint\n",
       "138        Yordy\n",
       "Name: first_name, Length: 181, dtype: object"
      ]
     },
     "execution_count": 77,
     "metadata": {},
     "output_type": "execute_result"
    }
   ],
   "source": [
    "# df[\"first_name\"]"
   ]
  },
  {
   "cell_type": "code",
   "execution_count": 78,
   "metadata": {},
   "outputs": [
    {
     "data": {
      "text/plain": [
       "array(['MTL', 'COL', 'HOU', 'PHI', 'DAL', 'SJ', 'LA', 'KC', 'SEA', 'NE',\n",
       "       'CLB', 'NY', 'POR', 'VAN', 'CHI', 'RSL', 'DC', 'TOR', 'CHV', 'ORL',\n",
       "       'NYCFC', 'NYRB'], dtype=object)"
      ]
     },
     "execution_count": 78,
     "metadata": {},
     "output_type": "execute_result"
    }
   ],
   "source": [
    "df[\"club\"].unique()"
   ]
  },
  {
   "cell_type": "code",
   "execution_count": 79,
   "metadata": {},
   "outputs": [
    {
     "data": {
      "text/plain": [
       "array(['Montreal', 'Colorado', 'Houston', 'Philadelphia', 'FC Dallas',\n",
       "       'San Jose', 'L.A. Galaxy', 'Kansas City', 'Seattle', 'New England',\n",
       "       'Columbus', 'New York', 'Portland', 'Vancouver', 'Chicago',\n",
       "       'Salt Lake', 'DC United', 'Toronto', 'Chivas', 'Orlando City',\n",
       "       'New York City FC'], dtype=object)"
      ]
     },
     "execution_count": 79,
     "metadata": {},
     "output_type": "execute_result"
    }
   ],
   "source": [
    "df[\"teamName\"].unique()"
   ]
  },
  {
   "cell_type": "code",
   "execution_count": 80,
   "metadata": {},
   "outputs": [
    {
     "data": {
      "text/plain": [
       "array(['New York'], dtype=object)"
      ]
     },
     "execution_count": 80,
     "metadata": {},
     "output_type": "execute_result"
    }
   ],
   "source": [
    "df[df[\"club\"] == \"NY\"][\"teamName\"].unique()"
   ]
  },
  {
   "cell_type": "code",
   "execution_count": 81,
   "metadata": {},
   "outputs": [],
   "source": [
    "# age groups\n",
    "# 20 - 27\n",
    "# 27 - 30\n",
    "# 30 - 35\n",
    "# 35 - 100\n",
    "\n",
    "\n",
    "                         "
   ]
  },
  {
   "cell_type": "code",
   "execution_count": 82,
   "metadata": {},
   "outputs": [],
   "source": [
    "df[\"goals_normalized\"] = (df[\"goal\"] + df[\"assistTotal\"]) / df[\"apps\"]\n",
    "df[\"shotsPerGame\"] = df[\"shotsPerGame\"] / df[\"apps\"]"
   ]
  },
  {
   "cell_type": "code",
   "execution_count": null,
   "metadata": {},
   "outputs": [],
   "source": []
  },
  {
   "cell_type": "code",
   "execution_count": null,
   "metadata": {},
   "outputs": [],
   "source": []
  },
  {
   "cell_type": "code",
   "execution_count": null,
   "metadata": {},
   "outputs": [],
   "source": []
  }
 ],
 "metadata": {
  "kernelspec": {
   "display_name": "Python 3",
   "language": "python",
   "name": "python3"
  },
  "language_info": {
   "codemirror_mode": {
    "name": "ipython",
    "version": 3
   },
   "file_extension": ".py",
   "mimetype": "text/x-python",
   "name": "python",
   "nbconvert_exporter": "python",
   "pygments_lexer": "ipython3",
   "version": "3.8.10"
  },
  "orig_nbformat": 4,
  "vscode": {
   "interpreter": {
    "hash": "31f2aee4e71d21fbe5cf8b01ff0e069b9275f58929596ceb00d14d90e3e16cd6"
   }
  }
 },
 "nbformat": 4,
 "nbformat_minor": 2
}
